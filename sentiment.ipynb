{
 "cells": [
  {
   "cell_type": "code",
   "execution_count": 1,
   "metadata": {},
   "outputs": [],
   "source": [
    "import numpy as np\n",
    "import matplotlib.pyplot as plt\n",
    "import pandas as pd \n",
    "import yfinance as yf \n",
    "import requests\n",
    "from vaderSentiment.vaderSentiment import SentimentIntensityAnalyzer\n",
    "import json \n",
    "\n",
    "from collections import defaultdict\n",
    "from datetime import datetime\n",
    "\n",
    "import praw as praw"
   ]
  },
  {
   "cell_type": "code",
   "execution_count": 50,
   "metadata": {},
   "outputs": [
    {
     "ename": "KeyboardInterrupt",
     "evalue": "",
     "output_type": "error",
     "traceback": [
      "\u001b[0;31m---------------------------------------------------------------------------\u001b[0m",
      "\u001b[0;31mKeyboardInterrupt\u001b[0m                         Traceback (most recent call last)",
      "Cell \u001b[0;32mIn[50], line 18\u001b[0m\n\u001b[1;32m     15\u001b[0m url \u001b[38;5;241m=\u001b[39m \u001b[38;5;124mf\u001b[39m\u001b[38;5;124m\"\u001b[39m\u001b[38;5;124mhttp://data.gdeltproject.org/gdeltv2/\u001b[39m\u001b[38;5;132;01m{\u001b[39;00mtimestamp\u001b[38;5;132;01m}\u001b[39;00m\u001b[38;5;124m.gkg.csv.zip\u001b[39m\u001b[38;5;124m\"\u001b[39m\n\u001b[1;32m     17\u001b[0m \u001b[38;5;28;01mtry\u001b[39;00m:\n\u001b[0;32m---> 18\u001b[0m     r \u001b[38;5;241m=\u001b[39m requests\u001b[38;5;241m.\u001b[39mget(url)\n\u001b[1;32m     19\u001b[0m     \u001b[38;5;28;01mif\u001b[39;00m r\u001b[38;5;241m.\u001b[39mstatus_code \u001b[38;5;241m==\u001b[39m \u001b[38;5;241m200\u001b[39m:\n\u001b[1;32m     20\u001b[0m         \u001b[38;5;28;01mwith\u001b[39;00m zipfile\u001b[38;5;241m.\u001b[39mZipFile(BytesIO(r\u001b[38;5;241m.\u001b[39mcontent)) \u001b[38;5;28;01mas\u001b[39;00m z:\n",
      "File \u001b[0;32m/opt/anaconda3/lib/python3.12/site-packages/requests/api.py:73\u001b[0m, in \u001b[0;36mget\u001b[0;34m(url, params, **kwargs)\u001b[0m\n\u001b[1;32m     62\u001b[0m \u001b[38;5;28;01mdef\u001b[39;00m \u001b[38;5;21mget\u001b[39m(url, params\u001b[38;5;241m=\u001b[39m\u001b[38;5;28;01mNone\u001b[39;00m, \u001b[38;5;241m*\u001b[39m\u001b[38;5;241m*\u001b[39mkwargs):\n\u001b[1;32m     63\u001b[0m \u001b[38;5;250m    \u001b[39m\u001b[38;5;124mr\u001b[39m\u001b[38;5;124;03m\"\"\"Sends a GET request.\u001b[39;00m\n\u001b[1;32m     64\u001b[0m \n\u001b[1;32m     65\u001b[0m \u001b[38;5;124;03m    :param url: URL for the new :class:`Request` object.\u001b[39;00m\n\u001b[0;32m   (...)\u001b[0m\n\u001b[1;32m     70\u001b[0m \u001b[38;5;124;03m    :rtype: requests.Response\u001b[39;00m\n\u001b[1;32m     71\u001b[0m \u001b[38;5;124;03m    \"\"\"\u001b[39;00m\n\u001b[0;32m---> 73\u001b[0m     \u001b[38;5;28;01mreturn\u001b[39;00m request(\u001b[38;5;124m\"\u001b[39m\u001b[38;5;124mget\u001b[39m\u001b[38;5;124m\"\u001b[39m, url, params\u001b[38;5;241m=\u001b[39mparams, \u001b[38;5;241m*\u001b[39m\u001b[38;5;241m*\u001b[39mkwargs)\n",
      "File \u001b[0;32m/opt/anaconda3/lib/python3.12/site-packages/requests/api.py:59\u001b[0m, in \u001b[0;36mrequest\u001b[0;34m(method, url, **kwargs)\u001b[0m\n\u001b[1;32m     55\u001b[0m \u001b[38;5;66;03m# By using the 'with' statement we are sure the session is closed, thus we\u001b[39;00m\n\u001b[1;32m     56\u001b[0m \u001b[38;5;66;03m# avoid leaving sockets open which can trigger a ResourceWarning in some\u001b[39;00m\n\u001b[1;32m     57\u001b[0m \u001b[38;5;66;03m# cases, and look like a memory leak in others.\u001b[39;00m\n\u001b[1;32m     58\u001b[0m \u001b[38;5;28;01mwith\u001b[39;00m sessions\u001b[38;5;241m.\u001b[39mSession() \u001b[38;5;28;01mas\u001b[39;00m session:\n\u001b[0;32m---> 59\u001b[0m     \u001b[38;5;28;01mreturn\u001b[39;00m session\u001b[38;5;241m.\u001b[39mrequest(method\u001b[38;5;241m=\u001b[39mmethod, url\u001b[38;5;241m=\u001b[39murl, \u001b[38;5;241m*\u001b[39m\u001b[38;5;241m*\u001b[39mkwargs)\n",
      "File \u001b[0;32m/opt/anaconda3/lib/python3.12/site-packages/requests/sessions.py:589\u001b[0m, in \u001b[0;36mSession.request\u001b[0;34m(self, method, url, params, data, headers, cookies, files, auth, timeout, allow_redirects, proxies, hooks, stream, verify, cert, json)\u001b[0m\n\u001b[1;32m    584\u001b[0m send_kwargs \u001b[38;5;241m=\u001b[39m {\n\u001b[1;32m    585\u001b[0m     \u001b[38;5;124m\"\u001b[39m\u001b[38;5;124mtimeout\u001b[39m\u001b[38;5;124m\"\u001b[39m: timeout,\n\u001b[1;32m    586\u001b[0m     \u001b[38;5;124m\"\u001b[39m\u001b[38;5;124mallow_redirects\u001b[39m\u001b[38;5;124m\"\u001b[39m: allow_redirects,\n\u001b[1;32m    587\u001b[0m }\n\u001b[1;32m    588\u001b[0m send_kwargs\u001b[38;5;241m.\u001b[39mupdate(settings)\n\u001b[0;32m--> 589\u001b[0m resp \u001b[38;5;241m=\u001b[39m \u001b[38;5;28mself\u001b[39m\u001b[38;5;241m.\u001b[39msend(prep, \u001b[38;5;241m*\u001b[39m\u001b[38;5;241m*\u001b[39msend_kwargs)\n\u001b[1;32m    591\u001b[0m \u001b[38;5;28;01mreturn\u001b[39;00m resp\n",
      "File \u001b[0;32m/opt/anaconda3/lib/python3.12/site-packages/requests/sessions.py:703\u001b[0m, in \u001b[0;36mSession.send\u001b[0;34m(self, request, **kwargs)\u001b[0m\n\u001b[1;32m    700\u001b[0m start \u001b[38;5;241m=\u001b[39m preferred_clock()\n\u001b[1;32m    702\u001b[0m \u001b[38;5;66;03m# Send the request\u001b[39;00m\n\u001b[0;32m--> 703\u001b[0m r \u001b[38;5;241m=\u001b[39m adapter\u001b[38;5;241m.\u001b[39msend(request, \u001b[38;5;241m*\u001b[39m\u001b[38;5;241m*\u001b[39mkwargs)\n\u001b[1;32m    705\u001b[0m \u001b[38;5;66;03m# Total elapsed time of the request (approximately)\u001b[39;00m\n\u001b[1;32m    706\u001b[0m elapsed \u001b[38;5;241m=\u001b[39m preferred_clock() \u001b[38;5;241m-\u001b[39m start\n",
      "File \u001b[0;32m/opt/anaconda3/lib/python3.12/site-packages/requests/adapters.py:589\u001b[0m, in \u001b[0;36mHTTPAdapter.send\u001b[0;34m(self, request, stream, timeout, verify, cert, proxies)\u001b[0m\n\u001b[1;32m    586\u001b[0m     timeout \u001b[38;5;241m=\u001b[39m TimeoutSauce(connect\u001b[38;5;241m=\u001b[39mtimeout, read\u001b[38;5;241m=\u001b[39mtimeout)\n\u001b[1;32m    588\u001b[0m \u001b[38;5;28;01mtry\u001b[39;00m:\n\u001b[0;32m--> 589\u001b[0m     resp \u001b[38;5;241m=\u001b[39m conn\u001b[38;5;241m.\u001b[39murlopen(\n\u001b[1;32m    590\u001b[0m         method\u001b[38;5;241m=\u001b[39mrequest\u001b[38;5;241m.\u001b[39mmethod,\n\u001b[1;32m    591\u001b[0m         url\u001b[38;5;241m=\u001b[39murl,\n\u001b[1;32m    592\u001b[0m         body\u001b[38;5;241m=\u001b[39mrequest\u001b[38;5;241m.\u001b[39mbody,\n\u001b[1;32m    593\u001b[0m         headers\u001b[38;5;241m=\u001b[39mrequest\u001b[38;5;241m.\u001b[39mheaders,\n\u001b[1;32m    594\u001b[0m         redirect\u001b[38;5;241m=\u001b[39m\u001b[38;5;28;01mFalse\u001b[39;00m,\n\u001b[1;32m    595\u001b[0m         assert_same_host\u001b[38;5;241m=\u001b[39m\u001b[38;5;28;01mFalse\u001b[39;00m,\n\u001b[1;32m    596\u001b[0m         preload_content\u001b[38;5;241m=\u001b[39m\u001b[38;5;28;01mFalse\u001b[39;00m,\n\u001b[1;32m    597\u001b[0m         decode_content\u001b[38;5;241m=\u001b[39m\u001b[38;5;28;01mFalse\u001b[39;00m,\n\u001b[1;32m    598\u001b[0m         retries\u001b[38;5;241m=\u001b[39m\u001b[38;5;28mself\u001b[39m\u001b[38;5;241m.\u001b[39mmax_retries,\n\u001b[1;32m    599\u001b[0m         timeout\u001b[38;5;241m=\u001b[39mtimeout,\n\u001b[1;32m    600\u001b[0m         chunked\u001b[38;5;241m=\u001b[39mchunked,\n\u001b[1;32m    601\u001b[0m     )\n\u001b[1;32m    603\u001b[0m \u001b[38;5;28;01mexcept\u001b[39;00m (ProtocolError, \u001b[38;5;167;01mOSError\u001b[39;00m) \u001b[38;5;28;01mas\u001b[39;00m err:\n\u001b[1;32m    604\u001b[0m     \u001b[38;5;28;01mraise\u001b[39;00m \u001b[38;5;167;01mConnectionError\u001b[39;00m(err, request\u001b[38;5;241m=\u001b[39mrequest)\n",
      "File \u001b[0;32m/opt/anaconda3/lib/python3.12/site-packages/urllib3/connectionpool.py:789\u001b[0m, in \u001b[0;36mHTTPConnectionPool.urlopen\u001b[0;34m(self, method, url, body, headers, retries, redirect, assert_same_host, timeout, pool_timeout, release_conn, chunked, body_pos, preload_content, decode_content, **response_kw)\u001b[0m\n\u001b[1;32m    786\u001b[0m response_conn \u001b[38;5;241m=\u001b[39m conn \u001b[38;5;28;01mif\u001b[39;00m \u001b[38;5;129;01mnot\u001b[39;00m release_conn \u001b[38;5;28;01melse\u001b[39;00m \u001b[38;5;28;01mNone\u001b[39;00m\n\u001b[1;32m    788\u001b[0m \u001b[38;5;66;03m# Make the request on the HTTPConnection object\u001b[39;00m\n\u001b[0;32m--> 789\u001b[0m response \u001b[38;5;241m=\u001b[39m \u001b[38;5;28mself\u001b[39m\u001b[38;5;241m.\u001b[39m_make_request(\n\u001b[1;32m    790\u001b[0m     conn,\n\u001b[1;32m    791\u001b[0m     method,\n\u001b[1;32m    792\u001b[0m     url,\n\u001b[1;32m    793\u001b[0m     timeout\u001b[38;5;241m=\u001b[39mtimeout_obj,\n\u001b[1;32m    794\u001b[0m     body\u001b[38;5;241m=\u001b[39mbody,\n\u001b[1;32m    795\u001b[0m     headers\u001b[38;5;241m=\u001b[39mheaders,\n\u001b[1;32m    796\u001b[0m     chunked\u001b[38;5;241m=\u001b[39mchunked,\n\u001b[1;32m    797\u001b[0m     retries\u001b[38;5;241m=\u001b[39mretries,\n\u001b[1;32m    798\u001b[0m     response_conn\u001b[38;5;241m=\u001b[39mresponse_conn,\n\u001b[1;32m    799\u001b[0m     preload_content\u001b[38;5;241m=\u001b[39mpreload_content,\n\u001b[1;32m    800\u001b[0m     decode_content\u001b[38;5;241m=\u001b[39mdecode_content,\n\u001b[1;32m    801\u001b[0m     \u001b[38;5;241m*\u001b[39m\u001b[38;5;241m*\u001b[39mresponse_kw,\n\u001b[1;32m    802\u001b[0m )\n\u001b[1;32m    804\u001b[0m \u001b[38;5;66;03m# Everything went great!\u001b[39;00m\n\u001b[1;32m    805\u001b[0m clean_exit \u001b[38;5;241m=\u001b[39m \u001b[38;5;28;01mTrue\u001b[39;00m\n",
      "File \u001b[0;32m/opt/anaconda3/lib/python3.12/site-packages/urllib3/connectionpool.py:536\u001b[0m, in \u001b[0;36mHTTPConnectionPool._make_request\u001b[0;34m(self, conn, method, url, body, headers, retries, timeout, chunked, response_conn, preload_content, decode_content, enforce_content_length)\u001b[0m\n\u001b[1;32m    534\u001b[0m \u001b[38;5;66;03m# Receive the response from the server\u001b[39;00m\n\u001b[1;32m    535\u001b[0m \u001b[38;5;28;01mtry\u001b[39;00m:\n\u001b[0;32m--> 536\u001b[0m     response \u001b[38;5;241m=\u001b[39m conn\u001b[38;5;241m.\u001b[39mgetresponse()\n\u001b[1;32m    537\u001b[0m \u001b[38;5;28;01mexcept\u001b[39;00m (BaseSSLError, \u001b[38;5;167;01mOSError\u001b[39;00m) \u001b[38;5;28;01mas\u001b[39;00m e:\n\u001b[1;32m    538\u001b[0m     \u001b[38;5;28mself\u001b[39m\u001b[38;5;241m.\u001b[39m_raise_timeout(err\u001b[38;5;241m=\u001b[39me, url\u001b[38;5;241m=\u001b[39murl, timeout_value\u001b[38;5;241m=\u001b[39mread_timeout)\n",
      "File \u001b[0;32m/opt/anaconda3/lib/python3.12/site-packages/urllib3/connection.py:464\u001b[0m, in \u001b[0;36mHTTPConnection.getresponse\u001b[0;34m(self)\u001b[0m\n\u001b[1;32m    461\u001b[0m \u001b[38;5;28;01mfrom\u001b[39;00m \u001b[38;5;21;01m.\u001b[39;00m\u001b[38;5;21;01mresponse\u001b[39;00m \u001b[38;5;28;01mimport\u001b[39;00m HTTPResponse\n\u001b[1;32m    463\u001b[0m \u001b[38;5;66;03m# Get the response from http.client.HTTPConnection\u001b[39;00m\n\u001b[0;32m--> 464\u001b[0m httplib_response \u001b[38;5;241m=\u001b[39m \u001b[38;5;28msuper\u001b[39m()\u001b[38;5;241m.\u001b[39mgetresponse()\n\u001b[1;32m    466\u001b[0m \u001b[38;5;28;01mtry\u001b[39;00m:\n\u001b[1;32m    467\u001b[0m     assert_header_parsing(httplib_response\u001b[38;5;241m.\u001b[39mmsg)\n",
      "File \u001b[0;32m/opt/anaconda3/lib/python3.12/http/client.py:1423\u001b[0m, in \u001b[0;36mHTTPConnection.getresponse\u001b[0;34m(self)\u001b[0m\n\u001b[1;32m   1421\u001b[0m \u001b[38;5;28;01mtry\u001b[39;00m:\n\u001b[1;32m   1422\u001b[0m     \u001b[38;5;28;01mtry\u001b[39;00m:\n\u001b[0;32m-> 1423\u001b[0m         response\u001b[38;5;241m.\u001b[39mbegin()\n\u001b[1;32m   1424\u001b[0m     \u001b[38;5;28;01mexcept\u001b[39;00m \u001b[38;5;167;01mConnectionError\u001b[39;00m:\n\u001b[1;32m   1425\u001b[0m         \u001b[38;5;28mself\u001b[39m\u001b[38;5;241m.\u001b[39mclose()\n",
      "File \u001b[0;32m/opt/anaconda3/lib/python3.12/http/client.py:331\u001b[0m, in \u001b[0;36mHTTPResponse.begin\u001b[0;34m(self)\u001b[0m\n\u001b[1;32m    329\u001b[0m \u001b[38;5;66;03m# read until we get a non-100 response\u001b[39;00m\n\u001b[1;32m    330\u001b[0m \u001b[38;5;28;01mwhile\u001b[39;00m \u001b[38;5;28;01mTrue\u001b[39;00m:\n\u001b[0;32m--> 331\u001b[0m     version, status, reason \u001b[38;5;241m=\u001b[39m \u001b[38;5;28mself\u001b[39m\u001b[38;5;241m.\u001b[39m_read_status()\n\u001b[1;32m    332\u001b[0m     \u001b[38;5;28;01mif\u001b[39;00m status \u001b[38;5;241m!=\u001b[39m CONTINUE:\n\u001b[1;32m    333\u001b[0m         \u001b[38;5;28;01mbreak\u001b[39;00m\n",
      "File \u001b[0;32m/opt/anaconda3/lib/python3.12/http/client.py:292\u001b[0m, in \u001b[0;36mHTTPResponse._read_status\u001b[0;34m(self)\u001b[0m\n\u001b[1;32m    291\u001b[0m \u001b[38;5;28;01mdef\u001b[39;00m \u001b[38;5;21m_read_status\u001b[39m(\u001b[38;5;28mself\u001b[39m):\n\u001b[0;32m--> 292\u001b[0m     line \u001b[38;5;241m=\u001b[39m \u001b[38;5;28mstr\u001b[39m(\u001b[38;5;28mself\u001b[39m\u001b[38;5;241m.\u001b[39mfp\u001b[38;5;241m.\u001b[39mreadline(_MAXLINE \u001b[38;5;241m+\u001b[39m \u001b[38;5;241m1\u001b[39m), \u001b[38;5;124m\"\u001b[39m\u001b[38;5;124miso-8859-1\u001b[39m\u001b[38;5;124m\"\u001b[39m)\n\u001b[1;32m    293\u001b[0m     \u001b[38;5;28;01mif\u001b[39;00m \u001b[38;5;28mlen\u001b[39m(line) \u001b[38;5;241m>\u001b[39m _MAXLINE:\n\u001b[1;32m    294\u001b[0m         \u001b[38;5;28;01mraise\u001b[39;00m LineTooLong(\u001b[38;5;124m\"\u001b[39m\u001b[38;5;124mstatus line\u001b[39m\u001b[38;5;124m\"\u001b[39m)\n",
      "File \u001b[0;32m/opt/anaconda3/lib/python3.12/socket.py:707\u001b[0m, in \u001b[0;36mSocketIO.readinto\u001b[0;34m(self, b)\u001b[0m\n\u001b[1;32m    705\u001b[0m \u001b[38;5;28;01mwhile\u001b[39;00m \u001b[38;5;28;01mTrue\u001b[39;00m:\n\u001b[1;32m    706\u001b[0m     \u001b[38;5;28;01mtry\u001b[39;00m:\n\u001b[0;32m--> 707\u001b[0m         \u001b[38;5;28;01mreturn\u001b[39;00m \u001b[38;5;28mself\u001b[39m\u001b[38;5;241m.\u001b[39m_sock\u001b[38;5;241m.\u001b[39mrecv_into(b)\n\u001b[1;32m    708\u001b[0m     \u001b[38;5;28;01mexcept\u001b[39;00m timeout:\n\u001b[1;32m    709\u001b[0m         \u001b[38;5;28mself\u001b[39m\u001b[38;5;241m.\u001b[39m_timeout_occurred \u001b[38;5;241m=\u001b[39m \u001b[38;5;28;01mTrue\u001b[39;00m\n",
      "\u001b[0;31mKeyboardInterrupt\u001b[0m: "
     ]
    }
   ],
   "source": [
    "import pandas as pd\n",
    "import requests, zipfile\n",
    "from io import BytesIO\n",
    "from datetime import datetime, timedelta\n",
    "\n",
    "start_date = datetime(2023, 4, 12)\n",
    "end_date = datetime(2023, 5, 12)\n",
    "interval_hours = [0, 6, 12, 18]\n",
    "\n",
    "results = []\n",
    "\n",
    "for single_date in pd.date_range(start_date, end_date):\n",
    "    for hour in interval_hours:\n",
    "        timestamp = single_date.replace(hour=hour).strftime('%Y%m%d%H%M%S')\n",
    "        url = f\"http://data.gdeltproject.org/gdeltv2/{timestamp}.gkg.csv.zip\"\n",
    "\n",
    "        try:\n",
    "            r = requests.get(url)\n",
    "            if r.status_code == 200:\n",
    "                with zipfile.ZipFile(BytesIO(r.content)) as z:\n",
    "                    file_name = z.namelist()[0]\n",
    "                    with z.open(file_name) as f:\n",
    "                        df = pd.read_csv(f, sep='\\t', header=None, low_memory=False, encoding='ISO-8859-1')\n",
    "\n",
    "                        if df.shape[1] >= 21:\n",
    "                            df = df.iloc[:, :21]\n",
    "                            df.columns = [\n",
    "                                \"GKGRECORDID\", \"DATE\", \"SourceCollectionIdentifier\", \"SourceCommonName\", \"DocumentIdentifier\",\n",
    "                                \"Themes\", \"Locations\", \"Persons\", \"Organizations\", \"V2Tone\", \"Dates\", \"GCAM\", \"SharingImage\",\n",
    "                                \"RelatedImages\", \"SocialImageEmbeds\", \"SocialVideoEmbeds\", \"Quotations\", \"AllNames\", \"Amounts\",\n",
    "                                \"TranslationInfo\", \"Extras\"\n",
    "                            ]\n",
    "\n",
    "                            for _, row in df.iterrows():\n",
    "                                tone_str = str(row['V2Tone'])\n",
    "                                if tone_str and '#' in tone_str:\n",
    "                                    try:\n",
    "                                        tone = float(tone_str.split('#')[0])  # Only take the first number before a comma\n",
    "                                        results.append({\n",
    "                                            'datetime': single_date.replace(hour=hour),\n",
    "                                            'tone': tone,\n",
    "                                            'url': row['DocumentIdentifier']\n",
    "                                        })\n",
    "                                    except Exception as e:\n",
    "                                        print(f\"Tone parse error: {e} — Raw tone: {tone_str}\")\n",
    "            else:\n",
    "                print(f\"No file for {timestamp} — Status: {r.status_code}\")\n",
    "        except Exception as e:\n",
    "            print(f\"Error for {timestamp}: {e}\")\n",
    "\n",
    "# Turn into DataFrame\n",
    "sentiment_df = pd.DataFrame(results)\n",
    "\n",
    "if not sentiment_df.empty:\n",
    "    sentiment_df['datetime'] = pd.to_datetime(sentiment_df['datetime'])\n",
    "    sentiment_df = sentiment_df.dropna(subset=['tone'])\n",
    "    daily_sentiment = sentiment_df.groupby(sentiment_df['datetime'].dt.date)['tone'].mean().reset_index()\n",
    "    daily_sentiment.columns = ['date', 'avg_tone']\n",
    "    print(daily_sentiment)\n",
    "else:\n",
    "    print(\"No sentiment data found in the sample range.\")\n",
    "    \n"
   ]
  },
  {
   "cell_type": "code",
   "execution_count": 7,
   "metadata": {},
   "outputs": [
    {
     "name": "stdout",
     "output_type": "stream",
     "text": [
      "Processing May 2023...\n",
      "Saved monthly_sentiment/sentiment_2023_05.csv\n",
      "Processing June 2023...\n",
      "Error for 20230616060000: Error tokenizing data. C error: Expected 27 fields in line 784, saw 32\n",
      "\n",
      "Saved monthly_sentiment/sentiment_2023_06.csv\n",
      "Processing July 2023...\n",
      "Saved monthly_sentiment/sentiment_2023_07.csv\n",
      "Processing August 2023...\n",
      "Saved monthly_sentiment/sentiment_2023_08.csv\n",
      "Processing September 2023...\n",
      "Saved monthly_sentiment/sentiment_2023_09.csv\n",
      "Processing October 2023...\n",
      "Saved monthly_sentiment/sentiment_2023_10.csv\n",
      "Processing November 2023...\n",
      "Saved monthly_sentiment/sentiment_2023_11.csv\n",
      "Processing December 2023...\n",
      "Saved monthly_sentiment/sentiment_2023_12.csv\n",
      "Processing January 2024...\n",
      "Saved monthly_sentiment/sentiment_2024_01.csv\n",
      "Processing February 2024...\n",
      "Saved monthly_sentiment/sentiment_2024_02.csv\n",
      "Processing March 2024...\n",
      "Saved monthly_sentiment/sentiment_2024_03.csv\n",
      "Processing April 2024...\n",
      "Saved monthly_sentiment/sentiment_2024_04.csv\n",
      "Processing May 2024...\n",
      "Saved monthly_sentiment/sentiment_2024_05.csv\n",
      "Processing June 2024...\n",
      "Saved monthly_sentiment/sentiment_2024_06.csv\n",
      "Processing July 2024...\n",
      "Saved monthly_sentiment/sentiment_2024_07.csv\n",
      "Processing August 2024...\n",
      "Saved monthly_sentiment/sentiment_2024_08.csv\n",
      "Processing September 2024...\n",
      "Saved monthly_sentiment/sentiment_2024_09.csv\n",
      "Processing October 2024...\n",
      "Saved monthly_sentiment/sentiment_2024_10.csv\n",
      "Processing November 2024...\n",
      "Saved monthly_sentiment/sentiment_2024_11.csv\n",
      "Processing December 2024...\n",
      "Saved monthly_sentiment/sentiment_2024_12.csv\n",
      "Processing January 2025...\n",
      "Saved monthly_sentiment/sentiment_2025_01.csv\n",
      "Processing February 2025...\n",
      "Saved monthly_sentiment/sentiment_2025_02.csv\n",
      "Processing March 2025...\n",
      "Saved monthly_sentiment/sentiment_2025_03.csv\n",
      "Processing April 2025...\n",
      "No file for 20250411180000 — Status: 404\n",
      "No file for 20250412000000 — Status: 404\n",
      "No file for 20250412060000 — Status: 404\n",
      "No file for 20250412120000 — Status: 404\n",
      "No file for 20250412180000 — Status: 404\n",
      "No file for 20250413000000 — Status: 404\n",
      "No file for 20250413060000 — Status: 404\n",
      "No file for 20250413120000 — Status: 404\n",
      "No file for 20250413180000 — Status: 404\n",
      "No file for 20250414000000 — Status: 404\n",
      "No file for 20250414060000 — Status: 404\n",
      "No file for 20250414120000 — Status: 404\n",
      "No file for 20250414180000 — Status: 404\n",
      "No file for 20250415000000 — Status: 404\n",
      "No file for 20250415060000 — Status: 404\n",
      "No file for 20250415120000 — Status: 404\n",
      "No file for 20250415180000 — Status: 404\n",
      "No file for 20250416000000 — Status: 404\n",
      "No file for 20250416060000 — Status: 404\n",
      "No file for 20250416120000 — Status: 404\n",
      "No file for 20250416180000 — Status: 404\n",
      "No file for 20250417000000 — Status: 404\n",
      "No file for 20250417060000 — Status: 404\n",
      "No file for 20250417120000 — Status: 404\n",
      "No file for 20250417180000 — Status: 404\n",
      "No file for 20250418000000 — Status: 404\n",
      "No file for 20250418060000 — Status: 404\n",
      "No file for 20250418120000 — Status: 404\n",
      "No file for 20250418180000 — Status: 404\n",
      "No file for 20250419000000 — Status: 404\n",
      "No file for 20250419060000 — Status: 404\n",
      "No file for 20250419120000 — Status: 404\n",
      "No file for 20250419180000 — Status: 404\n",
      "No file for 20250420000000 — Status: 404\n",
      "No file for 20250420060000 — Status: 404\n",
      "No file for 20250420120000 — Status: 404\n",
      "No file for 20250420180000 — Status: 404\n",
      "No file for 20250421000000 — Status: 404\n",
      "No file for 20250421060000 — Status: 404\n",
      "No file for 20250421120000 — Status: 404\n",
      "No file for 20250421180000 — Status: 404\n",
      "No file for 20250422000000 — Status: 404\n",
      "No file for 20250422060000 — Status: 404\n",
      "No file for 20250422120000 — Status: 404\n",
      "No file for 20250422180000 — Status: 404\n",
      "No file for 20250423000000 — Status: 404\n",
      "No file for 20250423060000 — Status: 404\n",
      "No file for 20250423120000 — Status: 404\n",
      "No file for 20250423180000 — Status: 404\n",
      "No file for 20250424000000 — Status: 404\n",
      "No file for 20250424060000 — Status: 404\n",
      "No file for 20250424120000 — Status: 404\n",
      "No file for 20250424180000 — Status: 404\n",
      "No file for 20250425000000 — Status: 404\n",
      "No file for 20250425060000 — Status: 404\n",
      "No file for 20250425120000 — Status: 404\n",
      "No file for 20250425180000 — Status: 404\n",
      "No file for 20250426000000 — Status: 404\n",
      "No file for 20250426060000 — Status: 404\n",
      "No file for 20250426120000 — Status: 404\n",
      "No file for 20250426180000 — Status: 404\n",
      "No file for 20250427000000 — Status: 404\n",
      "No file for 20250427060000 — Status: 404\n",
      "No file for 20250427120000 — Status: 404\n",
      "No file for 20250427180000 — Status: 404\n",
      "No file for 20250428000000 — Status: 404\n",
      "No file for 20250428060000 — Status: 404\n",
      "No file for 20250428120000 — Status: 404\n",
      "No file for 20250428180000 — Status: 404\n",
      "No file for 20250429000000 — Status: 404\n",
      "No file for 20250429060000 — Status: 404\n",
      "No file for 20250429120000 — Status: 404\n",
      "No file for 20250429180000 — Status: 404\n",
      "No file for 20250430000000 — Status: 404\n",
      "No file for 20250430060000 — Status: 404\n",
      "No file for 20250430120000 — Status: 404\n",
      "No file for 20250430180000 — Status: 404\n",
      "Saved monthly_sentiment/sentiment_2025_04.csv\n"
     ]
    }
   ],
   "source": [
    "import os\n",
    "import pandas as pd\n",
    "import requests, zipfile\n",
    "from io import BytesIO\n",
    "from datetime import datetime, timedelta\n",
    "\n",
    "start_date = datetime(2023, 5, 12)\n",
    "end_date = datetime(2025, 4, 12)\n",
    "interval_hours = [0, 6, 12, 18]\n",
    "\n",
    "# Folder to save monthly results\n",
    "os.makedirs(\"monthly_sentiment\", exist_ok=True)\n",
    "\n",
    "# Loop through months\n",
    "current = start_date\n",
    "while current <= end_date:\n",
    "    # Define month range\n",
    "    month_start = current.replace(day=1)\n",
    "    next_month = (month_start + timedelta(days=32)).replace(day=1)\n",
    "    month_end = next_month - timedelta(days=1)\n",
    "\n",
    "    # CSV file path\n",
    "    filename = f\"monthly_sentiment/sentiment_{month_start.strftime('%Y_%m')}.csv\"\n",
    "    if os.path.exists(filename):\n",
    "        print(f\"Already processed: {filename}\")\n",
    "        current = next_month\n",
    "        continue\n",
    "\n",
    "    print(f\"Processing {month_start.strftime('%B %Y')}...\")\n",
    "\n",
    "    results = []\n",
    "    for single_date in pd.date_range(month_start, month_end):\n",
    "        for hour in interval_hours:\n",
    "            timestamp = single_date.replace(hour=hour).strftime('%Y%m%d%H%M%S')\n",
    "            url = f\"http://data.gdeltproject.org/gdeltv2/{timestamp}.gkg.csv.zip\"\n",
    "\n",
    "            try:\n",
    "                r = requests.get(url)\n",
    "                if r.status_code == 200:\n",
    "                    with zipfile.ZipFile(BytesIO(r.content)) as z:\n",
    "                        file_name = z.namelist()[0]\n",
    "                        with z.open(file_name) as f:\n",
    "                            df = pd.read_csv(f, sep='\\t', header=None, low_memory=False, encoding='ISO-8859-1')\n",
    "\n",
    "                            if df.shape[1] >= 21:\n",
    "                                df = df.iloc[:, :21]\n",
    "                                df.columns = [\n",
    "                                    \"GKGRECORDID\", \"DATE\", \"SourceCollectionIdentifier\", \"SourceCommonName\", \"DocumentIdentifier\",\n",
    "                                    \"Themes\", \"Locations\", \"Persons\", \"Organizations\", \"V2Tone\", \"Dates\", \"GCAM\", \"SharingImage\",\n",
    "                                    \"RelatedImages\", \"SocialImageEmbeds\", \"SocialVideoEmbeds\", \"Quotations\", \"AllNames\", \"Amounts\",\n",
    "                                    \"TranslationInfo\", \"Extras\"\n",
    "                                ]\n",
    "\n",
    "                                for _, row in df.iterrows():\n",
    "                                    tone_str = str(row['V2Tone'])\n",
    "                                    if tone_str and '#' in tone_str:\n",
    "                                        try:\n",
    "                                            tone = float(tone_str.split('#')[0])\n",
    "                                            results.append({\n",
    "                                                'datetime': single_date.replace(hour=hour),\n",
    "                                                'tone': tone,\n",
    "                                                'url': row['DocumentIdentifier']\n",
    "                                            })\n",
    "                                        except Exception as e:\n",
    "                                            print(f\"Tone parse error: {e} — Raw tone: {tone_str}\")\n",
    "                else:\n",
    "                    print(f\"No file for {timestamp} — Status: {r.status_code}\")\n",
    "            except Exception as e:\n",
    "                print(f\"Error for {timestamp}: {e}\")\n",
    "\n",
    "    # Convert to DataFrame and save\n",
    "    sentiment_df = pd.DataFrame(results)\n",
    "    if not sentiment_df.empty:\n",
    "        sentiment_df['datetime'] = pd.to_datetime(sentiment_df['datetime'])\n",
    "        sentiment_df = sentiment_df.dropna(subset=['tone'])\n",
    "        daily_sentiment = sentiment_df.groupby(sentiment_df['datetime'].dt.date)['tone'].mean().reset_index()\n",
    "        daily_sentiment.columns = ['date', 'avg_tone']\n",
    "        daily_sentiment.to_csv(filename, index=False)\n",
    "        print(f\"Saved {filename}\")\n",
    "    else:\n",
    "        print(f\"No sentiment data for {month_start.strftime('%Y-%m')}\")\n",
    "\n",
    "    current = next_month"
   ]
  },
  {
   "cell_type": "code",
   "execution_count": 2,
   "metadata": {},
   "outputs": [],
   "source": [
    "import glob\n",
    "\n",
    "all_files = glob.glob(\"monthly_sentiment/*.csv\")\n",
    "df_all = pd.concat((pd.read_csv(f) for f in all_files))\n",
    "df_all.to_csv(\"all_sentiment_data.csv\", index=False)"
   ]
  },
  {
   "cell_type": "code",
   "execution_count": 3,
   "metadata": {},
   "outputs": [
    {
     "data": {
      "text/plain": [
       "(           date  avg_tone\n",
       " 0    2024-07-01  2.278929\n",
       " 1    2024-07-02  2.289531\n",
       " 2    2024-07-03  2.319873\n",
       " 3    2024-07-04  2.401594\n",
       " 4    2024-07-05  2.414356\n",
       " ..          ...       ...\n",
       " 707  2025-01-27  2.370711\n",
       " 708  2025-01-28  2.277915\n",
       " 709  2025-01-29  2.261435\n",
       " 710  2025-01-30  2.314914\n",
       " 711  2025-01-31  2.214110\n",
       " \n",
       " [712 rows x 2 columns],\n",
       "           date  avg_tone\n",
       " 0   2023-04-12  2.287342\n",
       " 1   2023-04-13  2.316311\n",
       " 2   2023-04-14  2.306526\n",
       " 3   2023-04-15  2.341401\n",
       " 4   2023-04-16  2.462421\n",
       " 5   2023-04-17  2.299344\n",
       " 6   2023-04-18  2.298309\n",
       " 7   2023-04-19  2.288625\n",
       " 8   2023-04-20  2.281591\n",
       " 9   2023-04-21  2.309622\n",
       " 10  2023-04-22  2.345164\n",
       " 11  2023-04-23  2.338715\n",
       " 12  2023-04-24  2.311514\n",
       " 13  2023-04-25  2.227038\n",
       " 14  2023-04-26  2.273817\n",
       " 15  2023-04-27  2.307471\n",
       " 16  2023-04-28  2.249710\n",
       " 17  2023-04-29  2.388493\n",
       " 18  2023-04-30  2.311260\n",
       " 19  2023-05-01  2.316471\n",
       " 20  2023-05-02  2.300062\n",
       " 21  2023-05-03  2.277539\n",
       " 22  2023-05-04  2.331174\n",
       " 23  2023-05-05  2.373782\n",
       " 24  2023-05-06  2.387420\n",
       " 25  2023-05-07  2.385065\n",
       " 26  2023-05-08  2.355480\n",
       " 27  2023-05-09  2.318292\n",
       " 28  2023-05-10  2.290216\n",
       " 29  2023-05-11  2.230384\n",
       " 30  2023-05-12  2.280000)"
      ]
     },
     "execution_count": 3,
     "metadata": {},
     "output_type": "execute_result"
    }
   ],
   "source": [
    "big_sent_df = pd.read_csv(\"all_sentiment_data.csv\")\n",
    "small_sent_df = pd.read_csv(\"daily_sentiment.csv\")\n",
    "big_sent_df, small_sent_df"
   ]
  },
  {
   "cell_type": "code",
   "execution_count": 4,
   "metadata": {},
   "outputs": [
    {
     "name": "stdout",
     "output_type": "stream",
     "text": [
      "           date  avg_tone\n",
      "0    2023-04-12  2.287342\n",
      "1    2023-04-13  2.316311\n",
      "2    2023-04-14  2.306526\n",
      "3    2023-04-15  2.341401\n",
      "4    2023-04-16  2.462421\n",
      "..          ...       ...\n",
      "726  2025-04-07  2.276755\n",
      "727  2025-04-08  2.270042\n",
      "728  2025-04-09  2.194243\n",
      "729  2025-04-10  2.225689\n",
      "730  2025-04-11  2.285928\n",
      "\n",
      "[731 rows x 2 columns]\n"
     ]
    }
   ],
   "source": [
    "merged_df = pd.merge(big_sent_df, small_sent_df, on='date', how='outer', suffixes=('_big', '_small'))\n",
    "\n",
    "# 2. Handle duplicates: if both 'avg_tone_big' and 'avg_tone_small' exist, choose one\n",
    "#    For example, prefer 'small' if available, else use 'big'\n",
    "merged_df['avg_tone'] = merged_df['avg_tone_small'].combine_first(merged_df['avg_tone_big'])\n",
    "\n",
    "# 3. Drop the individual source columns\n",
    "merged_df = merged_df[['date', 'avg_tone']]\n",
    "\n",
    "# 4. Optional: sort by date\n",
    "merged_df = merged_df.sort_values('date').reset_index(drop=True)\n",
    "\n",
    "print(merged_df)"
   ]
  },
  {
   "cell_type": "code",
   "execution_count": 5,
   "metadata": {},
   "outputs": [
    {
     "data": {
      "application/vnd.microsoft.datawrangler.viewer.v0+json": {
       "columns": [
        {
         "name": "index",
         "rawType": "int64",
         "type": "integer"
        },
        {
         "name": "date",
         "rawType": "object",
         "type": "string"
        },
        {
         "name": "avg_tone",
         "rawType": "float64",
         "type": "float"
        }
       ],
       "conversionMethod": "pd.DataFrame",
       "ref": "ceecd36e-b9b2-4dc1-acaf-25a75b86f2c1",
       "rows": [
        [
         "0",
         "2023-04-12",
         "2.287341969720618"
        ],
        [
         "1",
         "2023-04-13",
         "2.3163107397090683"
        ],
        [
         "2",
         "2023-04-14",
         "2.306526248603798"
        ],
        [
         "3",
         "2023-04-15",
         "2.3414006179196702"
        ],
        [
         "4",
         "2023-04-16",
         "2.4624211130235225"
        ],
        [
         "5",
         "2023-04-17",
         "2.299344375431332"
        ],
        [
         "6",
         "2023-04-18",
         "2.298309004191357"
        ],
        [
         "7",
         "2023-04-19",
         "2.288625036646145"
        ],
        [
         "8",
         "2023-04-20",
         "2.281590664824198"
        ],
        [
         "9",
         "2023-04-21",
         "2.309622150833716"
        ],
        [
         "10",
         "2023-04-22",
         "2.345163912218911"
        ],
        [
         "11",
         "2023-04-23",
         "2.3387154646573376"
        ],
        [
         "12",
         "2023-04-24",
         "2.3115137346580945"
        ],
        [
         "13",
         "2023-04-25",
         "2.22703783963994"
        ],
        [
         "14",
         "2023-04-26",
         "2.273817135549872"
        ],
        [
         "15",
         "2023-04-27",
         "2.307471264367816"
        ],
        [
         "16",
         "2023-04-28",
         "2.2497102169233316"
        ],
        [
         "17",
         "2023-04-29",
         "2.3884928716904277"
        ],
        [
         "18",
         "2023-04-30",
         "2.311260299054013"
        ],
        [
         "19",
         "2023-05-01",
         "2.316470588235294"
        ],
        [
         "20",
         "2023-05-02",
         "2.300062189054726"
        ],
        [
         "21",
         "2023-05-03",
         "2.2775391224301935"
        ],
        [
         "22",
         "2023-05-04",
         "2.3311743170937764"
        ],
        [
         "23",
         "2023-05-05",
         "2.3737824005283144"
        ],
        [
         "24",
         "2023-05-06",
         "2.3874197689345316"
        ],
        [
         "25",
         "2023-05-07",
         "2.385064935064935"
        ],
        [
         "26",
         "2023-05-08",
         "2.3554797270172623"
        ],
        [
         "27",
         "2023-05-09",
         "2.3182920912178555"
        ],
        [
         "28",
         "2023-05-10",
         "2.2902158273381295"
        ],
        [
         "29",
         "2023-05-11",
         "2.230384219049021"
        ],
        [
         "30",
         "2023-05-12",
         "2.28"
        ],
        [
         "31",
         "2023-05-13",
         "2.3984204793028323"
        ],
        [
         "32",
         "2023-05-14",
         "2.3332311465358675"
        ],
        [
         "33",
         "2023-05-15",
         "2.3638963019443384"
        ],
        [
         "34",
         "2023-05-16",
         "2.278896598409206"
        ],
        [
         "35",
         "2023-05-17",
         "2.349007314524556"
        ],
        [
         "36",
         "2023-05-18",
         "2.244685802948022"
        ],
        [
         "37",
         "2023-05-19",
         "2.3303254914598774"
        ],
        [
         "38",
         "2023-05-20",
         "2.397988505747126"
        ],
        [
         "39",
         "2023-05-21",
         "2.331617883563847"
        ],
        [
         "40",
         "2023-05-22",
         "2.284167794316644"
        ],
        [
         "41",
         "2023-05-23",
         "2.290408230999004"
        ],
        [
         "42",
         "2023-05-24",
         "2.313628899835797"
        ],
        [
         "43",
         "2023-05-25",
         "2.3145410235580828"
        ],
        [
         "44",
         "2023-05-26",
         "2.2644092219020173"
        ],
        [
         "45",
         "2023-05-27",
         "2.375437651494748"
        ],
        [
         "46",
         "2023-05-28",
         "2.3941740412979353"
        ],
        [
         "47",
         "2023-05-29",
         "2.3443983402489628"
        ],
        [
         "48",
         "2023-05-30",
         "2.3175997072813757"
        ],
        [
         "49",
         "2023-05-31",
         "2.307320219284102"
        ]
       ],
       "shape": {
        "columns": 2,
        "rows": 731
       }
      },
      "text/html": [
       "<div>\n",
       "<style scoped>\n",
       "    .dataframe tbody tr th:only-of-type {\n",
       "        vertical-align: middle;\n",
       "    }\n",
       "\n",
       "    .dataframe tbody tr th {\n",
       "        vertical-align: top;\n",
       "    }\n",
       "\n",
       "    .dataframe thead th {\n",
       "        text-align: right;\n",
       "    }\n",
       "</style>\n",
       "<table border=\"1\" class=\"dataframe\">\n",
       "  <thead>\n",
       "    <tr style=\"text-align: right;\">\n",
       "      <th></th>\n",
       "      <th>date</th>\n",
       "      <th>avg_tone</th>\n",
       "    </tr>\n",
       "  </thead>\n",
       "  <tbody>\n",
       "    <tr>\n",
       "      <th>0</th>\n",
       "      <td>2023-04-12</td>\n",
       "      <td>2.287342</td>\n",
       "    </tr>\n",
       "    <tr>\n",
       "      <th>1</th>\n",
       "      <td>2023-04-13</td>\n",
       "      <td>2.316311</td>\n",
       "    </tr>\n",
       "    <tr>\n",
       "      <th>2</th>\n",
       "      <td>2023-04-14</td>\n",
       "      <td>2.306526</td>\n",
       "    </tr>\n",
       "    <tr>\n",
       "      <th>3</th>\n",
       "      <td>2023-04-15</td>\n",
       "      <td>2.341401</td>\n",
       "    </tr>\n",
       "    <tr>\n",
       "      <th>4</th>\n",
       "      <td>2023-04-16</td>\n",
       "      <td>2.462421</td>\n",
       "    </tr>\n",
       "    <tr>\n",
       "      <th>...</th>\n",
       "      <td>...</td>\n",
       "      <td>...</td>\n",
       "    </tr>\n",
       "    <tr>\n",
       "      <th>726</th>\n",
       "      <td>2025-04-07</td>\n",
       "      <td>2.276755</td>\n",
       "    </tr>\n",
       "    <tr>\n",
       "      <th>727</th>\n",
       "      <td>2025-04-08</td>\n",
       "      <td>2.270042</td>\n",
       "    </tr>\n",
       "    <tr>\n",
       "      <th>728</th>\n",
       "      <td>2025-04-09</td>\n",
       "      <td>2.194243</td>\n",
       "    </tr>\n",
       "    <tr>\n",
       "      <th>729</th>\n",
       "      <td>2025-04-10</td>\n",
       "      <td>2.225689</td>\n",
       "    </tr>\n",
       "    <tr>\n",
       "      <th>730</th>\n",
       "      <td>2025-04-11</td>\n",
       "      <td>2.285928</td>\n",
       "    </tr>\n",
       "  </tbody>\n",
       "</table>\n",
       "<p>731 rows × 2 columns</p>\n",
       "</div>"
      ],
      "text/plain": [
       "           date  avg_tone\n",
       "0    2023-04-12  2.287342\n",
       "1    2023-04-13  2.316311\n",
       "2    2023-04-14  2.306526\n",
       "3    2023-04-15  2.341401\n",
       "4    2023-04-16  2.462421\n",
       "..          ...       ...\n",
       "726  2025-04-07  2.276755\n",
       "727  2025-04-08  2.270042\n",
       "728  2025-04-09  2.194243\n",
       "729  2025-04-10  2.225689\n",
       "730  2025-04-11  2.285928\n",
       "\n",
       "[731 rows x 2 columns]"
      ]
     },
     "execution_count": 5,
     "metadata": {},
     "output_type": "execute_result"
    }
   ],
   "source": [
    "merged_df"
   ]
  },
  {
   "cell_type": "markdown",
   "metadata": {},
   "source": [
    "Thesis: Sentiment Outweighs fundamental value in driving AAPL prices"
   ]
  },
  {
   "cell_type": "code",
   "execution_count": 6,
   "metadata": {},
   "outputs": [
    {
     "name": "stdout",
     "output_type": "stream",
     "text": [
      "✅ Price data fetched for AAPL\n"
     ]
    }
   ],
   "source": [
    "from datetime import datetime, timedelta\n",
    "\n",
    "api_key = \"4C9mXIrDgrBA8MMxnsf1jtSYykOLSCT2\"\n",
    "symbols = ['AAPL']\n",
    "\n",
    "cutoff_date = datetime.today() - timedelta(days=2*365)\n",
    "\n",
    "price_data_all = []\n",
    "\n",
    "for symbol in symbols:\n",
    "    url = f\"https://financialmodelingprep.com/api/v3/historical-price-full/{symbol}?apikey={api_key}\"\n",
    "    \n",
    "    try:\n",
    "        res = requests.get(url)\n",
    "        data = res.json()\n",
    "\n",
    "        if \"historical\" in data:\n",
    "            df = pd.DataFrame(data[\"historical\"])\n",
    "            df[\"date\"] = pd.to_datetime(df[\"date\"])  # Ensure the date column is in datetime format\n",
    "            df = df[df[\"date\"] >= cutoff_date]  # Filter data for the last 2 years\n",
    "            df[\"symbol\"] = symbol\n",
    "            df = df[[\"date\", \"symbol\", \"adjClose\", \"volume\"]]\n",
    "            price_data_all.append(df)\n",
    "            print(f\"✅ Price data fetched for {symbol}\")\n",
    "        else:\n",
    "            print(f\"⚠️ No historical data found for {symbol}. Response: {data}\")\n",
    "    \n",
    "    except Exception as e:\n",
    "        print(f\"❌ Error fetching price data for {symbol}: {e}\")\n",
    "\n"
   ]
  },
  {
   "cell_type": "code",
   "execution_count": 7,
   "metadata": {},
   "outputs": [
    {
     "data": {
      "text/plain": [
       "[          date symbol  adjClose     volume\n",
       " 0   2025-04-16   AAPL   197.225   26249918\n",
       " 1   2025-04-15   AAPL   202.140   50304417\n",
       " 2   2025-04-14   AAPL   202.520  101352911\n",
       " 3   2025-04-11   AAPL   198.150   87435915\n",
       " 4   2025-04-10   AAPL   190.420  121880000\n",
       " ..         ...    ...       ...        ...\n",
       " 497 2023-04-24   AAPL   163.680   41949600\n",
       " 498 2023-04-21   AAPL   163.370   58337341\n",
       " 499 2023-04-20   AAPL   164.990   52456400\n",
       " 500 2023-04-19   AAPL   165.960   47720200\n",
       " 501 2023-04-18   AAPL   164.810   49923008\n",
       " \n",
       " [502 rows x 4 columns]]"
      ]
     },
     "execution_count": 7,
     "metadata": {},
     "output_type": "execute_result"
    }
   ],
   "source": [
    "price_data_all"
   ]
  },
  {
   "cell_type": "code",
   "execution_count": 8,
   "metadata": {},
   "outputs": [
    {
     "data": {
      "application/vnd.microsoft.datawrangler.viewer.v0+json": {
       "columns": [
        {
         "name": "index",
         "rawType": "int64",
         "type": "integer"
        },
        {
         "name": "date",
         "rawType": "datetime64[ns]",
         "type": "datetime"
        },
        {
         "name": "symbol",
         "rawType": "object",
         "type": "string"
        },
        {
         "name": "adjClose",
         "rawType": "float64",
         "type": "float"
        },
        {
         "name": "volume",
         "rawType": "int64",
         "type": "integer"
        }
       ],
       "conversionMethod": "pd.DataFrame",
       "ref": "e986adea-a018-4489-b023-9aa90d1b6be7",
       "rows": [
        [
         "0",
         "2025-04-16 00:00:00",
         "AAPL",
         "197.225",
         "26249918"
        ],
        [
         "1",
         "2025-04-15 00:00:00",
         "AAPL",
         "202.14",
         "50304417"
        ],
        [
         "2",
         "2025-04-14 00:00:00",
         "AAPL",
         "202.52",
         "101352911"
        ],
        [
         "3",
         "2025-04-11 00:00:00",
         "AAPL",
         "198.15",
         "87435915"
        ],
        [
         "4",
         "2025-04-10 00:00:00",
         "AAPL",
         "190.42",
         "121880000"
        ],
        [
         "5",
         "2025-04-09 00:00:00",
         "AAPL",
         "198.85",
         "184395900"
        ],
        [
         "6",
         "2025-04-08 00:00:00",
         "AAPL",
         "172.42",
         "120859500"
        ],
        [
         "7",
         "2025-04-07 00:00:00",
         "AAPL",
         "181.46",
         "160466300"
        ],
        [
         "8",
         "2025-04-04 00:00:00",
         "AAPL",
         "188.38",
         "125910913"
        ],
        [
         "9",
         "2025-04-03 00:00:00",
         "AAPL",
         "203.19",
         "103419006"
        ],
        [
         "10",
         "2025-04-02 00:00:00",
         "AAPL",
         "223.89",
         "35905904"
        ],
        [
         "11",
         "2025-04-01 00:00:00",
         "AAPL",
         "223.19",
         "36412740"
        ],
        [
         "12",
         "2025-03-31 00:00:00",
         "AAPL",
         "222.13",
         "65299321"
        ],
        [
         "13",
         "2025-03-28 00:00:00",
         "AAPL",
         "217.9",
         "39818617"
        ],
        [
         "14",
         "2025-03-27 00:00:00",
         "AAPL",
         "223.85",
         "37094800"
        ],
        [
         "15",
         "2025-03-26 00:00:00",
         "AAPL",
         "221.53",
         "34532700"
        ],
        [
         "16",
         "2025-03-25 00:00:00",
         "AAPL",
         "223.75",
         "34493600"
        ],
        [
         "17",
         "2025-03-24 00:00:00",
         "AAPL",
         "220.73",
         "44299500"
        ],
        [
         "18",
         "2025-03-21 00:00:00",
         "AAPL",
         "218.27",
         "94127800"
        ],
        [
         "19",
         "2025-03-20 00:00:00",
         "AAPL",
         "214.1",
         "48862947"
        ],
        [
         "20",
         "2025-03-19 00:00:00",
         "AAPL",
         "215.24",
         "54385400"
        ],
        [
         "21",
         "2025-03-18 00:00:00",
         "AAPL",
         "212.69",
         "42432426"
        ],
        [
         "22",
         "2025-03-17 00:00:00",
         "AAPL",
         "214.0",
         "48073426"
        ],
        [
         "23",
         "2025-03-14 00:00:00",
         "AAPL",
         "213.49",
         "60107600"
        ],
        [
         "24",
         "2025-03-13 00:00:00",
         "AAPL",
         "209.68",
         "61368330"
        ],
        [
         "25",
         "2025-03-12 00:00:00",
         "AAPL",
         "216.98",
         "62547500"
        ],
        [
         "26",
         "2025-03-11 00:00:00",
         "AAPL",
         "220.84",
         "76137410"
        ],
        [
         "27",
         "2025-03-10 00:00:00",
         "AAPL",
         "227.48",
         "72071200"
        ],
        [
         "28",
         "2025-03-07 00:00:00",
         "AAPL",
         "239.07",
         "46273600"
        ],
        [
         "29",
         "2025-03-06 00:00:00",
         "AAPL",
         "235.33",
         "45170419"
        ],
        [
         "30",
         "2025-03-05 00:00:00",
         "AAPL",
         "235.74",
         "47227643"
        ],
        [
         "31",
         "2025-03-04 00:00:00",
         "AAPL",
         "235.93",
         "53798100"
        ],
        [
         "32",
         "2025-03-03 00:00:00",
         "AAPL",
         "238.03",
         "47184000"
        ],
        [
         "33",
         "2025-02-28 00:00:00",
         "AAPL",
         "241.84",
         "56833400"
        ],
        [
         "34",
         "2025-02-27 00:00:00",
         "AAPL",
         "237.3",
         "41153639"
        ],
        [
         "35",
         "2025-02-26 00:00:00",
         "AAPL",
         "240.36",
         "44433600"
        ],
        [
         "36",
         "2025-02-25 00:00:00",
         "AAPL",
         "247.04",
         "48013300"
        ],
        [
         "37",
         "2025-02-24 00:00:00",
         "AAPL",
         "247.1",
         "51326400"
        ],
        [
         "38",
         "2025-02-21 00:00:00",
         "AAPL",
         "245.55",
         "53197431"
        ],
        [
         "39",
         "2025-02-20 00:00:00",
         "AAPL",
         "245.83",
         "32316907"
        ],
        [
         "40",
         "2025-02-19 00:00:00",
         "AAPL",
         "244.87",
         "32204215"
        ],
        [
         "41",
         "2025-02-18 00:00:00",
         "AAPL",
         "244.47",
         "48822500"
        ],
        [
         "42",
         "2025-02-14 00:00:00",
         "AAPL",
         "244.6",
         "40896227"
        ],
        [
         "43",
         "2025-02-13 00:00:00",
         "AAPL",
         "241.53",
         "53614100"
        ],
        [
         "44",
         "2025-02-12 00:00:00",
         "AAPL",
         "236.87",
         "45243300"
        ],
        [
         "45",
         "2025-02-11 00:00:00",
         "AAPL",
         "232.62",
         "53718400"
        ],
        [
         "46",
         "2025-02-10 00:00:00",
         "AAPL",
         "227.65",
         "33115645"
        ],
        [
         "47",
         "2025-02-07 00:00:00",
         "AAPL",
         "227.38",
         "39707224"
        ],
        [
         "48",
         "2025-02-06 00:00:00",
         "AAPL",
         "232.96",
         "29925349"
        ],
        [
         "49",
         "2025-02-05 00:00:00",
         "AAPL",
         "232.21",
         "39664989"
        ]
       ],
       "shape": {
        "columns": 4,
        "rows": 502
       }
      },
      "text/html": [
       "<div>\n",
       "<style scoped>\n",
       "    .dataframe tbody tr th:only-of-type {\n",
       "        vertical-align: middle;\n",
       "    }\n",
       "\n",
       "    .dataframe tbody tr th {\n",
       "        vertical-align: top;\n",
       "    }\n",
       "\n",
       "    .dataframe thead th {\n",
       "        text-align: right;\n",
       "    }\n",
       "</style>\n",
       "<table border=\"1\" class=\"dataframe\">\n",
       "  <thead>\n",
       "    <tr style=\"text-align: right;\">\n",
       "      <th></th>\n",
       "      <th>date</th>\n",
       "      <th>symbol</th>\n",
       "      <th>adjClose</th>\n",
       "      <th>volume</th>\n",
       "    </tr>\n",
       "  </thead>\n",
       "  <tbody>\n",
       "    <tr>\n",
       "      <th>0</th>\n",
       "      <td>2025-04-16</td>\n",
       "      <td>AAPL</td>\n",
       "      <td>197.225</td>\n",
       "      <td>26249918</td>\n",
       "    </tr>\n",
       "    <tr>\n",
       "      <th>1</th>\n",
       "      <td>2025-04-15</td>\n",
       "      <td>AAPL</td>\n",
       "      <td>202.140</td>\n",
       "      <td>50304417</td>\n",
       "    </tr>\n",
       "    <tr>\n",
       "      <th>2</th>\n",
       "      <td>2025-04-14</td>\n",
       "      <td>AAPL</td>\n",
       "      <td>202.520</td>\n",
       "      <td>101352911</td>\n",
       "    </tr>\n",
       "    <tr>\n",
       "      <th>3</th>\n",
       "      <td>2025-04-11</td>\n",
       "      <td>AAPL</td>\n",
       "      <td>198.150</td>\n",
       "      <td>87435915</td>\n",
       "    </tr>\n",
       "    <tr>\n",
       "      <th>4</th>\n",
       "      <td>2025-04-10</td>\n",
       "      <td>AAPL</td>\n",
       "      <td>190.420</td>\n",
       "      <td>121880000</td>\n",
       "    </tr>\n",
       "    <tr>\n",
       "      <th>...</th>\n",
       "      <td>...</td>\n",
       "      <td>...</td>\n",
       "      <td>...</td>\n",
       "      <td>...</td>\n",
       "    </tr>\n",
       "    <tr>\n",
       "      <th>497</th>\n",
       "      <td>2023-04-24</td>\n",
       "      <td>AAPL</td>\n",
       "      <td>163.680</td>\n",
       "      <td>41949600</td>\n",
       "    </tr>\n",
       "    <tr>\n",
       "      <th>498</th>\n",
       "      <td>2023-04-21</td>\n",
       "      <td>AAPL</td>\n",
       "      <td>163.370</td>\n",
       "      <td>58337341</td>\n",
       "    </tr>\n",
       "    <tr>\n",
       "      <th>499</th>\n",
       "      <td>2023-04-20</td>\n",
       "      <td>AAPL</td>\n",
       "      <td>164.990</td>\n",
       "      <td>52456400</td>\n",
       "    </tr>\n",
       "    <tr>\n",
       "      <th>500</th>\n",
       "      <td>2023-04-19</td>\n",
       "      <td>AAPL</td>\n",
       "      <td>165.960</td>\n",
       "      <td>47720200</td>\n",
       "    </tr>\n",
       "    <tr>\n",
       "      <th>501</th>\n",
       "      <td>2023-04-18</td>\n",
       "      <td>AAPL</td>\n",
       "      <td>164.810</td>\n",
       "      <td>49923008</td>\n",
       "    </tr>\n",
       "  </tbody>\n",
       "</table>\n",
       "<p>502 rows × 4 columns</p>\n",
       "</div>"
      ],
      "text/plain": [
       "          date symbol  adjClose     volume\n",
       "0   2025-04-16   AAPL   197.225   26249918\n",
       "1   2025-04-15   AAPL   202.140   50304417\n",
       "2   2025-04-14   AAPL   202.520  101352911\n",
       "3   2025-04-11   AAPL   198.150   87435915\n",
       "4   2025-04-10   AAPL   190.420  121880000\n",
       "..         ...    ...       ...        ...\n",
       "497 2023-04-24   AAPL   163.680   41949600\n",
       "498 2023-04-21   AAPL   163.370   58337341\n",
       "499 2023-04-20   AAPL   164.990   52456400\n",
       "500 2023-04-19   AAPL   165.960   47720200\n",
       "501 2023-04-18   AAPL   164.810   49923008\n",
       "\n",
       "[502 rows x 4 columns]"
      ]
     },
     "execution_count": 8,
     "metadata": {},
     "output_type": "execute_result"
    }
   ],
   "source": [
    "# Combine all dataframes in the list into a single dataframe\n",
    "combined_price_data = pd.concat(price_data_all, ignore_index=True)\n",
    "\n",
    "# Save the combined dataframe to a CSV file\n",
    "combined_price_data.to_csv(\"fundamental_data.csv\", index=False)\n",
    "combined_price_data"
   ]
  },
  {
   "cell_type": "code",
   "execution_count": 9,
   "metadata": {},
   "outputs": [
    {
     "data": {
      "application/vnd.microsoft.datawrangler.viewer.v0+json": {
       "columns": [
        {
         "name": "index",
         "rawType": "int64",
         "type": "integer"
        },
        {
         "name": "adjClose",
         "rawType": "float64",
         "type": "float"
        },
        {
         "name": "adj_close",
         "rawType": "float64",
         "type": "float"
        }
       ],
       "conversionMethod": "pd.DataFrame",
       "ref": "744eb910-aa31-4a7f-a382-2083858b62f0",
       "rows": [
        [
         "1",
         "2.4920775763721537",
         "202.14"
        ],
        [
         "2",
         "0.18798852280599299",
         "202.52"
        ],
        [
         "3",
         "-2.1578115741655135",
         "198.15"
        ],
        [
         "4",
         "-3.9010850365884475",
         "190.42"
        ],
        [
         "5",
         "4.4270559815145605",
         "198.85"
        ],
        [
         "6",
         "-13.291425697762138",
         "172.42"
        ],
        [
         "7",
         "5.2430112515949645",
         "181.46"
        ],
        [
         "8",
         "3.8135126198611147",
         "188.38"
        ],
        [
         "9",
         "7.861768765261701",
         "203.19"
        ],
        [
         "10",
         "10.187509227816328",
         "223.89"
        ],
        [
         "11",
         "-0.31265353521817696",
         "223.19"
        ],
        [
         "12",
         "-0.47493167256598134",
         "222.13"
        ],
        [
         "13",
         "-1.904290280466392",
         "217.9"
        ],
        [
         "14",
         "2.7306103717301466",
         "223.85"
        ],
        [
         "15",
         "-1.0364083091355836",
         "221.53"
        ],
        [
         "16",
         "1.002121608811457",
         "223.75"
        ],
        [
         "17",
         "-1.3497206703910636",
         "220.73"
        ],
        [
         "18",
         "-1.1144837584379008",
         "218.27"
        ],
        [
         "19",
         "-1.9104778485362184",
         "214.1"
        ],
        [
         "20",
         "0.5324614666043948",
         "215.24"
        ],
        [
         "21",
         "-1.1847240289909022",
         "212.69"
        ],
        [
         "22",
         "0.6159198833983748",
         "214.0"
        ],
        [
         "23",
         "-0.2383177570093431",
         "213.49"
        ],
        [
         "24",
         "-1.7846269146095883",
         "209.68"
        ],
        [
         "25",
         "3.4814956123616847",
         "216.98"
        ],
        [
         "26",
         "1.778965803299859",
         "220.84"
        ],
        [
         "27",
         "3.006701684477453",
         "227.48"
        ],
        [
         "28",
         "5.094953402496927",
         "239.07"
        ],
        [
         "29",
         "-1.5643953653741494",
         "235.33"
        ],
        [
         "30",
         "0.17422343092678982",
         "235.74"
        ],
        [
         "31",
         "0.08059726817679636",
         "235.93"
        ],
        [
         "32",
         "0.89009451956088",
         "238.03"
        ],
        [
         "33",
         "1.6006385749695484",
         "241.84"
        ],
        [
         "34",
         "-1.877274230896453",
         "237.3"
        ],
        [
         "35",
         "1.2895069532237624",
         "240.36"
        ],
        [
         "36",
         "2.779164586453642",
         "247.04"
        ],
        [
         "37",
         "0.024287564766845016",
         "247.1"
        ],
        [
         "38",
         "-0.6272764063132263",
         "245.55"
        ],
        [
         "39",
         "0.11402972917939902",
         "245.83"
        ],
        [
         "40",
         "-0.3905137696782357",
         "244.87"
        ],
        [
         "41",
         "-0.16335198268468964",
         "244.47"
        ],
        [
         "42",
         "0.05317625884566635",
         "244.6"
        ],
        [
         "43",
         "-1.2551103843008948",
         "241.53"
        ],
        [
         "44",
         "-1.9293669523454682",
         "236.87"
        ],
        [
         "45",
         "-1.7942331236543207",
         "232.62"
        ],
        [
         "46",
         "-2.13653168257244",
         "227.65"
        ],
        [
         "47",
         "-0.11860311882275765",
         "227.38"
        ],
        [
         "48",
         "2.4540416923212405",
         "232.96"
        ],
        [
         "49",
         "-0.32194368131868156",
         "232.21"
        ],
        [
         "50",
         "0.142112742775935",
         "232.54"
        ]
       ],
       "shape": {
        "columns": 2,
        "rows": 501
       }
      },
      "text/html": [
       "<div>\n",
       "<style scoped>\n",
       "    .dataframe tbody tr th:only-of-type {\n",
       "        vertical-align: middle;\n",
       "    }\n",
       "\n",
       "    .dataframe tbody tr th {\n",
       "        vertical-align: top;\n",
       "    }\n",
       "\n",
       "    .dataframe thead th {\n",
       "        text-align: right;\n",
       "    }\n",
       "</style>\n",
       "<table border=\"1\" class=\"dataframe\">\n",
       "  <thead>\n",
       "    <tr style=\"text-align: right;\">\n",
       "      <th></th>\n",
       "      <th>adjClose</th>\n",
       "      <th>adj_close</th>\n",
       "    </tr>\n",
       "  </thead>\n",
       "  <tbody>\n",
       "    <tr>\n",
       "      <th>1</th>\n",
       "      <td>2.492078</td>\n",
       "      <td>202.14</td>\n",
       "    </tr>\n",
       "    <tr>\n",
       "      <th>2</th>\n",
       "      <td>0.187989</td>\n",
       "      <td>202.52</td>\n",
       "    </tr>\n",
       "    <tr>\n",
       "      <th>3</th>\n",
       "      <td>-2.157812</td>\n",
       "      <td>198.15</td>\n",
       "    </tr>\n",
       "    <tr>\n",
       "      <th>4</th>\n",
       "      <td>-3.901085</td>\n",
       "      <td>190.42</td>\n",
       "    </tr>\n",
       "    <tr>\n",
       "      <th>5</th>\n",
       "      <td>4.427056</td>\n",
       "      <td>198.85</td>\n",
       "    </tr>\n",
       "    <tr>\n",
       "      <th>...</th>\n",
       "      <td>...</td>\n",
       "      <td>...</td>\n",
       "    </tr>\n",
       "    <tr>\n",
       "      <th>497</th>\n",
       "      <td>0.956023</td>\n",
       "      <td>163.68</td>\n",
       "    </tr>\n",
       "    <tr>\n",
       "      <th>498</th>\n",
       "      <td>-0.189394</td>\n",
       "      <td>163.37</td>\n",
       "    </tr>\n",
       "    <tr>\n",
       "      <th>499</th>\n",
       "      <td>0.991614</td>\n",
       "      <td>164.99</td>\n",
       "    </tr>\n",
       "    <tr>\n",
       "      <th>500</th>\n",
       "      <td>0.587914</td>\n",
       "      <td>165.96</td>\n",
       "    </tr>\n",
       "    <tr>\n",
       "      <th>501</th>\n",
       "      <td>-0.692938</td>\n",
       "      <td>164.81</td>\n",
       "    </tr>\n",
       "  </tbody>\n",
       "</table>\n",
       "<p>501 rows × 2 columns</p>\n",
       "</div>"
      ],
      "text/plain": [
       "     adjClose  adj_close\n",
       "1    2.492078     202.14\n",
       "2    0.187989     202.52\n",
       "3   -2.157812     198.15\n",
       "4   -3.901085     190.42\n",
       "5    4.427056     198.85\n",
       "..        ...        ...\n",
       "497  0.956023     163.68\n",
       "498 -0.189394     163.37\n",
       "499  0.991614     164.99\n",
       "500  0.587914     165.96\n",
       "501 -0.692938     164.81\n",
       "\n",
       "[501 rows x 2 columns]"
      ]
     },
     "execution_count": 9,
     "metadata": {},
     "output_type": "execute_result"
    }
   ],
   "source": [
    "adjClose = combined_price_data['adjClose']\n",
    "volume =combined_price_data['volume']\n",
    "\n",
    "returns = 100 * adjClose.pct_change().dropna()\n",
    "returns_df = returns.to_frame()\n",
    "returns_df['adj_close'] = adjClose\n",
    "returns_df\n"
   ]
  },
  {
   "cell_type": "code",
   "execution_count": 10,
   "metadata": {},
   "outputs": [
    {
     "name": "stdout",
     "output_type": "stream",
     "text": [
      "2023 Quarterly Returns:\n",
      "   quarter  quarterly_return\n",
      "0  2023Q2         -0.136216\n",
      "1  2023Q3          0.106151\n",
      "2  2023Q4         -0.065247\n",
      "\n",
      "2024 Quarterly Returns:\n",
      "   quarter  quarterly_return\n",
      "3  2024Q1          0.090410\n",
      "4  2024Q2         -0.216600\n",
      "5  2024Q3         -0.042931\n",
      "6  2024Q4         -0.097665\n"
     ]
    }
   ],
   "source": [
    "combined_price_data['date'] = pd.to_datetime(combined_price_data['date'])\n",
    "\n",
    "# Filter for 2023 and 2024\n",
    "data_2023_2024 = combined_price_data[\n",
    "    combined_price_data['date'].dt.year.isin([2023, 2024])\n",
    "].copy()\n",
    "\n",
    "# Calculate daily returns\n",
    "data_2023_2024['daily_return'] = data_2023_2024['adjClose'].pct_change()\n",
    "\n",
    "# Add 'quarter' column\n",
    "data_2023_2024['quarter'] = data_2023_2024['date'].dt.to_period('Q')\n",
    "\n",
    "# Calculate **compounded** quarterly returns\n",
    "quarterly_returns = data_2023_2024.groupby('quarter')['daily_return'].apply(\n",
    "    lambda x: (1 + x).prod() - 1\n",
    ").reset_index()\n",
    "\n",
    "quarterly_returns.columns = ['quarter', 'quarterly_return']\n",
    "\n",
    "# Split by year\n",
    "quarterly_returns_2023 = quarterly_returns[quarterly_returns['quarter'].dt.year == 2023]\n",
    "quarterly_returns_2024 = quarterly_returns[quarterly_returns['quarter'].dt.year == 2024]\n",
    "\n",
    "# Display\n",
    "print(\"2023 Quarterly Returns:\\n\", quarterly_returns_2023)\n",
    "print(\"\\n2024 Quarterly Returns:\\n\", quarterly_returns_2024)"
   ]
  },
  {
   "cell_type": "code",
   "execution_count": 11,
   "metadata": {},
   "outputs": [],
   "source": [
    "\n",
    "vol_returns = pd.merge(returns_df, volume, left_index=True, right_index=True)"
   ]
  },
  {
   "cell_type": "code",
   "execution_count": 12,
   "metadata": {},
   "outputs": [
    {
     "name": "stdout",
     "output_type": "stream",
     "text": [
      "            VIXCLS\n",
      "DATE              \n",
      "2023-04-18   16.83\n",
      "2023-04-19   16.46\n",
      "2023-04-20   17.17\n",
      "2023-04-21   16.77\n",
      "2023-04-24   16.89\n"
     ]
    }
   ],
   "source": [
    "import pandas_datareader.data as web\n",
    "import datetime\n",
    "\n",
    "start = datetime.datetime.now() - datetime.timedelta(days=2*365)\n",
    "end = datetime.datetime.now()\n",
    "\n",
    "vix_data = web.DataReader(\"VIXCLS\", \"fred\", start, end)\n",
    "print(vix_data.head())"
   ]
  },
  {
   "cell_type": "markdown",
   "metadata": {},
   "source": []
  },
  {
   "cell_type": "markdown",
   "metadata": {},
   "source": [
    "Sentiment Data"
   ]
  },
  {
   "cell_type": "markdown",
   "metadata": {},
   "source": []
  },
  {
   "cell_type": "code",
   "execution_count": 13,
   "metadata": {},
   "outputs": [
    {
     "name": "stdout",
     "output_type": "stream",
     "text": [
      "2025-03-12 00:00:00\n"
     ]
    }
   ],
   "source": [
    "vol_returns['date'] = pd.date_range(start='2023-04-12', periods=len(vol_returns), freq='B')  # Adjust start date accordingly\n",
    "# Set the new 'date' column as the index\n",
    "vol_returns.set_index('date', inplace=True)\n",
    "\n",
    "\n",
    "# Now merge using the date index\n",
    "returns_x_VIX_df = pd.merge(vol_returns, vix_data, left_index=True, right_index=True, how='inner')\n",
    "print(returns_x_VIX_df.index.max())"
   ]
  },
  {
   "cell_type": "code",
   "execution_count": 14,
   "metadata": {},
   "outputs": [
    {
     "name": "stdout",
     "output_type": "stream",
     "text": [
      "      adjClose  adj_close     volume  VIXCLS       date  avg_tone\n",
      "6     4.427056     198.85  184395900   16.83 2023-04-18  2.298309\n",
      "7   -13.291426     172.42  120859500   16.46 2023-04-19  2.288625\n",
      "8     5.243011     181.46  160466300   17.17 2023-04-20  2.281591\n",
      "9     3.813513     188.38  125910913   16.77 2023-04-21  2.309622\n",
      "12    7.861769     203.19  103419006   16.89 2023-04-24  2.311514\n",
      "..         ...        ...        ...     ...        ...       ...\n",
      "694   0.956023     163.68   41949600   24.87 2025-03-06  2.265221\n",
      "695  -0.189394     163.37   58337341   23.37 2025-03-07  2.259146\n",
      "698   0.991614     164.99   52456400   27.86 2025-03-10  2.290376\n",
      "699   0.587914     165.96   47720200   26.92 2025-03-11  2.291383\n",
      "700  -0.692938     164.81   49923008   24.23 2025-03-12  2.227599\n",
      "\n",
      "[497 rows x 6 columns]\n"
     ]
    }
   ],
   "source": [
    "# Convert 'date' column in merged_df to datetime format to ensure compatibility\n",
    "merged_df['date'] = pd.to_datetime(merged_df['date'])\n",
    "\n",
    "# Merge the dataframes on the 'date' column\n",
    "final_df = pd.merge(returns_x_VIX_df, merged_df, left_index=True, right_on='date', how='inner')\n",
    "\n",
    "# Display the merged dataframe\n",
    "print(final_df)"
   ]
  },
  {
   "cell_type": "code",
   "execution_count": 15,
   "metadata": {},
   "outputs": [
    {
     "data": {
      "application/vnd.microsoft.datawrangler.viewer.v0+json": {
       "columns": [
        {
         "name": "index",
         "rawType": "int64",
         "type": "integer"
        },
        {
         "name": "returns",
         "rawType": "float64",
         "type": "float"
        },
        {
         "name": "adj_close",
         "rawType": "float64",
         "type": "float"
        },
        {
         "name": "volume",
         "rawType": "int64",
         "type": "integer"
        },
        {
         "name": "VIXCLS",
         "rawType": "float64",
         "type": "float"
        },
        {
         "name": "date",
         "rawType": "datetime64[ns]",
         "type": "datetime"
        },
        {
         "name": "avg_tone",
         "rawType": "float64",
         "type": "float"
        }
       ],
       "conversionMethod": "pd.DataFrame",
       "ref": "c213d862-d8ef-45ae-9895-60d0db9832a2",
       "rows": [
        [
         "6",
         "4.4270559815145605",
         "198.85",
         "184395900",
         "16.83",
         "2023-04-18 00:00:00",
         "2.298309004191357"
        ],
        [
         "7",
         "-13.291425697762138",
         "172.42",
         "120859500",
         "16.46",
         "2023-04-19 00:00:00",
         "2.288625036646145"
        ],
        [
         "8",
         "5.2430112515949645",
         "181.46",
         "160466300",
         "17.17",
         "2023-04-20 00:00:00",
         "2.281590664824198"
        ],
        [
         "9",
         "3.8135126198611147",
         "188.38",
         "125910913",
         "16.77",
         "2023-04-21 00:00:00",
         "2.309622150833716"
        ],
        [
         "12",
         "7.861768765261701",
         "203.19",
         "103419006",
         "16.89",
         "2023-04-24 00:00:00",
         "2.3115137346580945"
        ],
        [
         "13",
         "10.187509227816328",
         "223.89",
         "35905904",
         "18.76",
         "2023-04-25 00:00:00",
         "2.22703783963994"
        ],
        [
         "14",
         "-0.31265353521817696",
         "223.19",
         "36412740",
         "18.84",
         "2023-04-26 00:00:00",
         "2.273817135549872"
        ],
        [
         "15",
         "-0.47493167256598134",
         "222.13",
         "65299321",
         "17.03",
         "2023-04-27 00:00:00",
         "2.307471264367816"
        ],
        [
         "16",
         "-1.904290280466392",
         "217.9",
         "39818617",
         "15.78",
         "2023-04-28 00:00:00",
         "2.2497102169233316"
        ],
        [
         "19",
         "2.7306103717301466",
         "223.85",
         "37094800",
         "16.08",
         "2023-05-01 00:00:00",
         "2.316470588235294"
        ],
        [
         "20",
         "-1.0364083091355836",
         "221.53",
         "34532700",
         "17.78",
         "2023-05-02 00:00:00",
         "2.300062189054726"
        ],
        [
         "21",
         "1.002121608811457",
         "223.75",
         "34493600",
         "18.34",
         "2023-05-03 00:00:00",
         "2.2775391224301935"
        ],
        [
         "22",
         "-1.3497206703910636",
         "220.73",
         "44299500",
         "20.09",
         "2023-05-04 00:00:00",
         "2.3311743170937764"
        ],
        [
         "23",
         "-1.1144837584379008",
         "218.27",
         "94127800",
         "17.19",
         "2023-05-05 00:00:00",
         "2.3737824005283144"
        ],
        [
         "26",
         "-1.9104778485362184",
         "214.1",
         "48862947",
         "16.98",
         "2023-05-08 00:00:00",
         "2.3554797270172623"
        ],
        [
         "27",
         "0.5324614666043948",
         "215.24",
         "54385400",
         "17.71",
         "2023-05-09 00:00:00",
         "2.3182920912178555"
        ],
        [
         "28",
         "-1.1847240289909022",
         "212.69",
         "42432426",
         "16.94",
         "2023-05-10 00:00:00",
         "2.2902158273381295"
        ],
        [
         "29",
         "0.6159198833983748",
         "214.0",
         "48073426",
         "16.93",
         "2023-05-11 00:00:00",
         "2.230384219049021"
        ],
        [
         "30",
         "-0.2383177570093431",
         "213.49",
         "60107600",
         "17.03",
         "2023-05-12 00:00:00",
         "2.28"
        ],
        [
         "33",
         "-1.7846269146095883",
         "209.68",
         "61368330",
         "17.12",
         "2023-05-15 00:00:00",
         "2.3638963019443384"
        ],
        [
         "34",
         "3.4814956123616847",
         "216.98",
         "62547500",
         "17.99",
         "2023-05-16 00:00:00",
         "2.278896598409206"
        ],
        [
         "35",
         "1.778965803299859",
         "220.84",
         "76137410",
         "16.87",
         "2023-05-17 00:00:00",
         "2.349007314524556"
        ],
        [
         "36",
         "3.006701684477453",
         "227.48",
         "72071200",
         "16.05",
         "2023-05-18 00:00:00",
         "2.244685802948022"
        ],
        [
         "37",
         "5.094953402496927",
         "239.07",
         "46273600",
         "16.81",
         "2023-05-19 00:00:00",
         "2.3303254914598774"
        ],
        [
         "40",
         "-1.5643953653741494",
         "235.33",
         "45170419",
         "17.21",
         "2023-05-22 00:00:00",
         "2.284167794316644"
        ],
        [
         "41",
         "0.17422343092678982",
         "235.74",
         "47227643",
         "18.53",
         "2023-05-23 00:00:00",
         "2.290408230999004"
        ],
        [
         "42",
         "0.08059726817679636",
         "235.93",
         "53798100",
         "20.03",
         "2023-05-24 00:00:00",
         "2.313628899835797"
        ],
        [
         "43",
         "0.89009451956088",
         "238.03",
         "47184000",
         "19.14",
         "2023-05-25 00:00:00",
         "2.3145410235580828"
        ],
        [
         "44",
         "1.6006385749695484",
         "241.84",
         "56833400",
         "17.95",
         "2023-05-26 00:00:00",
         "2.2644092219020173"
        ],
        [
         "47",
         "-1.877274230896453",
         "237.3",
         "41153639",
         "17.46",
         "2023-05-29 00:00:00",
         "2.3443983402489628"
        ],
        [
         "48",
         "1.2895069532237624",
         "240.36",
         "44433600",
         "17.46",
         "2023-05-30 00:00:00",
         "2.3175997072813757"
        ],
        [
         "49",
         "2.779164586453642",
         "247.04",
         "48013300",
         "17.94",
         "2023-05-31 00:00:00",
         "2.307320219284102"
        ],
        [
         "50",
         "0.024287564766845016",
         "247.1",
         "51326400",
         "15.65",
         "2023-06-01 00:00:00",
         "2.324671158164902"
        ],
        [
         "51",
         "-0.6272764063132263",
         "245.55",
         "53197431",
         "14.6",
         "2023-06-02 00:00:00",
         "2.3334473324213407"
        ],
        [
         "54",
         "0.11402972917939902",
         "245.83",
         "32316907",
         "14.73",
         "2023-06-05 00:00:00",
         "2.347920792079208"
        ],
        [
         "55",
         "-0.3905137696782357",
         "244.87",
         "32204215",
         "13.96",
         "2023-06-06 00:00:00",
         "2.3251198941623947"
        ],
        [
         "56",
         "-0.16335198268468964",
         "244.47",
         "48822500",
         "13.94",
         "2023-06-07 00:00:00",
         "2.3011596180081857"
        ],
        [
         "57",
         "0.05317625884566635",
         "244.6",
         "40896227",
         "13.65",
         "2023-06-08 00:00:00",
         "2.29239672078444"
        ],
        [
         "58",
         "-1.2551103843008948",
         "241.53",
         "53614100",
         "13.83",
         "2023-06-09 00:00:00",
         "2.3074016829812813"
        ],
        [
         "61",
         "-1.9293669523454682",
         "236.87",
         "45243300",
         "15.01",
         "2023-06-12 00:00:00",
         "2.4082525194903974"
        ],
        [
         "62",
         "-1.7942331236543207",
         "232.62",
         "53718400",
         "14.61",
         "2023-06-13 00:00:00",
         "2.316067992302758"
        ],
        [
         "63",
         "-2.13653168257244",
         "227.65",
         "33115645",
         "13.88",
         "2023-06-14 00:00:00",
         "2.311141304347826"
        ],
        [
         "64",
         "-0.11860311882275765",
         "227.38",
         "39707224",
         "14.5",
         "2023-06-15 00:00:00",
         "2.3573786728293165"
        ],
        [
         "65",
         "2.4540416923212405",
         "232.96",
         "29925349",
         "13.54",
         "2023-06-16 00:00:00",
         "2.304721850506595"
        ],
        [
         "68",
         "-0.32194368131868156",
         "232.21",
         "39664989",
         "14.19",
         "2023-06-19 00:00:00",
         "2.2816526897115974"
        ],
        [
         "69",
         "0.142112742775935",
         "232.54",
         "45067301",
         "13.88",
         "2023-06-20 00:00:00",
         "2.273390627533647"
        ],
        [
         "70",
         "-2.05556033370603",
         "227.76",
         "73063301",
         "13.2",
         "2023-06-21 00:00:00",
         "2.229666562792147"
        ],
        [
         "71",
         "3.503688092729207",
         "235.74",
         "101075128",
         "12.91",
         "2023-06-22 00:00:00",
         "2.2359387590652697"
        ],
        [
         "72",
         "0.6744718757953683",
         "237.33",
         "55658300",
         "13.44",
         "2023-06-23 00:00:00",
         "2.3402905326431793"
        ],
        [
         "75",
         "0.7457969915307672",
         "239.1",
         "45486100",
         "14.25",
         "2023-06-26 00:00:00",
         "2.3594583504308577"
        ]
       ],
       "shape": {
        "columns": 6,
        "rows": 497
       }
      },
      "text/html": [
       "<div>\n",
       "<style scoped>\n",
       "    .dataframe tbody tr th:only-of-type {\n",
       "        vertical-align: middle;\n",
       "    }\n",
       "\n",
       "    .dataframe tbody tr th {\n",
       "        vertical-align: top;\n",
       "    }\n",
       "\n",
       "    .dataframe thead th {\n",
       "        text-align: right;\n",
       "    }\n",
       "</style>\n",
       "<table border=\"1\" class=\"dataframe\">\n",
       "  <thead>\n",
       "    <tr style=\"text-align: right;\">\n",
       "      <th></th>\n",
       "      <th>returns</th>\n",
       "      <th>adj_close</th>\n",
       "      <th>volume</th>\n",
       "      <th>VIXCLS</th>\n",
       "      <th>date</th>\n",
       "      <th>avg_tone</th>\n",
       "    </tr>\n",
       "  </thead>\n",
       "  <tbody>\n",
       "    <tr>\n",
       "      <th>6</th>\n",
       "      <td>4.427056</td>\n",
       "      <td>198.85</td>\n",
       "      <td>184395900</td>\n",
       "      <td>16.83</td>\n",
       "      <td>2023-04-18</td>\n",
       "      <td>2.298309</td>\n",
       "    </tr>\n",
       "    <tr>\n",
       "      <th>7</th>\n",
       "      <td>-13.291426</td>\n",
       "      <td>172.42</td>\n",
       "      <td>120859500</td>\n",
       "      <td>16.46</td>\n",
       "      <td>2023-04-19</td>\n",
       "      <td>2.288625</td>\n",
       "    </tr>\n",
       "    <tr>\n",
       "      <th>8</th>\n",
       "      <td>5.243011</td>\n",
       "      <td>181.46</td>\n",
       "      <td>160466300</td>\n",
       "      <td>17.17</td>\n",
       "      <td>2023-04-20</td>\n",
       "      <td>2.281591</td>\n",
       "    </tr>\n",
       "    <tr>\n",
       "      <th>9</th>\n",
       "      <td>3.813513</td>\n",
       "      <td>188.38</td>\n",
       "      <td>125910913</td>\n",
       "      <td>16.77</td>\n",
       "      <td>2023-04-21</td>\n",
       "      <td>2.309622</td>\n",
       "    </tr>\n",
       "    <tr>\n",
       "      <th>12</th>\n",
       "      <td>7.861769</td>\n",
       "      <td>203.19</td>\n",
       "      <td>103419006</td>\n",
       "      <td>16.89</td>\n",
       "      <td>2023-04-24</td>\n",
       "      <td>2.311514</td>\n",
       "    </tr>\n",
       "    <tr>\n",
       "      <th>...</th>\n",
       "      <td>...</td>\n",
       "      <td>...</td>\n",
       "      <td>...</td>\n",
       "      <td>...</td>\n",
       "      <td>...</td>\n",
       "      <td>...</td>\n",
       "    </tr>\n",
       "    <tr>\n",
       "      <th>694</th>\n",
       "      <td>0.956023</td>\n",
       "      <td>163.68</td>\n",
       "      <td>41949600</td>\n",
       "      <td>24.87</td>\n",
       "      <td>2025-03-06</td>\n",
       "      <td>2.265221</td>\n",
       "    </tr>\n",
       "    <tr>\n",
       "      <th>695</th>\n",
       "      <td>-0.189394</td>\n",
       "      <td>163.37</td>\n",
       "      <td>58337341</td>\n",
       "      <td>23.37</td>\n",
       "      <td>2025-03-07</td>\n",
       "      <td>2.259146</td>\n",
       "    </tr>\n",
       "    <tr>\n",
       "      <th>698</th>\n",
       "      <td>0.991614</td>\n",
       "      <td>164.99</td>\n",
       "      <td>52456400</td>\n",
       "      <td>27.86</td>\n",
       "      <td>2025-03-10</td>\n",
       "      <td>2.290376</td>\n",
       "    </tr>\n",
       "    <tr>\n",
       "      <th>699</th>\n",
       "      <td>0.587914</td>\n",
       "      <td>165.96</td>\n",
       "      <td>47720200</td>\n",
       "      <td>26.92</td>\n",
       "      <td>2025-03-11</td>\n",
       "      <td>2.291383</td>\n",
       "    </tr>\n",
       "    <tr>\n",
       "      <th>700</th>\n",
       "      <td>-0.692938</td>\n",
       "      <td>164.81</td>\n",
       "      <td>49923008</td>\n",
       "      <td>24.23</td>\n",
       "      <td>2025-03-12</td>\n",
       "      <td>2.227599</td>\n",
       "    </tr>\n",
       "  </tbody>\n",
       "</table>\n",
       "<p>497 rows × 6 columns</p>\n",
       "</div>"
      ],
      "text/plain": [
       "       returns  adj_close     volume  VIXCLS       date  avg_tone\n",
       "6     4.427056     198.85  184395900   16.83 2023-04-18  2.298309\n",
       "7   -13.291426     172.42  120859500   16.46 2023-04-19  2.288625\n",
       "8     5.243011     181.46  160466300   17.17 2023-04-20  2.281591\n",
       "9     3.813513     188.38  125910913   16.77 2023-04-21  2.309622\n",
       "12    7.861769     203.19  103419006   16.89 2023-04-24  2.311514\n",
       "..         ...        ...        ...     ...        ...       ...\n",
       "694   0.956023     163.68   41949600   24.87 2025-03-06  2.265221\n",
       "695  -0.189394     163.37   58337341   23.37 2025-03-07  2.259146\n",
       "698   0.991614     164.99   52456400   27.86 2025-03-10  2.290376\n",
       "699   0.587914     165.96   47720200   26.92 2025-03-11  2.291383\n",
       "700  -0.692938     164.81   49923008   24.23 2025-03-12  2.227599\n",
       "\n",
       "[497 rows x 6 columns]"
      ]
     },
     "execution_count": 15,
     "metadata": {},
     "output_type": "execute_result"
    }
   ],
   "source": [
    "final_df = final_df.rename(columns={'adjClose':'returns'})\n",
    "final_df"
   ]
  },
  {
   "cell_type": "code",
   "execution_count": 16,
   "metadata": {},
   "outputs": [
    {
     "data": {
      "application/vnd.plotly.v1+json": {
       "config": {
        "plotlyServerURL": "https://plot.ly"
       },
       "data": [
        {
         "line": {
          "color": "#5B8FB9",
          "width": 3.5
         },
         "name": "Apple Cumulative Return",
         "type": "scatter",
         "x": [
          "2023-04-18T00:00:00",
          "2023-04-19T00:00:00",
          "2023-04-20T00:00:00",
          "2023-04-21T00:00:00",
          "2023-04-24T00:00:00",
          "2023-04-25T00:00:00",
          "2023-04-26T00:00:00",
          "2023-04-27T00:00:00",
          "2023-04-28T00:00:00",
          "2023-05-01T00:00:00",
          "2023-05-02T00:00:00",
          "2023-05-03T00:00:00",
          "2023-05-04T00:00:00",
          "2023-05-05T00:00:00",
          "2023-05-08T00:00:00",
          "2023-05-09T00:00:00",
          "2023-05-10T00:00:00",
          "2023-05-11T00:00:00",
          "2023-05-12T00:00:00",
          "2023-05-15T00:00:00",
          "2023-05-16T00:00:00",
          "2023-05-17T00:00:00",
          "2023-05-18T00:00:00",
          "2023-05-19T00:00:00",
          "2023-05-22T00:00:00",
          "2023-05-23T00:00:00",
          "2023-05-24T00:00:00",
          "2023-05-25T00:00:00",
          "2023-05-26T00:00:00",
          "2023-05-29T00:00:00",
          "2023-05-30T00:00:00",
          "2023-05-31T00:00:00",
          "2023-06-01T00:00:00",
          "2023-06-02T00:00:00",
          "2023-06-05T00:00:00",
          "2023-06-06T00:00:00",
          "2023-06-07T00:00:00",
          "2023-06-08T00:00:00",
          "2023-06-09T00:00:00",
          "2023-06-12T00:00:00",
          "2023-06-13T00:00:00",
          "2023-06-14T00:00:00",
          "2023-06-15T00:00:00",
          "2023-06-16T00:00:00",
          "2023-06-19T00:00:00",
          "2023-06-20T00:00:00",
          "2023-06-21T00:00:00",
          "2023-06-22T00:00:00",
          "2023-06-23T00:00:00",
          "2023-06-26T00:00:00",
          "2023-06-27T00:00:00",
          "2023-06-28T00:00:00",
          "2023-06-29T00:00:00",
          "2023-06-30T00:00:00",
          "2023-07-03T00:00:00",
          "2023-07-04T00:00:00",
          "2023-07-05T00:00:00",
          "2023-07-06T00:00:00",
          "2023-07-07T00:00:00",
          "2023-07-10T00:00:00",
          "2023-07-11T00:00:00",
          "2023-07-12T00:00:00",
          "2023-07-13T00:00:00",
          "2023-07-14T00:00:00",
          "2023-07-17T00:00:00",
          "2023-07-18T00:00:00",
          "2023-07-19T00:00:00",
          "2023-07-20T00:00:00",
          "2023-07-21T00:00:00",
          "2023-07-24T00:00:00",
          "2023-07-25T00:00:00",
          "2023-07-26T00:00:00",
          "2023-07-27T00:00:00",
          "2023-07-28T00:00:00",
          "2023-07-31T00:00:00",
          "2023-08-01T00:00:00",
          "2023-08-02T00:00:00",
          "2023-08-03T00:00:00",
          "2023-08-04T00:00:00",
          "2023-08-07T00:00:00",
          "2023-08-08T00:00:00",
          "2023-08-09T00:00:00",
          "2023-08-10T00:00:00",
          "2023-08-11T00:00:00",
          "2023-08-14T00:00:00",
          "2023-08-15T00:00:00",
          "2023-08-16T00:00:00",
          "2023-08-17T00:00:00",
          "2023-08-18T00:00:00",
          "2023-08-21T00:00:00",
          "2023-08-22T00:00:00",
          "2023-08-23T00:00:00",
          "2023-08-24T00:00:00",
          "2023-08-25T00:00:00",
          "2023-08-28T00:00:00",
          "2023-08-29T00:00:00",
          "2023-08-30T00:00:00",
          "2023-08-31T00:00:00",
          "2023-09-01T00:00:00",
          "2023-09-04T00:00:00",
          "2023-09-05T00:00:00",
          "2023-09-06T00:00:00",
          "2023-09-07T00:00:00",
          "2023-09-08T00:00:00",
          "2023-09-11T00:00:00",
          "2023-09-12T00:00:00",
          "2023-09-13T00:00:00",
          "2023-09-14T00:00:00",
          "2023-09-15T00:00:00",
          "2023-09-18T00:00:00",
          "2023-09-19T00:00:00",
          "2023-09-20T00:00:00",
          "2023-09-21T00:00:00",
          "2023-09-22T00:00:00",
          "2023-09-25T00:00:00",
          "2023-09-26T00:00:00",
          "2023-09-27T00:00:00",
          "2023-09-28T00:00:00",
          "2023-09-29T00:00:00",
          "2023-10-02T00:00:00",
          "2023-10-03T00:00:00",
          "2023-10-04T00:00:00",
          "2023-10-05T00:00:00",
          "2023-10-06T00:00:00",
          "2023-10-09T00:00:00",
          "2023-10-10T00:00:00",
          "2023-10-11T00:00:00",
          "2023-10-12T00:00:00",
          "2023-10-13T00:00:00",
          "2023-10-16T00:00:00",
          "2023-10-17T00:00:00",
          "2023-10-18T00:00:00",
          "2023-10-19T00:00:00",
          "2023-10-20T00:00:00",
          "2023-10-23T00:00:00",
          "2023-10-24T00:00:00",
          "2023-10-25T00:00:00",
          "2023-10-26T00:00:00",
          "2023-10-27T00:00:00",
          "2023-10-30T00:00:00",
          "2023-10-31T00:00:00",
          "2023-11-01T00:00:00",
          "2023-11-02T00:00:00",
          "2023-11-03T00:00:00",
          "2023-11-06T00:00:00",
          "2023-11-07T00:00:00",
          "2023-11-08T00:00:00",
          "2023-11-09T00:00:00",
          "2023-11-10T00:00:00",
          "2023-11-13T00:00:00",
          "2023-11-14T00:00:00",
          "2023-11-15T00:00:00",
          "2023-11-16T00:00:00",
          "2023-11-17T00:00:00",
          "2023-11-20T00:00:00",
          "2023-11-21T00:00:00",
          "2023-11-22T00:00:00",
          "2023-11-23T00:00:00",
          "2023-11-24T00:00:00",
          "2023-11-27T00:00:00",
          "2023-11-28T00:00:00",
          "2023-11-29T00:00:00",
          "2023-11-30T00:00:00",
          "2023-12-01T00:00:00",
          "2023-12-04T00:00:00",
          "2023-12-05T00:00:00",
          "2023-12-06T00:00:00",
          "2023-12-07T00:00:00",
          "2023-12-08T00:00:00",
          "2023-12-11T00:00:00",
          "2023-12-12T00:00:00",
          "2023-12-13T00:00:00",
          "2023-12-14T00:00:00",
          "2023-12-15T00:00:00",
          "2023-12-18T00:00:00",
          "2023-12-19T00:00:00",
          "2023-12-20T00:00:00",
          "2023-12-21T00:00:00",
          "2023-12-22T00:00:00",
          "2023-12-25T00:00:00",
          "2023-12-26T00:00:00",
          "2023-12-27T00:00:00",
          "2023-12-28T00:00:00",
          "2023-12-29T00:00:00",
          "2024-01-01T00:00:00",
          "2024-01-02T00:00:00",
          "2024-01-03T00:00:00",
          "2024-01-04T00:00:00",
          "2024-01-05T00:00:00",
          "2024-01-08T00:00:00",
          "2024-01-09T00:00:00",
          "2024-01-10T00:00:00",
          "2024-01-11T00:00:00",
          "2024-01-12T00:00:00",
          "2024-01-15T00:00:00",
          "2024-01-16T00:00:00",
          "2024-01-17T00:00:00",
          "2024-01-18T00:00:00",
          "2024-01-19T00:00:00",
          "2024-01-22T00:00:00",
          "2024-01-23T00:00:00",
          "2024-01-24T00:00:00",
          "2024-01-25T00:00:00",
          "2024-01-26T00:00:00",
          "2024-01-29T00:00:00",
          "2024-01-30T00:00:00",
          "2024-01-31T00:00:00",
          "2024-02-01T00:00:00",
          "2024-02-02T00:00:00",
          "2024-02-05T00:00:00",
          "2024-02-06T00:00:00",
          "2024-02-07T00:00:00",
          "2024-02-08T00:00:00",
          "2024-02-09T00:00:00",
          "2024-02-12T00:00:00",
          "2024-02-13T00:00:00",
          "2024-02-14T00:00:00",
          "2024-02-15T00:00:00",
          "2024-02-16T00:00:00",
          "2024-02-19T00:00:00",
          "2024-02-20T00:00:00",
          "2024-02-21T00:00:00",
          "2024-02-22T00:00:00",
          "2024-02-23T00:00:00",
          "2024-02-26T00:00:00",
          "2024-02-27T00:00:00",
          "2024-02-28T00:00:00",
          "2024-02-29T00:00:00",
          "2024-03-01T00:00:00",
          "2024-03-04T00:00:00",
          "2024-03-05T00:00:00",
          "2024-03-06T00:00:00",
          "2024-03-07T00:00:00",
          "2024-03-08T00:00:00",
          "2024-03-11T00:00:00",
          "2024-03-12T00:00:00",
          "2024-03-13T00:00:00",
          "2024-03-14T00:00:00",
          "2024-03-15T00:00:00",
          "2024-03-18T00:00:00",
          "2024-03-19T00:00:00",
          "2024-03-20T00:00:00",
          "2024-03-21T00:00:00",
          "2024-03-22T00:00:00",
          "2024-03-25T00:00:00",
          "2024-03-26T00:00:00",
          "2024-03-27T00:00:00",
          "2024-03-28T00:00:00",
          "2024-03-29T00:00:00",
          "2024-04-01T00:00:00",
          "2024-04-02T00:00:00",
          "2024-04-03T00:00:00",
          "2024-04-04T00:00:00",
          "2024-04-05T00:00:00",
          "2024-04-08T00:00:00",
          "2024-04-09T00:00:00",
          "2024-04-10T00:00:00",
          "2024-04-11T00:00:00",
          "2024-04-12T00:00:00",
          "2024-04-15T00:00:00",
          "2024-04-16T00:00:00",
          "2024-04-17T00:00:00",
          "2024-04-18T00:00:00",
          "2024-04-19T00:00:00",
          "2024-04-22T00:00:00",
          "2024-04-23T00:00:00",
          "2024-04-24T00:00:00",
          "2024-04-25T00:00:00",
          "2024-04-26T00:00:00",
          "2024-04-29T00:00:00",
          "2024-04-30T00:00:00",
          "2024-05-01T00:00:00",
          "2024-05-02T00:00:00",
          "2024-05-03T00:00:00",
          "2024-05-06T00:00:00",
          "2024-05-07T00:00:00",
          "2024-05-08T00:00:00",
          "2024-05-09T00:00:00",
          "2024-05-10T00:00:00",
          "2024-05-13T00:00:00",
          "2024-05-14T00:00:00",
          "2024-05-15T00:00:00",
          "2024-05-16T00:00:00",
          "2024-05-17T00:00:00",
          "2024-05-20T00:00:00",
          "2024-05-21T00:00:00",
          "2024-05-22T00:00:00",
          "2024-05-23T00:00:00",
          "2024-05-24T00:00:00",
          "2024-05-27T00:00:00",
          "2024-05-28T00:00:00",
          "2024-05-29T00:00:00",
          "2024-05-30T00:00:00",
          "2024-05-31T00:00:00",
          "2024-06-03T00:00:00",
          "2024-06-04T00:00:00",
          "2024-06-05T00:00:00",
          "2024-06-06T00:00:00",
          "2024-06-07T00:00:00",
          "2024-06-10T00:00:00",
          "2024-06-11T00:00:00",
          "2024-06-12T00:00:00",
          "2024-06-13T00:00:00",
          "2024-06-14T00:00:00",
          "2024-06-17T00:00:00",
          "2024-06-18T00:00:00",
          "2024-06-19T00:00:00",
          "2024-06-20T00:00:00",
          "2024-06-21T00:00:00",
          "2024-06-24T00:00:00",
          "2024-06-25T00:00:00",
          "2024-06-26T00:00:00",
          "2024-06-27T00:00:00",
          "2024-06-28T00:00:00",
          "2024-07-01T00:00:00",
          "2024-07-02T00:00:00",
          "2024-07-03T00:00:00",
          "2024-07-04T00:00:00",
          "2024-07-05T00:00:00",
          "2024-07-08T00:00:00",
          "2024-07-09T00:00:00",
          "2024-07-10T00:00:00",
          "2024-07-11T00:00:00",
          "2024-07-12T00:00:00",
          "2024-07-15T00:00:00",
          "2024-07-16T00:00:00",
          "2024-07-17T00:00:00",
          "2024-07-18T00:00:00",
          "2024-07-19T00:00:00",
          "2024-07-22T00:00:00",
          "2024-07-23T00:00:00",
          "2024-07-24T00:00:00",
          "2024-07-25T00:00:00",
          "2024-07-26T00:00:00",
          "2024-07-29T00:00:00",
          "2024-07-30T00:00:00",
          "2024-07-31T00:00:00",
          "2024-08-01T00:00:00",
          "2024-08-02T00:00:00",
          "2024-08-05T00:00:00",
          "2024-08-06T00:00:00",
          "2024-08-07T00:00:00",
          "2024-08-08T00:00:00",
          "2024-08-09T00:00:00",
          "2024-08-12T00:00:00",
          "2024-08-13T00:00:00",
          "2024-08-14T00:00:00",
          "2024-08-15T00:00:00",
          "2024-08-16T00:00:00",
          "2024-08-19T00:00:00",
          "2024-08-20T00:00:00",
          "2024-08-21T00:00:00",
          "2024-08-22T00:00:00",
          "2024-08-23T00:00:00",
          "2024-08-26T00:00:00",
          "2024-08-27T00:00:00",
          "2024-08-28T00:00:00",
          "2024-08-29T00:00:00",
          "2024-08-30T00:00:00",
          "2024-09-02T00:00:00",
          "2024-09-03T00:00:00",
          "2024-09-04T00:00:00",
          "2024-09-05T00:00:00",
          "2024-09-06T00:00:00",
          "2024-09-09T00:00:00",
          "2024-09-10T00:00:00",
          "2024-09-11T00:00:00",
          "2024-09-12T00:00:00",
          "2024-09-13T00:00:00",
          "2024-09-16T00:00:00",
          "2024-09-17T00:00:00",
          "2024-09-18T00:00:00",
          "2024-09-19T00:00:00",
          "2024-09-20T00:00:00",
          "2024-09-23T00:00:00",
          "2024-09-24T00:00:00",
          "2024-09-25T00:00:00",
          "2024-09-26T00:00:00",
          "2024-09-27T00:00:00",
          "2024-09-30T00:00:00",
          "2024-10-01T00:00:00",
          "2024-10-02T00:00:00",
          "2024-10-03T00:00:00",
          "2024-10-04T00:00:00",
          "2024-10-07T00:00:00",
          "2024-10-08T00:00:00",
          "2024-10-09T00:00:00",
          "2024-10-10T00:00:00",
          "2024-10-11T00:00:00",
          "2024-10-14T00:00:00",
          "2024-10-15T00:00:00",
          "2024-10-16T00:00:00",
          "2024-10-17T00:00:00",
          "2024-10-18T00:00:00",
          "2024-10-21T00:00:00",
          "2024-10-22T00:00:00",
          "2024-10-23T00:00:00",
          "2024-10-24T00:00:00",
          "2024-10-25T00:00:00",
          "2024-10-28T00:00:00",
          "2024-10-29T00:00:00",
          "2024-10-30T00:00:00",
          "2024-10-31T00:00:00",
          "2024-11-01T00:00:00",
          "2024-11-04T00:00:00",
          "2024-11-05T00:00:00",
          "2024-11-06T00:00:00",
          "2024-11-07T00:00:00",
          "2024-11-08T00:00:00",
          "2024-11-11T00:00:00",
          "2024-11-12T00:00:00",
          "2024-11-13T00:00:00",
          "2024-11-14T00:00:00",
          "2024-11-15T00:00:00",
          "2024-11-18T00:00:00",
          "2024-11-19T00:00:00",
          "2024-11-20T00:00:00",
          "2024-11-21T00:00:00",
          "2024-11-22T00:00:00",
          "2024-11-25T00:00:00",
          "2024-11-26T00:00:00",
          "2024-11-27T00:00:00",
          "2024-11-28T00:00:00",
          "2024-11-29T00:00:00",
          "2024-12-02T00:00:00",
          "2024-12-03T00:00:00",
          "2024-12-04T00:00:00",
          "2024-12-05T00:00:00",
          "2024-12-06T00:00:00",
          "2024-12-09T00:00:00",
          "2024-12-10T00:00:00",
          "2024-12-11T00:00:00",
          "2024-12-12T00:00:00",
          "2024-12-13T00:00:00",
          "2024-12-16T00:00:00",
          "2024-12-17T00:00:00",
          "2024-12-18T00:00:00",
          "2024-12-19T00:00:00",
          "2024-12-20T00:00:00",
          "2024-12-23T00:00:00",
          "2024-12-24T00:00:00",
          "2024-12-25T00:00:00",
          "2024-12-26T00:00:00",
          "2024-12-27T00:00:00",
          "2024-12-30T00:00:00",
          "2024-12-31T00:00:00",
          "2025-01-01T00:00:00",
          "2025-01-02T00:00:00",
          "2025-01-03T00:00:00",
          "2025-01-06T00:00:00",
          "2025-01-07T00:00:00",
          "2025-01-08T00:00:00",
          "2025-01-09T00:00:00",
          "2025-01-10T00:00:00",
          "2025-01-13T00:00:00",
          "2025-01-14T00:00:00",
          "2025-01-15T00:00:00",
          "2025-01-16T00:00:00",
          "2025-01-17T00:00:00",
          "2025-01-20T00:00:00",
          "2025-01-21T00:00:00",
          "2025-01-22T00:00:00",
          "2025-01-23T00:00:00",
          "2025-01-24T00:00:00",
          "2025-01-27T00:00:00",
          "2025-01-28T00:00:00",
          "2025-01-29T00:00:00",
          "2025-01-30T00:00:00",
          "2025-01-31T00:00:00",
          "2025-02-03T00:00:00",
          "2025-02-04T00:00:00",
          "2025-02-05T00:00:00",
          "2025-02-06T00:00:00",
          "2025-02-07T00:00:00",
          "2025-02-10T00:00:00",
          "2025-02-11T00:00:00",
          "2025-02-12T00:00:00",
          "2025-02-13T00:00:00",
          "2025-02-14T00:00:00",
          "2025-02-17T00:00:00",
          "2025-02-18T00:00:00",
          "2025-02-19T00:00:00",
          "2025-02-20T00:00:00",
          "2025-02-21T00:00:00",
          "2025-02-24T00:00:00",
          "2025-02-25T00:00:00",
          "2025-02-26T00:00:00",
          "2025-02-27T00:00:00",
          "2025-02-28T00:00:00",
          "2025-03-03T00:00:00",
          "2025-03-04T00:00:00",
          "2025-03-05T00:00:00",
          "2025-03-06T00:00:00",
          "2025-03-07T00:00:00",
          "2025-03-10T00:00:00",
          "2025-03-11T00:00:00",
          "2025-03-12T00:00:00"
         ],
         "y": [
          198.85,
          172.42,
          181.46,
          188.38,
          203.19,
          223.89,
          223.19,
          222.13,
          217.9,
          223.85,
          221.53,
          223.75,
          220.73,
          218.27,
          214.1,
          215.24,
          212.69,
          214,
          213.49,
          209.68,
          216.98,
          220.84,
          227.48,
          239.07,
          235.33,
          235.74,
          235.93,
          238.03,
          241.84,
          237.3,
          240.36,
          247.04,
          247.1,
          245.55,
          245.83,
          244.87,
          244.47,
          244.6,
          241.53,
          236.87,
          232.62,
          227.65,
          227.38,
          232.96,
          232.21,
          232.54,
          227.76,
          235.74,
          237.33,
          239.1,
          238,
          229.61,
          222.54,
          223.41,
          223.58,
          222.4,
          229.73,
          228.01,
          237.61,
          233.02,
          234.14,
          236.59,
          242.43,
          241.94,
          244.73,
          243.09,
          243.58,
          250.14,
          251.92,
          255.31,
          258.74,
          257.92,
          254.99,
          254.21,
          249.52,
          247.78,
          253.2,
          250.76,
          247.86,
          247.69,
          246.22,
          247.5,
          246.48,
          242.57,
          242.77,
          242.74,
          242.38,
          239.33,
          237.07,
          234.67,
          234.8,
          232.61,
          229.62,
          228.27,
          228.75,
          228.03,
          227.77,
          224.75,
          227.97,
          224.87,
          223.98,
          223.98,
          226.71,
          226.98,
          222.23,
          222.96,
          221.52,
          222.42,
          225.41,
          229.59,
          233.16,
          232.89,
          230.9,
          230.06,
          230.25,
          235.34,
          235.96,
          234.48,
          231.64,
          231.27,
          233.34,
          230.79,
          227.05,
          228.54,
          229.04,
          225.27,
          221.2,
          226.3,
          225.17,
          226.28,
          225.71,
          232.49,
          227.29,
          227.02,
          225.87,
          226.87,
          225.97,
          227.7,
          228.37,
          220.21,
          216.31,
          215.84,
          222.01,
          222.28,
          222.17,
          219.63,
          220.42,
          220.34,
          221.89,
          220.36,
          222.28,
          228.5,
          229.29,
          225.99,
          227.53,
          226.68,
          226.34,
          224.04,
          225.9,
          226.01,
          225.39,
          225.55,
          224.23,
          221.23,
          220.78,
          217.05,
          215.52,
          212.6,
          209.12,
          206.54,
          208.57,
          219.12,
          217.63,
          221.34,
          218.07,
          217.51,
          217.23,
          216.76,
          217.81,
          224.26,
          223.21,
          223.56,
          223.43,
          228.11,
          234.03,
          233.61,
          229.77,
          226.81,
          232.2,
          227.91,
          227.06,
          225.58,
          220.81,
          219.53,
          216.02,
          209.91,
          213.38,
          212.54,
          208.37,
          207.44,
          206.79,
          208.98,
          213.57,
          215.94,
          211.78,
          213.52,
          212.36,
          206.46,
          192.47,
          196.23,
          193.83,
          195.21,
          193.7,
          193.38,
          191.61,
          190.65,
          189.65,
          189.35,
          189.34,
          186.25,
          190.26,
          191.71,
          190.4,
          189.23,
          189.2,
          189.08,
          186.8,
          185.66,
          182.44,
          183.7,
          181.88,
          181.54,
          180.86,
          182.52,
          172.22,
          168.5,
          169.53,
          172.68,
          168.5,
          169.09,
          168.23,
          166.12,
          165.06,
          164.22,
          166.25,
          167.21,
          168.58,
          171.88,
          175.72,
          174.22,
          166.99,
          168.87,
          167.66,
          168.78,
          168.03,
          168.85,
          168.05,
          169.23,
          170.67,
          172.5,
          168.91,
          170.05,
          171.47,
          170.56,
          177.83,
          175.25,
          172.9,
          171.81,
          172.19,
          170.33,
          172.42,
          171.94,
          169.93,
          168.21,
          168.33,
          169.32,
          174.28,
          178.82,
          179.9,
          180.57,
          181.77,
          180.31,
          181.66,
          183.5,
          181.46,
          180.71,
          181.45,
          183,
          183.28,
          184.17,
          186.27,
          187.96,
          187.2,
          188.28,
          188.17,
          186.56,
          184.74,
          185.74,
          183.3,
          186.92,
          190.59,
          191.27,
          193.01,
          193.34,
          194.02,
          192.73,
          190.42,
          187.5,
          181.59,
          182.53,
          184.81,
          184.48,
          185.08,
          184.04,
          184.45,
          180.1,
          180.82,
          183.15,
          184.53,
          191.38,
          192.42,
          192,
          191.9,
          192.44,
          193.52,
          193.67,
          195.76,
          194.72,
          196.39,
          196.93,
          196.78,
          193.55,
          192.03,
          194.54,
          193.11,
          191.17,
          192.27,
          188.3,
          190.1,
          188.82,
          188.24,
          189.26,
          188.66,
          188.84,
          190.17,
          189.5,
          190.31,
          188.56,
          188.58,
          186.89,
          186.32,
          183.7,
          185.29,
          181.08,
          181.56,
          180.5,
          177.93,
          175.36,
          176.28,
          172.7,
          169.53,
          169.05,
          167,
          165.68,
          169.86,
          172.18,
          171.74,
          171.62,
          174.18,
          174.56,
          175.86,
          177.42,
          177.55,
          179.4,
          178.49,
          177.09,
          177.69,
          176.2,
          173.64,
          172.4,
          171.15,
          172.49,
          169.96,
          169.45,
          169.19,
          170.71,
          174.8,
          173.52,
          172.66,
          174.21,
          177.77,
          176.68,
          173.74,
          174.46,
          172.94,
          175.02,
          178.05,
          176.88,
          176.27,
          181.58,
          188.32,
          188.08,
          186.5,
          186.28,
          182.78,
          178.88,
          177.31,
          175.1,
          179.8,
          175.94,
          174.56,
          173.22,
          172.73,
          175.29,
          176.16,
          178.15,
          176.5,
          176.44,
          176.65,
          178.25,
          177.31,
          180.42,
          189.52,
          190.92,
          193.92,
          194.76,
          194.14,
          191.56,
          192.82,
          191.95,
          191.09,
          190.29,
          191.47,
          193.42,
          192.06,
          192.32,
          189.05,
          188.9,
          188.14,
          186.46,
          186.99,
          189.04,
          190.16,
          189.68,
          190.8,
          192.3,
          187.96,
          187.62,
          186.44,
          183.67,
          185.07,
          185.39,
          182.38,
          183.42,
          183.33,
          184.41,
          182.37,
          181.73,
          182.21,
          179.4,
          179.01,
          176.29,
          177.67,
          178.03,
          179.39,
          178.54,
          175.72,
          175.77,
          173.92,
          171.5,
          170.36,
          170.08,
          172.7,
          173.65,
          173.54,
          171.2,
          170.59,
          170.59,
          171.08,
          172.02,
          171.82,
          170.06,
          171.77,
          171.84,
          164.13,
          165.78,
          166.86,
          167.9,
          167.99,
          166.73,
          162.13,
          162.13,
          163.68,
          163.37,
          164.99,
          165.96,
          164.81
         ],
         "yaxis": "y"
        },
        {
         "line": {
          "color": "#B6EADA",
          "width": 3.5
         },
         "name": "Sentiment Score (Smoothed)",
         "type": "scatter",
         "x": [
          "2023-04-18T00:00:00",
          "2023-04-19T00:00:00",
          "2023-04-20T00:00:00",
          "2023-04-21T00:00:00",
          "2023-04-24T00:00:00",
          "2023-04-25T00:00:00",
          "2023-04-26T00:00:00",
          "2023-04-27T00:00:00",
          "2023-04-28T00:00:00",
          "2023-05-01T00:00:00",
          "2023-05-02T00:00:00",
          "2023-05-03T00:00:00",
          "2023-05-04T00:00:00",
          "2023-05-05T00:00:00",
          "2023-05-08T00:00:00",
          "2023-05-09T00:00:00",
          "2023-05-10T00:00:00",
          "2023-05-11T00:00:00",
          "2023-05-12T00:00:00",
          "2023-05-15T00:00:00",
          "2023-05-16T00:00:00",
          "2023-05-17T00:00:00",
          "2023-05-18T00:00:00",
          "2023-05-19T00:00:00",
          "2023-05-22T00:00:00",
          "2023-05-23T00:00:00",
          "2023-05-24T00:00:00",
          "2023-05-25T00:00:00",
          "2023-05-26T00:00:00",
          "2023-05-29T00:00:00",
          "2023-05-30T00:00:00",
          "2023-05-31T00:00:00",
          "2023-06-01T00:00:00",
          "2023-06-02T00:00:00",
          "2023-06-05T00:00:00",
          "2023-06-06T00:00:00",
          "2023-06-07T00:00:00",
          "2023-06-08T00:00:00",
          "2023-06-09T00:00:00",
          "2023-06-12T00:00:00",
          "2023-06-13T00:00:00",
          "2023-06-14T00:00:00",
          "2023-06-15T00:00:00",
          "2023-06-16T00:00:00",
          "2023-06-19T00:00:00",
          "2023-06-20T00:00:00",
          "2023-06-21T00:00:00",
          "2023-06-22T00:00:00",
          "2023-06-23T00:00:00",
          "2023-06-26T00:00:00",
          "2023-06-27T00:00:00",
          "2023-06-28T00:00:00",
          "2023-06-29T00:00:00",
          "2023-06-30T00:00:00",
          "2023-07-03T00:00:00",
          "2023-07-04T00:00:00",
          "2023-07-05T00:00:00",
          "2023-07-06T00:00:00",
          "2023-07-07T00:00:00",
          "2023-07-10T00:00:00",
          "2023-07-11T00:00:00",
          "2023-07-12T00:00:00",
          "2023-07-13T00:00:00",
          "2023-07-14T00:00:00",
          "2023-07-17T00:00:00",
          "2023-07-18T00:00:00",
          "2023-07-19T00:00:00",
          "2023-07-20T00:00:00",
          "2023-07-21T00:00:00",
          "2023-07-24T00:00:00",
          "2023-07-25T00:00:00",
          "2023-07-26T00:00:00",
          "2023-07-27T00:00:00",
          "2023-07-28T00:00:00",
          "2023-07-31T00:00:00",
          "2023-08-01T00:00:00",
          "2023-08-02T00:00:00",
          "2023-08-03T00:00:00",
          "2023-08-04T00:00:00",
          "2023-08-07T00:00:00",
          "2023-08-08T00:00:00",
          "2023-08-09T00:00:00",
          "2023-08-10T00:00:00",
          "2023-08-11T00:00:00",
          "2023-08-14T00:00:00",
          "2023-08-15T00:00:00",
          "2023-08-16T00:00:00",
          "2023-08-17T00:00:00",
          "2023-08-18T00:00:00",
          "2023-08-21T00:00:00",
          "2023-08-22T00:00:00",
          "2023-08-23T00:00:00",
          "2023-08-24T00:00:00",
          "2023-08-25T00:00:00",
          "2023-08-28T00:00:00",
          "2023-08-29T00:00:00",
          "2023-08-30T00:00:00",
          "2023-08-31T00:00:00",
          "2023-09-01T00:00:00",
          "2023-09-04T00:00:00",
          "2023-09-05T00:00:00",
          "2023-09-06T00:00:00",
          "2023-09-07T00:00:00",
          "2023-09-08T00:00:00",
          "2023-09-11T00:00:00",
          "2023-09-12T00:00:00",
          "2023-09-13T00:00:00",
          "2023-09-14T00:00:00",
          "2023-09-15T00:00:00",
          "2023-09-18T00:00:00",
          "2023-09-19T00:00:00",
          "2023-09-20T00:00:00",
          "2023-09-21T00:00:00",
          "2023-09-22T00:00:00",
          "2023-09-25T00:00:00",
          "2023-09-26T00:00:00",
          "2023-09-27T00:00:00",
          "2023-09-28T00:00:00",
          "2023-09-29T00:00:00",
          "2023-10-02T00:00:00",
          "2023-10-03T00:00:00",
          "2023-10-04T00:00:00",
          "2023-10-05T00:00:00",
          "2023-10-06T00:00:00",
          "2023-10-09T00:00:00",
          "2023-10-10T00:00:00",
          "2023-10-11T00:00:00",
          "2023-10-12T00:00:00",
          "2023-10-13T00:00:00",
          "2023-10-16T00:00:00",
          "2023-10-17T00:00:00",
          "2023-10-18T00:00:00",
          "2023-10-19T00:00:00",
          "2023-10-20T00:00:00",
          "2023-10-23T00:00:00",
          "2023-10-24T00:00:00",
          "2023-10-25T00:00:00",
          "2023-10-26T00:00:00",
          "2023-10-27T00:00:00",
          "2023-10-30T00:00:00",
          "2023-10-31T00:00:00",
          "2023-11-01T00:00:00",
          "2023-11-02T00:00:00",
          "2023-11-03T00:00:00",
          "2023-11-06T00:00:00",
          "2023-11-07T00:00:00",
          "2023-11-08T00:00:00",
          "2023-11-09T00:00:00",
          "2023-11-10T00:00:00",
          "2023-11-13T00:00:00",
          "2023-11-14T00:00:00",
          "2023-11-15T00:00:00",
          "2023-11-16T00:00:00",
          "2023-11-17T00:00:00",
          "2023-11-20T00:00:00",
          "2023-11-21T00:00:00",
          "2023-11-22T00:00:00",
          "2023-11-23T00:00:00",
          "2023-11-24T00:00:00",
          "2023-11-27T00:00:00",
          "2023-11-28T00:00:00",
          "2023-11-29T00:00:00",
          "2023-11-30T00:00:00",
          "2023-12-01T00:00:00",
          "2023-12-04T00:00:00",
          "2023-12-05T00:00:00",
          "2023-12-06T00:00:00",
          "2023-12-07T00:00:00",
          "2023-12-08T00:00:00",
          "2023-12-11T00:00:00",
          "2023-12-12T00:00:00",
          "2023-12-13T00:00:00",
          "2023-12-14T00:00:00",
          "2023-12-15T00:00:00",
          "2023-12-18T00:00:00",
          "2023-12-19T00:00:00",
          "2023-12-20T00:00:00",
          "2023-12-21T00:00:00",
          "2023-12-22T00:00:00",
          "2023-12-25T00:00:00",
          "2023-12-26T00:00:00",
          "2023-12-27T00:00:00",
          "2023-12-28T00:00:00",
          "2023-12-29T00:00:00",
          "2024-01-01T00:00:00",
          "2024-01-02T00:00:00",
          "2024-01-03T00:00:00",
          "2024-01-04T00:00:00",
          "2024-01-05T00:00:00",
          "2024-01-08T00:00:00",
          "2024-01-09T00:00:00",
          "2024-01-10T00:00:00",
          "2024-01-11T00:00:00",
          "2024-01-12T00:00:00",
          "2024-01-15T00:00:00",
          "2024-01-16T00:00:00",
          "2024-01-17T00:00:00",
          "2024-01-18T00:00:00",
          "2024-01-19T00:00:00",
          "2024-01-22T00:00:00",
          "2024-01-23T00:00:00",
          "2024-01-24T00:00:00",
          "2024-01-25T00:00:00",
          "2024-01-26T00:00:00",
          "2024-01-29T00:00:00",
          "2024-01-30T00:00:00",
          "2024-01-31T00:00:00",
          "2024-02-01T00:00:00",
          "2024-02-02T00:00:00",
          "2024-02-05T00:00:00",
          "2024-02-06T00:00:00",
          "2024-02-07T00:00:00",
          "2024-02-08T00:00:00",
          "2024-02-09T00:00:00",
          "2024-02-12T00:00:00",
          "2024-02-13T00:00:00",
          "2024-02-14T00:00:00",
          "2024-02-15T00:00:00",
          "2024-02-16T00:00:00",
          "2024-02-19T00:00:00",
          "2024-02-20T00:00:00",
          "2024-02-21T00:00:00",
          "2024-02-22T00:00:00",
          "2024-02-23T00:00:00",
          "2024-02-26T00:00:00",
          "2024-02-27T00:00:00",
          "2024-02-28T00:00:00",
          "2024-02-29T00:00:00",
          "2024-03-01T00:00:00",
          "2024-03-04T00:00:00",
          "2024-03-05T00:00:00",
          "2024-03-06T00:00:00",
          "2024-03-07T00:00:00",
          "2024-03-08T00:00:00",
          "2024-03-11T00:00:00",
          "2024-03-12T00:00:00",
          "2024-03-13T00:00:00",
          "2024-03-14T00:00:00",
          "2024-03-15T00:00:00",
          "2024-03-18T00:00:00",
          "2024-03-19T00:00:00",
          "2024-03-20T00:00:00",
          "2024-03-21T00:00:00",
          "2024-03-22T00:00:00",
          "2024-03-25T00:00:00",
          "2024-03-26T00:00:00",
          "2024-03-27T00:00:00",
          "2024-03-28T00:00:00",
          "2024-03-29T00:00:00",
          "2024-04-01T00:00:00",
          "2024-04-02T00:00:00",
          "2024-04-03T00:00:00",
          "2024-04-04T00:00:00",
          "2024-04-05T00:00:00",
          "2024-04-08T00:00:00",
          "2024-04-09T00:00:00",
          "2024-04-10T00:00:00",
          "2024-04-11T00:00:00",
          "2024-04-12T00:00:00",
          "2024-04-15T00:00:00",
          "2024-04-16T00:00:00",
          "2024-04-17T00:00:00",
          "2024-04-18T00:00:00",
          "2024-04-19T00:00:00",
          "2024-04-22T00:00:00",
          "2024-04-23T00:00:00",
          "2024-04-24T00:00:00",
          "2024-04-25T00:00:00",
          "2024-04-26T00:00:00",
          "2024-04-29T00:00:00",
          "2024-04-30T00:00:00",
          "2024-05-01T00:00:00",
          "2024-05-02T00:00:00",
          "2024-05-03T00:00:00",
          "2024-05-06T00:00:00",
          "2024-05-07T00:00:00",
          "2024-05-08T00:00:00",
          "2024-05-09T00:00:00",
          "2024-05-10T00:00:00",
          "2024-05-13T00:00:00",
          "2024-05-14T00:00:00",
          "2024-05-15T00:00:00",
          "2024-05-16T00:00:00",
          "2024-05-17T00:00:00",
          "2024-05-20T00:00:00",
          "2024-05-21T00:00:00",
          "2024-05-22T00:00:00",
          "2024-05-23T00:00:00",
          "2024-05-24T00:00:00",
          "2024-05-27T00:00:00",
          "2024-05-28T00:00:00",
          "2024-05-29T00:00:00",
          "2024-05-30T00:00:00",
          "2024-05-31T00:00:00",
          "2024-06-03T00:00:00",
          "2024-06-04T00:00:00",
          "2024-06-05T00:00:00",
          "2024-06-06T00:00:00",
          "2024-06-07T00:00:00",
          "2024-06-10T00:00:00",
          "2024-06-11T00:00:00",
          "2024-06-12T00:00:00",
          "2024-06-13T00:00:00",
          "2024-06-14T00:00:00",
          "2024-06-17T00:00:00",
          "2024-06-18T00:00:00",
          "2024-06-19T00:00:00",
          "2024-06-20T00:00:00",
          "2024-06-21T00:00:00",
          "2024-06-24T00:00:00",
          "2024-06-25T00:00:00",
          "2024-06-26T00:00:00",
          "2024-06-27T00:00:00",
          "2024-06-28T00:00:00",
          "2024-07-01T00:00:00",
          "2024-07-02T00:00:00",
          "2024-07-03T00:00:00",
          "2024-07-04T00:00:00",
          "2024-07-05T00:00:00",
          "2024-07-08T00:00:00",
          "2024-07-09T00:00:00",
          "2024-07-10T00:00:00",
          "2024-07-11T00:00:00",
          "2024-07-12T00:00:00",
          "2024-07-15T00:00:00",
          "2024-07-16T00:00:00",
          "2024-07-17T00:00:00",
          "2024-07-18T00:00:00",
          "2024-07-19T00:00:00",
          "2024-07-22T00:00:00",
          "2024-07-23T00:00:00",
          "2024-07-24T00:00:00",
          "2024-07-25T00:00:00",
          "2024-07-26T00:00:00",
          "2024-07-29T00:00:00",
          "2024-07-30T00:00:00",
          "2024-07-31T00:00:00",
          "2024-08-01T00:00:00",
          "2024-08-02T00:00:00",
          "2024-08-05T00:00:00",
          "2024-08-06T00:00:00",
          "2024-08-07T00:00:00",
          "2024-08-08T00:00:00",
          "2024-08-09T00:00:00",
          "2024-08-12T00:00:00",
          "2024-08-13T00:00:00",
          "2024-08-14T00:00:00",
          "2024-08-15T00:00:00",
          "2024-08-16T00:00:00",
          "2024-08-19T00:00:00",
          "2024-08-20T00:00:00",
          "2024-08-21T00:00:00",
          "2024-08-22T00:00:00",
          "2024-08-23T00:00:00",
          "2024-08-26T00:00:00",
          "2024-08-27T00:00:00",
          "2024-08-28T00:00:00",
          "2024-08-29T00:00:00",
          "2024-08-30T00:00:00",
          "2024-09-02T00:00:00",
          "2024-09-03T00:00:00",
          "2024-09-04T00:00:00",
          "2024-09-05T00:00:00",
          "2024-09-06T00:00:00",
          "2024-09-09T00:00:00",
          "2024-09-10T00:00:00",
          "2024-09-11T00:00:00",
          "2024-09-12T00:00:00",
          "2024-09-13T00:00:00",
          "2024-09-16T00:00:00",
          "2024-09-17T00:00:00",
          "2024-09-18T00:00:00",
          "2024-09-19T00:00:00",
          "2024-09-20T00:00:00",
          "2024-09-23T00:00:00",
          "2024-09-24T00:00:00",
          "2024-09-25T00:00:00",
          "2024-09-26T00:00:00",
          "2024-09-27T00:00:00",
          "2024-09-30T00:00:00",
          "2024-10-01T00:00:00",
          "2024-10-02T00:00:00",
          "2024-10-03T00:00:00",
          "2024-10-04T00:00:00",
          "2024-10-07T00:00:00",
          "2024-10-08T00:00:00",
          "2024-10-09T00:00:00",
          "2024-10-10T00:00:00",
          "2024-10-11T00:00:00",
          "2024-10-14T00:00:00",
          "2024-10-15T00:00:00",
          "2024-10-16T00:00:00",
          "2024-10-17T00:00:00",
          "2024-10-18T00:00:00",
          "2024-10-21T00:00:00",
          "2024-10-22T00:00:00",
          "2024-10-23T00:00:00",
          "2024-10-24T00:00:00",
          "2024-10-25T00:00:00",
          "2024-10-28T00:00:00",
          "2024-10-29T00:00:00",
          "2024-10-30T00:00:00",
          "2024-10-31T00:00:00",
          "2024-11-01T00:00:00",
          "2024-11-04T00:00:00",
          "2024-11-05T00:00:00",
          "2024-11-06T00:00:00",
          "2024-11-07T00:00:00",
          "2024-11-08T00:00:00",
          "2024-11-11T00:00:00",
          "2024-11-12T00:00:00",
          "2024-11-13T00:00:00",
          "2024-11-14T00:00:00",
          "2024-11-15T00:00:00",
          "2024-11-18T00:00:00",
          "2024-11-19T00:00:00",
          "2024-11-20T00:00:00",
          "2024-11-21T00:00:00",
          "2024-11-22T00:00:00",
          "2024-11-25T00:00:00",
          "2024-11-26T00:00:00",
          "2024-11-27T00:00:00",
          "2024-11-28T00:00:00",
          "2024-11-29T00:00:00",
          "2024-12-02T00:00:00",
          "2024-12-03T00:00:00",
          "2024-12-04T00:00:00",
          "2024-12-05T00:00:00",
          "2024-12-06T00:00:00",
          "2024-12-09T00:00:00",
          "2024-12-10T00:00:00",
          "2024-12-11T00:00:00",
          "2024-12-12T00:00:00",
          "2024-12-13T00:00:00",
          "2024-12-16T00:00:00",
          "2024-12-17T00:00:00",
          "2024-12-18T00:00:00",
          "2024-12-19T00:00:00",
          "2024-12-20T00:00:00",
          "2024-12-23T00:00:00",
          "2024-12-24T00:00:00",
          "2024-12-25T00:00:00",
          "2024-12-26T00:00:00",
          "2024-12-27T00:00:00",
          "2024-12-30T00:00:00",
          "2024-12-31T00:00:00",
          "2025-01-01T00:00:00",
          "2025-01-02T00:00:00",
          "2025-01-03T00:00:00",
          "2025-01-06T00:00:00",
          "2025-01-07T00:00:00",
          "2025-01-08T00:00:00",
          "2025-01-09T00:00:00",
          "2025-01-10T00:00:00",
          "2025-01-13T00:00:00",
          "2025-01-14T00:00:00",
          "2025-01-15T00:00:00",
          "2025-01-16T00:00:00",
          "2025-01-17T00:00:00",
          "2025-01-20T00:00:00",
          "2025-01-21T00:00:00",
          "2025-01-22T00:00:00",
          "2025-01-23T00:00:00",
          "2025-01-24T00:00:00",
          "2025-01-27T00:00:00",
          "2025-01-28T00:00:00",
          "2025-01-29T00:00:00",
          "2025-01-30T00:00:00",
          "2025-01-31T00:00:00",
          "2025-02-03T00:00:00",
          "2025-02-04T00:00:00",
          "2025-02-05T00:00:00",
          "2025-02-06T00:00:00",
          "2025-02-07T00:00:00",
          "2025-02-10T00:00:00",
          "2025-02-11T00:00:00",
          "2025-02-12T00:00:00",
          "2025-02-13T00:00:00",
          "2025-02-14T00:00:00",
          "2025-02-17T00:00:00",
          "2025-02-18T00:00:00",
          "2025-02-19T00:00:00",
          "2025-02-20T00:00:00",
          "2025-02-21T00:00:00",
          "2025-02-24T00:00:00",
          "2025-02-25T00:00:00",
          "2025-02-26T00:00:00",
          "2025-02-27T00:00:00",
          "2025-02-28T00:00:00",
          "2025-03-03T00:00:00",
          "2025-03-04T00:00:00",
          "2025-03-05T00:00:00",
          "2025-03-06T00:00:00",
          "2025-03-07T00:00:00",
          "2025-03-10T00:00:00",
          "2025-03-11T00:00:00",
          "2025-03-12T00:00:00"
         ],
         "y": [
          2.298309004191357,
          2.293467020418751,
          2.2895082352205667,
          2.294536714123854,
          2.297932118230702,
          2.286116405132242,
          2.2843593666204747,
          2.2856682609313976,
          2.2801090009709957,
          2.2850918471725805,
          2.283726138347011,
          2.278872622314453,
          2.293749261950716,
          2.3080300140904932,
          2.3148883658975565,
          2.3246857765110605,
          2.3209350963828936,
          2.310981100667793,
          2.311332654606337,
          2.316007223870703,
          2.302452109282259,
          2.301527478926158,
          2.2910122948876106,
          2.2967422469050027,
          2.3044256148003774,
          2.3059125049430924,
          2.2987314474990153,
          2.303823508234569,
          2.2917380664313494,
          2.305982714617198,
          2.3041647454488405,
          2.307472234729906,
          2.312366938610748,
          2.315198143265826,
          2.319966681625987,
          2.328639634806041,
          2.32246267448593,
          2.318862247843511,
          2.318873885514536,
          2.330814079989607,
          2.3283313171155235,
          2.3230771045824694,
          2.3276855015348867,
          2.328194391891802,
          2.3266595303099677,
          2.3218008081031623,
          2.296288528574841,
          2.2848414952552,
          2.2890056707259645,
          2.2893027675261846,
          2.281938012854864,
          2.274277352180724,
          2.275945530147798,
          2.2903869480529346,
          2.3009346577968577,
          2.291884014124407,
          2.2835542915324822,
          2.286548371307286,
          2.3016176794229817,
          2.3070810901484045,
          2.3037568927767844,
          2.2987957388957576,
          2.303649166789991,
          2.2984543142898395,
          2.3087730274512936,
          2.304367016917078,
          2.30205335355819,
          2.2967612729603686,
          2.309171162316447,
          2.3142752527830934,
          2.316891862300661,
          2.302942512156674,
          2.3002298868897015,
          2.307172181361586,
          2.309211343879595,
          2.2967096174120627,
          2.294629623737946,
          2.301346243939336,
          2.31072643115034,
          2.318189516658016,
          2.3093185741267725,
          2.308899771810229,
          2.307483572062239,
          2.3020301523710094,
          2.3015960795496118,
          2.299836283661436,
          2.293287575206785,
          2.2942904118477894,
          2.299348809955124,
          2.3045669438686884,
          2.3091818378973015,
          2.2993861543585337,
          2.296302977684587,
          2.296525833631848,
          2.3011862624926858,
          2.303274684737492,
          2.302525252487929,
          2.3019838973088182,
          2.3096059520906485,
          2.3084738617804814,
          2.311393175405704,
          2.3076967179119903,
          2.3091429662335505,
          2.3180318999326337,
          2.3166494093678884,
          2.311395573298509,
          2.317853690042198,
          2.3185195747821825,
          2.3204116033555016,
          2.3161140181851687,
          2.3129306239422385,
          2.3067694325006407,
          2.302772947136941,
          2.2950831031080674,
          2.3020456099257474,
          2.305786811389192,
          2.305728649872283,
          2.300722619867822,
          2.3066748333118654,
          2.3229630912017036,
          2.3328783607167565,
          2.32516773217827,
          2.3194373840132485,
          2.3262822881624894,
          2.324055239692915,
          2.3152807952213115,
          2.3053384026915476,
          2.301467667251814,
          2.297756253802131,
          2.302542092875132,
          2.295470808070314,
          2.2934730804078205,
          2.2958272669714934,
          2.299455610796646,
          2.3077245011567546,
          2.31252819995833,
          2.3120399733382038,
          2.3164356579489214,
          2.3213295859104153,
          2.3412804406669623,
          2.341789130698399,
          2.339620762877,
          2.3415146830607454,
          2.33643027304162,
          2.3398256512740536,
          2.3361357919845624,
          2.3166608230206194,
          2.3141351541819204,
          2.3093922122883166,
          2.3089112014102615,
          2.3116679134446523,
          2.297610193199558,
          2.2966566268172435,
          2.3063049945610947,
          2.3088724535605887,
          2.2961934109943445,
          2.2903308592511604,
          2.289774479257088,
          2.292291392703273,
          2.3015962338891685,
          2.304115944131914,
          2.307986065631215,
          2.3208474359244176,
          2.3164746537102805,
          2.3168847805128103,
          2.323296689443533,
          2.319069627965679,
          2.3138450418735936,
          2.3100549998692657,
          2.3088972058868222,
          2.315665588542971,
          2.3073393965112494,
          2.303263057420785,
          2.2987325457506977,
          2.3079227715094874,
          2.308570262995637,
          2.3036271039830356,
          2.3052332695973345,
          2.3221804073248578,
          2.3425793944903006,
          2.361031261025276,
          2.3564160098705345,
          2.366895173059633,
          2.3837756852192227,
          2.4057251698867694,
          2.4077995996027353,
          2.3950054217822947,
          2.3843251830806316,
          2.3885080193099952,
          2.384635690768384,
          2.3741331019850636,
          2.3557657159456165,
          2.3407782673412245,
          2.332597701393,
          2.335289222959589,
          2.3366058047719163,
          2.3330336875844995,
          2.3357015569857302,
          2.3349010887850636,
          2.3425617763784863,
          2.3413782897452906,
          2.3337594459391897,
          2.3255149375057167,
          2.3258510711277056,
          2.3255867551414466,
          2.319456040176665,
          2.3048655609471873,
          2.306378086172619,
          2.3066444880239296,
          2.307101733608833,
          2.2996289953330846,
          2.2976018094270687,
          2.3053945113734486,
          2.316744217827302,
          2.3325969112400218,
          2.334764321273449,
          2.332698152540613,
          2.3334459548415603,
          2.3402753440073405,
          2.3532547956939056,
          2.3417366128853367,
          2.323792956469368,
          2.3262278759711843,
          2.329750048781599,
          2.331253191971355,
          2.3282120331079432,
          2.309768518146608,
          2.3149623875941683,
          2.3136587053664477,
          2.3136673453685157,
          2.30558732818731,
          2.302178428830232,
          2.2953843674694405,
          2.298627478826351,
          2.2989131333820936,
          2.3053475686622726,
          2.303673718525245,
          2.3096638628826445,
          2.309704763625942,
          2.3186108255901248,
          2.3127105542888766,
          2.3237086839482637,
          2.3192127663729667,
          2.317337814606536,
          2.313624203470472,
          2.317804382208397,
          2.310301381007917,
          2.313643466370724,
          2.31271000099484,
          2.3241192272802835,
          2.3196508613002402,
          2.326734818243506,
          2.3261462995737245,
          2.3274879395614434,
          2.324225955266105,
          2.3205827328428787,
          2.3169346122882004,
          2.326007053291785,
          2.319739278295619,
          2.327231688232877,
          2.329170307717368,
          2.328961187865488,
          2.327269641814151,
          2.3279344837372897,
          2.335846374718172,
          2.3375878607852796,
          2.329308006390407,
          2.3334468746879113,
          2.3364173030403363,
          2.345094829053397,
          2.3383235889229717,
          2.324012711392339,
          2.3181307748748208,
          2.323618104299463,
          2.32194446480959,
          2.3116809682806725,
          2.301416192326747,
          2.2991887845096874,
          2.308678539505251,
          2.3153591890953633,
          2.3096016203440213,
          2.3049563689482033,
          2.316538711231341,
          2.3254057490964537,
          2.329652145641649,
          2.3175887233117654,
          2.3166113358462033,
          2.316151365010964,
          2.3163674102983856,
          2.329291994301941,
          2.32512275901277,
          2.3364197407021488,
          2.3449484300132815,
          2.340422102387121,
          2.348360414424303,
          2.345593066444331,
          2.3344168315257536,
          2.3273401236757123,
          2.3104409119578606,
          2.3080296931861475,
          2.3065665266933175,
          2.30052588933048,
          2.3007444163152497,
          2.294059393355698,
          2.295925424218381,
          2.298618386726432,
          2.308567267256934,
          2.3105495089568358,
          2.3156466857969784,
          2.324793865605185,
          2.3265226236011753,
          2.3308811798281766,
          2.335124564847755,
          2.3166086067999307,
          2.3146765956151043,
          2.305634161461762,
          2.2990769415919994,
          2.3140279245893476,
          2.3265056428729305,
          2.3321936053535026,
          2.343013055156541,
          2.343131181334125,
          2.351668148960784,
          2.3505372213352906,
          2.3355176727162315,
          2.3175785017556447,
          2.3102437598676597,
          2.301146123993102,
          2.2984306706383597,
          2.2899230789242893,
          2.290778454511405,
          2.297575962081329,
          2.3011537017189707,
          2.3125668710470006,
          2.3106065900704285,
          2.325068333579612,
          2.321217072820994,
          2.3237164923602793,
          2.3165798223120304,
          2.323911681462652,
          2.312200046038089,
          2.320765441459116,
          2.317354046578793,
          2.330964059017994,
          2.342739968087912,
          2.3465648031038535,
          2.3362952422518286,
          2.3372206187342255,
          2.3418820401311433,
          2.3473069587190127,
          2.3524034426681912,
          2.342917374003662,
          2.3522497052213396,
          2.357299733954012,
          2.365620720851339,
          2.367240033390261,
          2.3626326427481152,
          2.3569799805789837,
          2.3504111947091593,
          2.346663334783916,
          2.3508065397617535,
          2.34401219174153,
          2.3380936504186662,
          2.3398998051359357,
          2.3442360984513244,
          2.350811889710677,
          2.339162865604326,
          2.3278155947985932,
          2.319843145824936,
          2.3139409600951812,
          2.30608861730501,
          2.289687105147796,
          2.2763213360953283,
          2.2817579203380327,
          2.2843595536712256,
          2.285765431836999,
          2.283785423092679,
          2.2869933357535825,
          2.2974852261024177,
          2.3050845957460027,
          2.308479439169393,
          2.297848016082203,
          2.3022404557133527,
          2.3063049767050643,
          2.3108684446350694,
          2.302969240648008,
          2.302708524569912,
          2.3007450897131947,
          2.31064556367006,
          2.31511123341776,
          2.3178222193034346,
          2.3099007171877717,
          2.310594821430345,
          2.3124129678625756,
          2.312102128494665,
          2.3195394657232677,
          2.310992494376522,
          2.3118017402013953,
          2.312344966151749,
          2.318173134221189,
          2.310147796996074,
          2.306117969332498,
          2.301809591761163,
          2.30782497849115,
          2.3160242352311,
          2.3115286642466955,
          2.298847247922384,
          2.303475837804008,
          2.311169520762369,
          2.3166400331321424,
          2.304991594090633,
          2.288908891191915,
          2.2952182422619694,
          2.2980538420778553,
          2.2972226964806675,
          2.2829516838680544,
          2.274918174967714,
          2.278460750609221,
          2.2871745824748646,
          2.289275747673976,
          2.2881224146581514,
          2.2880051429902877,
          2.29249224904402,
          2.2982060451968738,
          2.3050105646470453,
          2.3069128337482594,
          2.301553806119157,
          2.3069514680198084,
          2.3095521876379626,
          2.305298442037372,
          2.300382192882064,
          2.3047220505318373,
          2.306136292520961,
          2.30726237159145,
          2.3140081419252296,
          2.3103873275107842,
          2.314223896004136,
          2.318238484170454,
          2.3144895028630637,
          2.3154469161368003,
          2.3225023568909124,
          2.339405895465032,
          2.3509782337216696,
          2.360091831944719,
          2.3671305169436008,
          2.3744324898996,
          2.3783708797880343,
          2.3736965563523134,
          2.355851643970344,
          2.3461921508244137,
          2.3451284681553264,
          2.3361473503728134,
          2.335119616957288,
          2.3320146598571734,
          2.3449469243874934,
          2.341024711454016,
          2.3359350923299727,
          2.3278197586773026,
          2.3272711692137356,
          2.3177995336923805,
          2.3079656153457426,
          2.2860881477341897,
          2.2838221394909586,
          2.2946646525464223,
          2.3078967857778956,
          2.3031006222316277,
          2.2979329104832615,
          2.301545130801652,
          2.2955499937386468,
          2.2892084043763683,
          2.282646268417554,
          2.267706936330432,
          2.265933973737215,
          2.271634346965505,
          2.263013098625565,
          2.2764526464552435,
          2.2773151303995927,
          2.2747670897993464,
          2.2732581036089607,
          2.2697768001523975,
          2.2756280355756244,
          2.27864501289345,
          2.2795013999305915,
          2.2821077225600725,
          2.2889029074994602,
          2.2900132112995983,
          2.296005122636972,
          2.2854461753114115,
          2.2903082887292747,
          2.2858809676438687,
          2.2810136525336473,
          2.263787986345132,
          2.264055937179745,
          2.2606371100838514,
          2.26377879163688,
          2.2611593484955743,
          2.2532176114085027
         ],
         "yaxis": "y2"
        }
       ],
       "layout": {
        "font": {
         "color": "white",
         "size": 20
        },
        "height": 500,
        "legend": {
         "x": 0.75,
         "xanchor": "center",
         "y": 0.99
        },
        "margin": {
         "b": 40,
         "l": 60,
         "r": 60,
         "t": 60
        },
        "paper_bgcolor": "#03001C",
        "plot_bgcolor": "#03001C",
        "template": {
         "data": {
          "bar": [
           {
            "error_x": {
             "color": "#2a3f5f"
            },
            "error_y": {
             "color": "#2a3f5f"
            },
            "marker": {
             "line": {
              "color": "#E5ECF6",
              "width": 0.5
             },
             "pattern": {
              "fillmode": "overlay",
              "size": 10,
              "solidity": 0.2
             }
            },
            "type": "bar"
           }
          ],
          "barpolar": [
           {
            "marker": {
             "line": {
              "color": "#E5ECF6",
              "width": 0.5
             },
             "pattern": {
              "fillmode": "overlay",
              "size": 10,
              "solidity": 0.2
             }
            },
            "type": "barpolar"
           }
          ],
          "carpet": [
           {
            "aaxis": {
             "endlinecolor": "#2a3f5f",
             "gridcolor": "white",
             "linecolor": "white",
             "minorgridcolor": "white",
             "startlinecolor": "#2a3f5f"
            },
            "baxis": {
             "endlinecolor": "#2a3f5f",
             "gridcolor": "white",
             "linecolor": "white",
             "minorgridcolor": "white",
             "startlinecolor": "#2a3f5f"
            },
            "type": "carpet"
           }
          ],
          "choropleth": [
           {
            "colorbar": {
             "outlinewidth": 0,
             "ticks": ""
            },
            "type": "choropleth"
           }
          ],
          "contour": [
           {
            "colorbar": {
             "outlinewidth": 0,
             "ticks": ""
            },
            "colorscale": [
             [
              0,
              "#0d0887"
             ],
             [
              0.1111111111111111,
              "#46039f"
             ],
             [
              0.2222222222222222,
              "#7201a8"
             ],
             [
              0.3333333333333333,
              "#9c179e"
             ],
             [
              0.4444444444444444,
              "#bd3786"
             ],
             [
              0.5555555555555556,
              "#d8576b"
             ],
             [
              0.6666666666666666,
              "#ed7953"
             ],
             [
              0.7777777777777778,
              "#fb9f3a"
             ],
             [
              0.8888888888888888,
              "#fdca26"
             ],
             [
              1,
              "#f0f921"
             ]
            ],
            "type": "contour"
           }
          ],
          "contourcarpet": [
           {
            "colorbar": {
             "outlinewidth": 0,
             "ticks": ""
            },
            "type": "contourcarpet"
           }
          ],
          "heatmap": [
           {
            "colorbar": {
             "outlinewidth": 0,
             "ticks": ""
            },
            "colorscale": [
             [
              0,
              "#0d0887"
             ],
             [
              0.1111111111111111,
              "#46039f"
             ],
             [
              0.2222222222222222,
              "#7201a8"
             ],
             [
              0.3333333333333333,
              "#9c179e"
             ],
             [
              0.4444444444444444,
              "#bd3786"
             ],
             [
              0.5555555555555556,
              "#d8576b"
             ],
             [
              0.6666666666666666,
              "#ed7953"
             ],
             [
              0.7777777777777778,
              "#fb9f3a"
             ],
             [
              0.8888888888888888,
              "#fdca26"
             ],
             [
              1,
              "#f0f921"
             ]
            ],
            "type": "heatmap"
           }
          ],
          "heatmapgl": [
           {
            "colorbar": {
             "outlinewidth": 0,
             "ticks": ""
            },
            "colorscale": [
             [
              0,
              "#0d0887"
             ],
             [
              0.1111111111111111,
              "#46039f"
             ],
             [
              0.2222222222222222,
              "#7201a8"
             ],
             [
              0.3333333333333333,
              "#9c179e"
             ],
             [
              0.4444444444444444,
              "#bd3786"
             ],
             [
              0.5555555555555556,
              "#d8576b"
             ],
             [
              0.6666666666666666,
              "#ed7953"
             ],
             [
              0.7777777777777778,
              "#fb9f3a"
             ],
             [
              0.8888888888888888,
              "#fdca26"
             ],
             [
              1,
              "#f0f921"
             ]
            ],
            "type": "heatmapgl"
           }
          ],
          "histogram": [
           {
            "marker": {
             "pattern": {
              "fillmode": "overlay",
              "size": 10,
              "solidity": 0.2
             }
            },
            "type": "histogram"
           }
          ],
          "histogram2d": [
           {
            "colorbar": {
             "outlinewidth": 0,
             "ticks": ""
            },
            "colorscale": [
             [
              0,
              "#0d0887"
             ],
             [
              0.1111111111111111,
              "#46039f"
             ],
             [
              0.2222222222222222,
              "#7201a8"
             ],
             [
              0.3333333333333333,
              "#9c179e"
             ],
             [
              0.4444444444444444,
              "#bd3786"
             ],
             [
              0.5555555555555556,
              "#d8576b"
             ],
             [
              0.6666666666666666,
              "#ed7953"
             ],
             [
              0.7777777777777778,
              "#fb9f3a"
             ],
             [
              0.8888888888888888,
              "#fdca26"
             ],
             [
              1,
              "#f0f921"
             ]
            ],
            "type": "histogram2d"
           }
          ],
          "histogram2dcontour": [
           {
            "colorbar": {
             "outlinewidth": 0,
             "ticks": ""
            },
            "colorscale": [
             [
              0,
              "#0d0887"
             ],
             [
              0.1111111111111111,
              "#46039f"
             ],
             [
              0.2222222222222222,
              "#7201a8"
             ],
             [
              0.3333333333333333,
              "#9c179e"
             ],
             [
              0.4444444444444444,
              "#bd3786"
             ],
             [
              0.5555555555555556,
              "#d8576b"
             ],
             [
              0.6666666666666666,
              "#ed7953"
             ],
             [
              0.7777777777777778,
              "#fb9f3a"
             ],
             [
              0.8888888888888888,
              "#fdca26"
             ],
             [
              1,
              "#f0f921"
             ]
            ],
            "type": "histogram2dcontour"
           }
          ],
          "mesh3d": [
           {
            "colorbar": {
             "outlinewidth": 0,
             "ticks": ""
            },
            "type": "mesh3d"
           }
          ],
          "parcoords": [
           {
            "line": {
             "colorbar": {
              "outlinewidth": 0,
              "ticks": ""
             }
            },
            "type": "parcoords"
           }
          ],
          "pie": [
           {
            "automargin": true,
            "type": "pie"
           }
          ],
          "scatter": [
           {
            "fillpattern": {
             "fillmode": "overlay",
             "size": 10,
             "solidity": 0.2
            },
            "type": "scatter"
           }
          ],
          "scatter3d": [
           {
            "line": {
             "colorbar": {
              "outlinewidth": 0,
              "ticks": ""
             }
            },
            "marker": {
             "colorbar": {
              "outlinewidth": 0,
              "ticks": ""
             }
            },
            "type": "scatter3d"
           }
          ],
          "scattercarpet": [
           {
            "marker": {
             "colorbar": {
              "outlinewidth": 0,
              "ticks": ""
             }
            },
            "type": "scattercarpet"
           }
          ],
          "scattergeo": [
           {
            "marker": {
             "colorbar": {
              "outlinewidth": 0,
              "ticks": ""
             }
            },
            "type": "scattergeo"
           }
          ],
          "scattergl": [
           {
            "marker": {
             "colorbar": {
              "outlinewidth": 0,
              "ticks": ""
             }
            },
            "type": "scattergl"
           }
          ],
          "scattermapbox": [
           {
            "marker": {
             "colorbar": {
              "outlinewidth": 0,
              "ticks": ""
             }
            },
            "type": "scattermapbox"
           }
          ],
          "scatterpolar": [
           {
            "marker": {
             "colorbar": {
              "outlinewidth": 0,
              "ticks": ""
             }
            },
            "type": "scatterpolar"
           }
          ],
          "scatterpolargl": [
           {
            "marker": {
             "colorbar": {
              "outlinewidth": 0,
              "ticks": ""
             }
            },
            "type": "scatterpolargl"
           }
          ],
          "scatterternary": [
           {
            "marker": {
             "colorbar": {
              "outlinewidth": 0,
              "ticks": ""
             }
            },
            "type": "scatterternary"
           }
          ],
          "surface": [
           {
            "colorbar": {
             "outlinewidth": 0,
             "ticks": ""
            },
            "colorscale": [
             [
              0,
              "#0d0887"
             ],
             [
              0.1111111111111111,
              "#46039f"
             ],
             [
              0.2222222222222222,
              "#7201a8"
             ],
             [
              0.3333333333333333,
              "#9c179e"
             ],
             [
              0.4444444444444444,
              "#bd3786"
             ],
             [
              0.5555555555555556,
              "#d8576b"
             ],
             [
              0.6666666666666666,
              "#ed7953"
             ],
             [
              0.7777777777777778,
              "#fb9f3a"
             ],
             [
              0.8888888888888888,
              "#fdca26"
             ],
             [
              1,
              "#f0f921"
             ]
            ],
            "type": "surface"
           }
          ],
          "table": [
           {
            "cells": {
             "fill": {
              "color": "#EBF0F8"
             },
             "line": {
              "color": "white"
             }
            },
            "header": {
             "fill": {
              "color": "#C8D4E3"
             },
             "line": {
              "color": "white"
             }
            },
            "type": "table"
           }
          ]
         },
         "layout": {
          "annotationdefaults": {
           "arrowcolor": "#2a3f5f",
           "arrowhead": 0,
           "arrowwidth": 1
          },
          "autotypenumbers": "strict",
          "coloraxis": {
           "colorbar": {
            "outlinewidth": 0,
            "ticks": ""
           }
          },
          "colorscale": {
           "diverging": [
            [
             0,
             "#8e0152"
            ],
            [
             0.1,
             "#c51b7d"
            ],
            [
             0.2,
             "#de77ae"
            ],
            [
             0.3,
             "#f1b6da"
            ],
            [
             0.4,
             "#fde0ef"
            ],
            [
             0.5,
             "#f7f7f7"
            ],
            [
             0.6,
             "#e6f5d0"
            ],
            [
             0.7,
             "#b8e186"
            ],
            [
             0.8,
             "#7fbc41"
            ],
            [
             0.9,
             "#4d9221"
            ],
            [
             1,
             "#276419"
            ]
           ],
           "sequential": [
            [
             0,
             "#0d0887"
            ],
            [
             0.1111111111111111,
             "#46039f"
            ],
            [
             0.2222222222222222,
             "#7201a8"
            ],
            [
             0.3333333333333333,
             "#9c179e"
            ],
            [
             0.4444444444444444,
             "#bd3786"
            ],
            [
             0.5555555555555556,
             "#d8576b"
            ],
            [
             0.6666666666666666,
             "#ed7953"
            ],
            [
             0.7777777777777778,
             "#fb9f3a"
            ],
            [
             0.8888888888888888,
             "#fdca26"
            ],
            [
             1,
             "#f0f921"
            ]
           ],
           "sequentialminus": [
            [
             0,
             "#0d0887"
            ],
            [
             0.1111111111111111,
             "#46039f"
            ],
            [
             0.2222222222222222,
             "#7201a8"
            ],
            [
             0.3333333333333333,
             "#9c179e"
            ],
            [
             0.4444444444444444,
             "#bd3786"
            ],
            [
             0.5555555555555556,
             "#d8576b"
            ],
            [
             0.6666666666666666,
             "#ed7953"
            ],
            [
             0.7777777777777778,
             "#fb9f3a"
            ],
            [
             0.8888888888888888,
             "#fdca26"
            ],
            [
             1,
             "#f0f921"
            ]
           ]
          },
          "colorway": [
           "#636efa",
           "#EF553B",
           "#00cc96",
           "#ab63fa",
           "#FFA15A",
           "#19d3f3",
           "#FF6692",
           "#B6E880",
           "#FF97FF",
           "#FECB52"
          ],
          "font": {
           "color": "#2a3f5f"
          },
          "geo": {
           "bgcolor": "white",
           "lakecolor": "white",
           "landcolor": "#E5ECF6",
           "showlakes": true,
           "showland": true,
           "subunitcolor": "white"
          },
          "hoverlabel": {
           "align": "left"
          },
          "hovermode": "closest",
          "mapbox": {
           "style": "light"
          },
          "paper_bgcolor": "white",
          "plot_bgcolor": "#E5ECF6",
          "polar": {
           "angularaxis": {
            "gridcolor": "white",
            "linecolor": "white",
            "ticks": ""
           },
           "bgcolor": "#E5ECF6",
           "radialaxis": {
            "gridcolor": "white",
            "linecolor": "white",
            "ticks": ""
           }
          },
          "scene": {
           "xaxis": {
            "backgroundcolor": "#E5ECF6",
            "gridcolor": "white",
            "gridwidth": 2,
            "linecolor": "white",
            "showbackground": true,
            "ticks": "",
            "zerolinecolor": "white"
           },
           "yaxis": {
            "backgroundcolor": "#E5ECF6",
            "gridcolor": "white",
            "gridwidth": 2,
            "linecolor": "white",
            "showbackground": true,
            "ticks": "",
            "zerolinecolor": "white"
           },
           "zaxis": {
            "backgroundcolor": "#E5ECF6",
            "gridcolor": "white",
            "gridwidth": 2,
            "linecolor": "white",
            "showbackground": true,
            "ticks": "",
            "zerolinecolor": "white"
           }
          },
          "shapedefaults": {
           "line": {
            "color": "#2a3f5f"
           }
          },
          "ternary": {
           "aaxis": {
            "gridcolor": "white",
            "linecolor": "white",
            "ticks": ""
           },
           "baxis": {
            "gridcolor": "white",
            "linecolor": "white",
            "ticks": ""
           },
           "bgcolor": "#E5ECF6",
           "caxis": {
            "gridcolor": "white",
            "linecolor": "white",
            "ticks": ""
           }
          },
          "title": {
           "x": 0.05
          },
          "xaxis": {
           "automargin": true,
           "gridcolor": "white",
           "linecolor": "white",
           "ticks": "",
           "title": {
            "standoff": 15
           },
           "zerolinecolor": "white",
           "zerolinewidth": 2
          },
          "yaxis": {
           "automargin": true,
           "gridcolor": "white",
           "linecolor": "white",
           "ticks": "",
           "title": {
            "standoff": 15
           },
           "zerolinecolor": "white",
           "zerolinewidth": 2
          }
         }
        },
        "title": {
         "font": {
          "color": "white"
         },
         "text": "Global Sentiment vs Apple Performance"
        },
        "xaxis": {
         "gridcolor": "rgba(255,255,255,0.05)",
         "showgrid": true
        },
        "yaxis": {
         "gridcolor": "rgba(255,255,255,0.05)",
         "showgrid": true,
         "tickfont": {
          "color": "#5B8FB9"
         },
         "title": {
          "font": {
           "color": "#5B8FB9"
          },
          "text": "Cumulative Return"
         },
         "zeroline": false,
         "zerolinecolor": "white",
         "zerolinewidth": 0.5
        },
        "yaxis2": {
         "overlaying": "y",
         "showgrid": false,
         "side": "right",
         "tickfont": {
          "color": "#B6EADA"
         },
         "title": {
          "font": {
           "color": "#B6EADA"
          },
          "text": "Sentiment Score"
         },
         "zeroline": false
        }
       }
      }
     },
     "metadata": {},
     "output_type": "display_data"
    }
   ],
   "source": [
    "import plotly.graph_objects as go\n",
    "import pandas as pd\n",
    "\n",
    "# Prepare data\n",
    "df = final_df.copy()\n",
    "df['cumulative_return'] = df['adj_close'].abs()\n",
    "df['smoothed_tone'] = df['avg_tone'].rolling(window=7, min_periods=1).mean()\n",
    "\n",
    "# Create figure\n",
    "fig = go.Figure()\n",
    "\n",
    "# Add cumulative return line (left y-axis)\n",
    "fig.add_trace(go.Scatter(\n",
    "    x=df['date'],\n",
    "    y=df['cumulative_return'],\n",
    "    name='Apple Cumulative Return',\n",
    "    yaxis='y1',\n",
    "    line=dict(color='#5B8FB9', width=3.5)  # Increased line width to make it thicker\n",
    "))\n",
    "\n",
    "# Add smoothed sentiment line (right y-axis)\n",
    "fig.add_trace(go.Scatter(\n",
    "    x=df['date'],\n",
    "    y=df['smoothed_tone'],\n",
    "    name='Sentiment Score (Smoothed)',\n",
    "    yaxis='y2',\n",
    "    line=dict(color='#B6EADA', width=3.5)  # Matches your theme palette\n",
    "))\n",
    "\n",
    "# Layout with dark theme\n",
    "fig.update_layout(\n",
    "    title='Global Sentiment vs Apple Performance',\n",
    "    plot_bgcolor='#03001C',\n",
    "    paper_bgcolor='#03001C',\n",
    "    font=dict(color='white', size=20),\n",
    "    title_font=dict(color='white'),\n",
    "\n",
    "    xaxis=dict(\n",
    "        showgrid=True,\n",
    "        gridcolor='rgba(255,255,255,0.05)'  # Very faint gridlines\n",
    "    ),\n",
    "    \n",
    "    yaxis=dict(\n",
    "        title='Cumulative Return',\n",
    "        titlefont=dict(color='#5B8FB9'),\n",
    "        tickfont=dict(color='#5B8FB9'),\n",
    "        showgrid=True,\n",
    "        gridcolor='rgba(255,255,255,0.05)',\n",
    "        zeroline=False,\n",
    "        zerolinecolor='white',\n",
    "        zerolinewidth=0.5\n",
    "    ),\n",
    "    \n",
    "    yaxis2=dict(\n",
    "        title='Sentiment Score',\n",
    "        titlefont=dict(color='#B6EADA'),\n",
    "        tickfont=dict(color='#B6EADA'),\n",
    "        overlaying='y',\n",
    "        side='right',\n",
    "        showgrid=False,\n",
    "        zeroline=False\n",
    "    ),\n",
    "\n",
    "    legend=dict(x=0.75, y=0.99, xanchor='center'),\n",
    "    height=500,\n",
    "    margin=dict(l=60, r=60, t=60, b=40)\n",
    ")\n",
    "\n",
    "fig.show()"
   ]
  },
  {
   "cell_type": "code",
   "execution_count": 42,
   "metadata": {},
   "outputs": [
    {
     "data": {
      "application/vnd.plotly.v1+json": {
       "config": {
        "plotlyServerURL": "https://plot.ly"
       },
       "data": [
        {
         "hovertemplate": "Sentiment Score=%{marker.color}<br>VIX (Fear Gauge)=%{y}<br>returns_scaled=%{marker.size}<extra></extra>",
         "legendgroup": "",
         "marker": {
          "color": [
           2.298309004191357,
           2.288625036646145,
           2.281590664824198,
           2.309622150833716,
           2.3115137346580945,
           2.22703783963994,
           2.273817135549872,
           2.307471264367816,
           2.2497102169233316,
           2.316470588235294,
           2.300062189054726,
           2.2775391224301935,
           2.3311743170937764,
           2.3737824005283144,
           2.3554797270172623,
           2.3182920912178555,
           2.2902158273381295,
           2.230384219049021,
           2.28,
           2.3638963019443384,
           2.278896598409206,
           2.349007314524556,
           2.244685802948022,
           2.3303254914598774,
           2.284167794316644,
           2.290408230999004,
           2.313628899835797,
           2.3145410235580828,
           2.2644092219020173,
           2.3443983402489628,
           2.3175997072813757,
           2.307320219284102,
           2.324671158164902,
           2.3334473324213407,
           2.347920792079208,
           2.3251198941623947,
           2.3011596180081857,
           2.29239672078444,
           2.3074016829812813,
           2.4082525194903974,
           2.316067992302758,
           2.311141304347826,
           2.3573786728293165,
           2.304721850506595,
           2.2816526897115974,
           2.273390627533647,
           2.229666562792147,
           2.2359387590652697,
           2.3402905326431793,
           2.3594583504308577,
           2.253168567807351,
           2.2280280649926145,
           2.2850678733031673,
           2.330756488128106,
           2.309772727272727,
           2.276936026936027,
           2.3011502922873843,
           2.274127126230976,
           2.3335132218024826,
           2.3233117483811285,
           2.3074871065267653,
           2.275044650105537,
           2.3109100221956633,
           2.264786324786325,
           2.3463581183611533,
           2.3026711480629753,
           2.3071161048689137,
           2.270442542342014,
           2.361913875598086,
           2.346638655462185,
           2.2831025914093006,
           2.248712667353244,
           2.283682771194166,
           2.3557121661721068,
           2.2847166799680765,
           2.2744017903253573,
           2.3320786997433705,
           2.3301189328190293,
           2.3143739778302743,
           2.3359243697478993,
           2.293615568453397,
           2.281785063752277,
           2.264488392089424,
           2.293904761904762,
           2.3270804230692477,
           2.3020554066130474,
           2.2900834105653383,
           2.300635424940429,
           2.3171938505036227,
           2.301015329484372,
           2.3262090201050536,
           2.258510638297872,
           2.280473169895423,
           2.291643402196166,
           2.333258426966292,
           2.3318128062172665,
           2.295769303737431,
           2.3224195338512765,
           2.311865021770682,
           2.2725485377242567,
           2.312078597572722,
           2.3073832245102963,
           2.34193654446819,
           2.3579918396310093,
           2.3127420998980632,
           2.275088169285027,
           2.317755354930076,
           2.3167397907526155,
           2.3206274245235283,
           2.311853448275862,
           2.335708079930495,
           2.2696137598068797,
           2.2471127717391304,
           2.263926446727961,
           2.3654773384763743,
           2.346815834767642,
           2.3114463176574978,
           2.300665869899266,
           2.3112792539151856,
           2.361130576967998,
           2.3333333333333335,
           2.311502938706969,
           2.3067033976124884,
           2.359360646702186,
           2.285076530612245,
           2.2498581426139586,
           2.2915338292596528,
           2.3062381852551983,
           2.285523044559189,
           2.340204271123491,
           2.309861653068464,
           2.27109243697479,
           2.266337448559671,
           2.3169322360357207,
           2.3641204177759576,
           2.3191489361702127,
           2.336786684782609,
           2.340631445343487,
           2.305349932705249,
           2.4059934318555007,
           2.320493066255778,
           2.348941843026162,
           2.332406377456433,
           2.3011958146487292,
           2.3643990929705216,
           2.2795209176788123,
           2.2696686491079014,
           2.3028133843848844,
           2.3157412497709364,
           2.329039301310044,
           2.3204927988894672,
           2.265995051254861,
           2.272845953002611,
           2.337207223314858,
           2.320785597381342,
           2.226987951807229,
           2.288001439107753,
           2.316598138930967,
           2.283613445378151,
           2.3379798413038815,
           2.354845195014073,
           2.347876447876448,
           2.317017543859649,
           2.2573919636087947,
           2.3194690265486724,
           2.3284968078932096,
           2.308390410958904,
           2.318273092369478,
           2.3213461538461537,
           2.3089129859825444,
           2.304770642201835,
           2.261185682326622,
           2.299962434259955,
           2.276676829268293,
           2.3826046726810084,
           2.3258785942492013,
           2.274310872894334,
           2.3160138015019283,
           2.3798156464192863,
           2.4427553444180523,
           2.4058398950131235,
           2.350297914597815,
           2.39923273657289,
           2.392474458011463,
           2.469660194174758,
           2.3943366544310436,
           2.353196099674973,
           2.33107822410148,
           2.3795777682033608,
           2.3721264367816093,
           2.3189563365282213,
           2.341088491898629,
           2.289424514200299,
           2.295932138037401,
           2.3499188750676043,
           2.388793840889649,
           2.3471216164696913,
           2.337631422336838,
           2.335485214493961,
           2.3430493273542603,
           2.2876477316050323,
           2.296586968424895,
           2.3310822818553403,
           2.349474551823614,
           2.335781210433021,
           2.2925702097404907,
           2.2409159727479184,
           2.2982354081830523,
           2.2984517813840704,
           2.3342830009496676,
           2.297165383893373,
           2.3215909090909093,
           2.3471191233651467,
           2.3203639179248934,
           2.4092042620720924,
           2.3136236516180584,
           2.31981981981982,
           2.3024,
           2.3693966332513714,
           2.4379752851711025,
           2.239736638264911,
           2.283598667160311,
           2.330668088130775,
           2.3444750294927252,
           2.3129220023282886,
           2.3481085212074895,
           2.308870680441753,
           2.276093724397837,
           2.274472891566265,
           2.330728568145254,
           2.28791490922428,
           2.2890597068287453,
           2.300550091681947,
           2.3315724599401304,
           2.2780933062880324,
           2.31951393852752,
           2.3190116171860593,
           2.3298459197260795,
           2.2893460120318263,
           2.362892525431225,
           2.290270560831392,
           2.3550802139037432,
           2.2880425155004427,
           2.305886954821045,
           2.303850641773629,
           2.3186072631973045,
           2.3103715170278636,
           2.3136651583710406,
           2.3485459562725537,
           2.3679070994985483,
           2.274608392960743,
           2.3534383403764885,
           2.314487632508834,
           2.319762996941896,
           2.290831268303672,
           2.3230433993099693,
           2.3423702556158017,
           2.338115479985831,
           2.3095639154033316,
           2.366934502069637,
           2.3333333333333335,
           2.2893674293405115,
           2.3112025769506084,
           2.3470241490777712,
           2.3934987168520103,
           2.3217543178730837,
           2.3089755213055305,
           2.3623054114158637,
           2.3101604278074865,
           2.3719452590420333,
           2.299625468164794,
           2.293322574137583,
           2.280580762250454,
           2.347386827278026,
           2.3505899349867567,
           2.2383159521050597,
           2.3000918273645548,
           2.284033613445378,
           2.359750859106529,
           2.3273453093812377,
           2.3070838460186325,
           2.3180731752160324,
           2.3193923480870215,
           2.362161092420344,
           2.313758389261745,
           2.2753069027973436,
           2.3205035971223023,
           2.3038640501719603,
           2.3195854922279793,
           2.409864436111912,
           2.3329764453961457,
           2.3928372610874,
           2.3350077279752703,
           2.2888193037391784,
           2.3594322344322345,
           2.3002140563681768,
           2.331630791681868,
           2.28343949044586,
           2.2745427790624344,
           2.3181291965732806,
           2.2785771382893687,
           2.3171477728923726,
           2.301743745261562,
           2.2848356309650053,
           2.2965017064846416,
           2.2933935166187935,
           2.3877713602867954,
           2.292452830188679,
           2.3528280107733743,
           2.3657740039190074,
           2.296936936936937,
           2.3270116000736514,
           2.32309721175584,
           2.258159653952025,
           2.2789287518948966,
           2.28953097169998,
           2.3198734648306663,
           2.401593817918377,
           2.4143556280587277,
           2.3629129491198455,
           2.3338958025732968,
           2.279755635137982,
           2.3492897450865926,
           2.3119569714522137,
           2.29645697758496,
           2.288781431334623,
           2.311569755903949,
           2.2702123514513928,
           2.260747461654785,
           2.2897366030881017,
           2.317944600562023,
           2.344039530574429,
           2.3138256087981146,
           2.391461941200161,
           2.2564903846153848,
           2.3619796662190677,
           2.262777777777778,
           2.335440537337021,
           2.2940828402366864,
           2.365148622852468,
           2.309480493228219,
           2.3164481525625744,
           2.338099902056807,
           2.358047864852182,
           2.417871900826446,
           2.3208566853482786,
           2.2932616968882917,
           2.315958128604999,
           2.3490781023409983,
           2.376074332171893,
           2.3937232524964336,
           2.351469420174742,
           2.3861830038720195,
           2.328611898016997,
           2.3742050368862886,
           2.360413290113452,
           2.3438225976768745,
           2.354154617312512,
           2.305487919085971,
           2.3599479843953186,
           2.3576143328618575,
           2.326644600744725,
           2.3189835008534043,
           2.356465680697762,
           2.384508670520231,
           2.3515184579014368,
           2.278404815650865,
           2.2781834372217276,
           2.270837457929123,
           2.277668200745124,
           2.301499281166564,
           2.269698085419735,
           2.2579580745341614,
           2.3164609053497944,
           2.296394870554077,
           2.280678605089538,
           2.2638081395348837,
           2.323954669792888,
           2.343141317861583,
           2.311153662039253,
           2.3402248093135287,
           2.2219749089437473,
           2.3114256825075836,
           2.292259786476868,
           2.355898945302919,
           2.287846889952153,
           2.309328649492584,
           2.326480765316507,
           2.2912782266418064,
           2.3426853707414828,
           2.311236687676592,
           2.3004484304932737,
           2.2927056196501674,
           2.3220556745182015,
           2.324304889741131,
           2.3433395872420264,
           2.282856571314263,
           2.316901408450704,
           2.304251012145749,
           2.333502796136248,
           2.2658783139423995,
           2.296096096096096,
           2.313180944242683,
           2.324964278424168,
           2.374296205630355,
           2.2727820152549176,
           2.244732881866065,
           2.2982784431137726,
           2.34995187680462,
           2.351474530831099,
           2.2434252051335997,
           2.2617172853393326,
           2.316947472745293,
           2.26458208057727,
           2.2924604239334587,
           2.250054788516327,
           2.2952399685287177,
           2.2682232346241458,
           2.3227141083988414,
           2.331655629139073,
           2.256508749466496,
           2.2916395222584147,
           2.2814645308924484,
           2.335236541598695,
           2.315854870775348,
           2.33602999210734,
           2.294142435735356,
           2.294292382771059,
           2.309844559585492,
           2.2516883116883117,
           2.300822797511539,
           2.346233874323762,
           2.3459296860312087,
           2.3020249892287805,
           2.341512775107513,
           2.2844988586843744,
           2.2785442911417717,
           2.328924914675768,
           2.3199910051720263,
           2.3526315789473684,
           2.351413074507565,
           2.4598375451263537,
           2.365505226480836,
           2.342339478703115,
           2.37819570966794,
           2.3711048158640224,
           2.38020030816641,
           2.318692810457516,
           2.33492315845257,
           2.29788877445932,
           2.3348937000195047,
           2.315327885190353,
           2.363910681955341,
           2.3584656084656084,
           2.409218662169758,
           2.3074676679182313,
           2.262261440591012,
           2.2780863644508154,
           2.311487758945386,
           2.2976092333058533,
           2.289628180039139,
           2.256076388888889,
           2.2916056102156164,
           2.3381590319792567,
           2.3707112970711295,
           2.2779146141215105,
           2.26143525106729,
           2.314913722267872,
           2.2141104294478526,
           2.247214484679666,
           2.2922240802675584,
           2.2661359724612735,
           2.2655038759689923,
           2.3013378636653217,
           2.254564983888292,
           2.3081872642556025,
           2.2532518722901065,
           2.274387796065837,
           2.2555730691285745,
           2.2411347517730498,
           2.342296511627907,
           2.2756838251130733,
           2.3141819735155917,
           2.2714961306964745,
           2.3219540906415537,
           2.263345195729537,
           2.283078131134668,
           2.268383880348982,
           2.309718619038116,
           2.2831907259177475,
           2.237424924924925,
           2.2013744273219493,
           2.2652208515718266,
           2.2591463414634148,
           2.290375651220181,
           2.291382517048977,
           2.227598566308244
          ],
          "coloraxis": "coloraxis",
          "line": {
           "color": "white",
           "width": 0.55
          },
          "size": [
           37.50760809399054,
           104.2,
           43.64656781610512,
           32.89152419445261,
           63.34917589755159,
           80.84722701291244,
           6.55229494809438,
           7.773218429426612,
           18.527208561132873,
           24.744149542888362,
           11.997570649701501,
           11.739609606967768,
           14.354822372578997,
           12.584982798538647,
           18.573761641370673,
           8.206052313064088,
           13.113445825381795,
           8.8339640111149,
           5.993018765845927,
           17.62690359326964,
           30.393545309047322,
           17.58431138805058,
           26.821363222033344,
           42.53263276906975,
           15.969959076982576,
           5.51079565795657,
           4.806385424780777,
           10.89675729151271,
           16.242640205550305,
           18.32394933082707,
           13.901795597750475,
           25.109454332815226,
           4.3827310727917945,
           8.91940648488025,
           5.0579194720894245,
           7.138087896349495,
           5.429002714977319,
           4.600079420032567,
           13.643007942422734,
           18.71587659757458,
           17.69917732268867,
           20.27451097538893,
           5.092328043053551,
           22.663344325315116,
           6.622190731374189,
           5.269206163488258,
           19.665311099411426,
           30.560513705607356,
           9.274488554744945,
           9.81111357419194,
           7.661318321812441,
           30.722437578890716,
           27.366319806983945,
           7.141301883822687,
           4.772499016592956,
           8.170795195047292,
           28.996913320648822,
           9.83299241592713,
           35.87712589621472,
           18.733707095742208,
           7.8162067869116925,
           12.072612991163671,
           22.7714107287748,
           5.720681108568303,
           12.87610819354003,
           9.24179368588905,
           5.716552392736039,
           24.462388845514862,
           9.553838778017951,
           14.324311124840431,
           14.307755466105831,
           6.584397790731247,
           12.746947423739293,
           6.501441212958066,
           18.08061294490153,
           9.44653191107629,
           20.657409293580976,
           11.450276296921885,
           12.900979970567764,
           4.716025196873346,
           8.6651627576835,
           8.11124548539019,
           7.300654673866985,
           16.135029705579523,
           4.820327935887569,
           4.292972534132084,
           5.315808294203105,
           13.667416651438963,
           11.3046016199942,
           11.816633774408366,
           4.616787044851901,
           11.217371269677628,
           13.870996791854708,
           8.623362054723788,
           5.782052279229824,
           6.568098844457699,
           5.057846913260129,
           14.17559602170854,
           14.979152183638707,
           14.430866714163464,
           7.17774098797844,
           4.2,
           13.370264006262136,
           5.096027872617468,
           19.944702180570534,
           6.671431661072449,
           9.059190981967136,
           7.256736472269271,
           14.31406601813384,
           18.151841536898996,
           15.898863675409352,
           5.071240688802299,
           10.628811141363087,
           6.9370566440651675,
           4.821356602789825,
           20.83208039756755,
           6.18209457366183,
           8.919019371169025,
           13.312571874774477,
           5.401756832607683,
           10.934098697087286,
           12.422036853754918,
           16.392227204533267,
           9.137341811017034,
           5.846024190603878,
           16.583928827477582,
           17.793130375806236,
           21.54656491369951,
           7.956836733789762,
           7.908863783433857,
           6.09520903355795,
           26.799942036859772,
           21.02780606741991,
           5.093741383259809,
           8.011203627862864,
           7.530963550012178,
           7.184653164090064,
           9.960016794624712,
           6.413809283344951,
           31.083111854694202,
           17.524655894195778,
           5.834743777030117,
           25.707090564976053,
           5.11499697761878,
           4.572323740662903,
           12.80155030870391,
           6.906224751912724,
           4.473065869536702,
           9.49257212677638,
           9.387786956028085,
           10.75536528915939,
           25.25321515384434,
           6.801173489114044,
           15.028224659758767,
           9.326960020547439,
           7.010662446644647,
           5.328480724342825,
           11.84530748075841,
           10.446198941692117,
           4.566357331007222,
           6.263918131788771,
           4.734089169557649,
           8.603109966279959,
           14.26597784026993,
           5.730371702158627,
           16.910936086438202,
           9.503469466358428,
           14.39350887231081,
           16.515283560223455,
           13.482235183466006,
           11.594695536911555,
           42.25651807923039,
           9.316025274696305,
           17.025773902600804,
           15.315174347722373,
           6.132059672321284,
           5.168516971042965,
           5.827820404223077,
           7.844505323368261,
           26.479750947688405,
           7.722620948422762,
           5.379730558507367,
           4.637499623435987,
           19.959150379774474,
           23.72566412381804,
           5.550225140184224,
           16.56711009904696,
           13.892299349967718,
           22.07948473458962,
           18.100278733449226,
           7.0059761593833265,
           9.10398930159878,
           20.109122243491136,
           8.561337183156546,
           16.229336432445457,
           25.480198793269107,
           16.637261862384428,
           7.161788260917801,
           18.96127295314745,
           7.557965184279698,
           6.55748688332439,
           12.167884201945611,
           20.724806885918806,
           12.549039784556488,
           18.694013643102497,
           10.381483815524497,
           8.287406776732134,
           25.102957000109864,
           55.1812199515982,
           18.897830369798175,
           13.401831365738978,
           9.556566770453072,
           10.019736452703672,
           5.442936065323659,
           11.086366659235571,
           7.969480442354738,
           8.146313858071027,
           5.3901366786837865,
           4.239734076421434,
           16.478478068329096,
           20.3985642713308,
           9.933884519656353,
           9.341087087392527,
           8.82324969715475,
           4.319277821229415,
           4.6771869368125145,
           13.272305904664819,
           8.791519273163923,
           17.24866128015082,
           9.396116907870827,
           11.654021891208762,
           5.6064438673522226,
           7.018155895053571,
           11.105481939005019,
           46.657576109603276,
           20.45128801412971,
           8.799024802091921,
           18.17952528567157,
           22.412211030996016,
           6.834392847800246,
           8.026563805402313,
           13.636423914622902,
           9.000786306668152,
           8.02882817832696,
           13.500331361549787,
           8.544482090584076,
           10.364342382312639,
           18.927747254929816,
           21.008707180814323,
           10.62241694492292,
           35.42257518544462,
           12.67024196441416,
           9.590900289097583,
           9.225936451665227,
           7.543248920375184,
           7.871600811603937,
           7.764653773366806,
           9.48289431543382,
           10.601969044137437,
           12.267190887592886,
           19.857909599872798,
           9.27782724662256,
           10.482610565119408,
           8.192837876640416,
           36.26901757909139,
           15.115486822057072,
           14.288771081580052,
           8.943074397772978,
           5.864039346229403,
           12.327059706700098,
           13.431740153914085,
           6.294508025633875,
           12.995237416848223,
           11.815296579243974,
           4.736732468015844,
           8.624886174008255,
           26.239505644487117,
           23.79912730185462,
           8.743976714039594,
           7.002025424222509,
           9.199931796253523,
           10.243090257359356,
           9.83303419114683,
           11.820561026950884,
           12.56416383413691,
           7.309630512404559,
           7.280902580988924,
           10.626923904182652,
           5.3511591605002335,
           7.853451636658023,
           12.778845348246922,
           11.026093335479072,
           7.242121728832489,
           8.540565790622527,
           4.639558748005876,
           10.637302580838554,
           11.53975032919735,
           8.27256001429701,
           14.083546669433723,
           19.058485259625108,
           18.97198044586647,
           6.88433821915126,
           11.044328135367483,
           5.486360101671433,
           6.846157138657526,
           9.202321981152501,
           13.21760256610425,
           15.737154879531623,
           27.9145365115399,
           8.094613430358281,
           13.597861175993167,
           5.543435762261922,
           6.6469798472720525,
           8.427681686421572,
           5.876100533508449,
           21.943489325721806,
           7.20778795485664,
           13.894778438812569,
           9.868923489581894,
           32.1287836597437,
           8.28851147728547,
           5.842205537663988,
           4.591856633875624,
           6.317128494019038,
           8.422375368969737,
           4.783168202543201,
           12.319183665080715,
           8.19703374807362,
           10.65259403686754,
           6.268725281339683,
           4.77307018004466,
           16.54951773881084,
           10.108521830548657,
           14.034064937632106,
           9.730387447152069,
           11.758322147273724,
           8.5291374731672,
           19.734862464522394,
           11.39201554261409,
           9.265896177868427,
           6.51104516197384,
           8.276774499479586,
           6.585178285029802,
           4.917829177713529,
           9.498904364884769,
           6.8507039691729705,
           7.415912596324014,
           11.11838731449834,
           4.279801096419351,
           10.942477492839707,
           6.494654075196691,
           14.779624361571795,
           10.712030113748352,
           21.2945843971267,
           6.1943399258880065,
           8.592523800747525,
           14.912340023246418,
           15.067067803046037,
           8.147169012761866,
           19.47947446453174,
           18.010053366651576,
           6.3302133768642275,
           13.323618520760448,
           10.146835047272088,
           23.181679145535984,
           14.476028434803165,
           6.122641911361018,
           4.725700293728616,
           15.422781300696823,
           5.841397405417854,
           9.803082940843346,
           10.873996302651594,
           4.751276157227885,
           12.039339698824435,
           8.016342869049723,
           10.101230499511157,
           6.749092790246366,
           10.508871957856151,
           15.13106541898743,
           9.57279586461138,
           9.65508075000896,
           10.09055651554343,
           15.23532253878103,
           6.457625417104316,
           5.3544103371537926,
           10.95923163486437,
           22.225726521578512,
           9.709306998928993,
           7.928870872841628,
           10.954114111050297,
           19.574653945622124,
           8.813138118776843,
           16.719539998309052,
           7.31789231420331,
           10.755052162688791,
           13.248910911563435,
           17.2251694276938,
           9.143930032790042,
           6.7946545092444195,
           26.864416824695056,
           32.126744837856364,
           5.158833564623452,
           10.520375821592767,
           5.087508000799283,
           18.336120784004407,
           20.25330164383873,
           10.803380127206733,
           13.577508707129617,
           24.394827322066465,
           20.35199046150833,
           10.1012352911044,
           9.975485492869304,
           6.328268797772861,
           15.350661302759065,
           7.934139547183996,
           12.699124811035862,
           11.168295347280656,
           4.45576138369674,
           5.0954692517494395,
           11.014512195108836,
           8.16758963713189,
           17.396403655734368,
           42.14767269191507,
           9.757780877256867,
           16.022198884997504,
           7.459005667876706,
           6.595081828740851,
           14.198459985404266,
           9.148734436583645,
           7.5946547102265844,
           7.570844875516821,
           7.349781723967744,
           8.865460033152925,
           11.862355654830631,
           9.49012533541559,
           5.218508964025343,
           16.992391275607584,
           4.796956945549823,
           7.2269835900019235,
           10.918256395393163,
           6.33854612588155,
           12.448289806591362,
           8.65751431171283,
           6.099111662703947,
           8.642474195941567,
           10.114817115104051,
           21.180046587410207,
           5.560949194477645,
           8.931853692083273,
           15.378128736345417,
           9.934799541883574,
           5.500895422559985,
           16.415426174519258,
           8.49026936354257,
           4.5691681732291585,
           8.632192854440284,
           12.522889558940001,
           6.840310531920835,
           6.1872067010389795,
           15.802792992074476,
           5.835575515307119,
           15.631942823038802,
           10.089519184961713,
           5.72446279807995,
           9.947436063450475,
           7.764914579882072,
           16.083435411987782,
           4.4140805648308445,
           12.118727675520882,
           14.668736566466123,
           9.201141692285702,
           5.436570359072229,
           15.789814270037894,
           8.338659526283628,
           4.676591540884259,
           14.344828193364666,
           6.8807388410931445,
           4.2,
           6.361080492116845,
           8.333872181545264,
           5.074741003419724,
           11.906681045236702,
           11.76523403704878,
           4.50660494610745,
           37.95658823666182,
           11.763527789667044,
           9.101398938379422,
           8.889316352168764,
           4.603292592815516,
           9.843071424918012,
           24.957378938341677,
           4.2,
           11.392779512822672,
           5.6249332140933,
           11.66055502238359,
           8.62326077295597,
           9.4134215931395
          ],
          "sizemode": "area",
          "sizeref": 0.2605,
          "symbol": "circle"
         },
         "mode": "markers",
         "name": "",
         "orientation": "v",
         "showlegend": false,
         "type": "scatter",
         "x": [
          2.298309004191357,
          2.288625036646145,
          2.281590664824198,
          2.309622150833716,
          2.3115137346580945,
          2.22703783963994,
          2.273817135549872,
          2.307471264367816,
          2.2497102169233316,
          2.316470588235294,
          2.300062189054726,
          2.2775391224301935,
          2.3311743170937764,
          2.3737824005283144,
          2.3554797270172623,
          2.3182920912178555,
          2.2902158273381295,
          2.230384219049021,
          2.28,
          2.3638963019443384,
          2.278896598409206,
          2.349007314524556,
          2.244685802948022,
          2.3303254914598774,
          2.284167794316644,
          2.290408230999004,
          2.313628899835797,
          2.3145410235580828,
          2.2644092219020173,
          2.3443983402489628,
          2.3175997072813757,
          2.307320219284102,
          2.324671158164902,
          2.3334473324213407,
          2.347920792079208,
          2.3251198941623947,
          2.3011596180081857,
          2.29239672078444,
          2.3074016829812813,
          2.4082525194903974,
          2.316067992302758,
          2.311141304347826,
          2.3573786728293165,
          2.304721850506595,
          2.2816526897115974,
          2.273390627533647,
          2.229666562792147,
          2.2359387590652697,
          2.3402905326431793,
          2.3594583504308577,
          2.253168567807351,
          2.2280280649926145,
          2.2850678733031673,
          2.330756488128106,
          2.309772727272727,
          2.276936026936027,
          2.3011502922873843,
          2.274127126230976,
          2.3335132218024826,
          2.3233117483811285,
          2.3074871065267653,
          2.275044650105537,
          2.3109100221956633,
          2.264786324786325,
          2.3463581183611533,
          2.3026711480629753,
          2.3071161048689137,
          2.270442542342014,
          2.361913875598086,
          2.346638655462185,
          2.2831025914093006,
          2.248712667353244,
          2.283682771194166,
          2.3557121661721068,
          2.2847166799680765,
          2.2744017903253573,
          2.3320786997433705,
          2.3301189328190293,
          2.3143739778302743,
          2.3359243697478993,
          2.293615568453397,
          2.281785063752277,
          2.264488392089424,
          2.293904761904762,
          2.3270804230692477,
          2.3020554066130474,
          2.2900834105653383,
          2.300635424940429,
          2.3171938505036227,
          2.301015329484372,
          2.3262090201050536,
          2.258510638297872,
          2.280473169895423,
          2.291643402196166,
          2.333258426966292,
          2.3318128062172665,
          2.295769303737431,
          2.3224195338512765,
          2.311865021770682,
          2.2725485377242567,
          2.312078597572722,
          2.3073832245102963,
          2.34193654446819,
          2.3579918396310093,
          2.3127420998980632,
          2.275088169285027,
          2.317755354930076,
          2.3167397907526155,
          2.3206274245235283,
          2.311853448275862,
          2.335708079930495,
          2.2696137598068797,
          2.2471127717391304,
          2.263926446727961,
          2.3654773384763743,
          2.346815834767642,
          2.3114463176574978,
          2.300665869899266,
          2.3112792539151856,
          2.361130576967998,
          2.3333333333333335,
          2.311502938706969,
          2.3067033976124884,
          2.359360646702186,
          2.285076530612245,
          2.2498581426139586,
          2.2915338292596528,
          2.3062381852551983,
          2.285523044559189,
          2.340204271123491,
          2.309861653068464,
          2.27109243697479,
          2.266337448559671,
          2.3169322360357207,
          2.3641204177759576,
          2.3191489361702127,
          2.336786684782609,
          2.340631445343487,
          2.305349932705249,
          2.4059934318555007,
          2.320493066255778,
          2.348941843026162,
          2.332406377456433,
          2.3011958146487292,
          2.3643990929705216,
          2.2795209176788123,
          2.2696686491079014,
          2.3028133843848844,
          2.3157412497709364,
          2.329039301310044,
          2.3204927988894672,
          2.265995051254861,
          2.272845953002611,
          2.337207223314858,
          2.320785597381342,
          2.226987951807229,
          2.288001439107753,
          2.316598138930967,
          2.283613445378151,
          2.3379798413038815,
          2.354845195014073,
          2.347876447876448,
          2.317017543859649,
          2.2573919636087947,
          2.3194690265486724,
          2.3284968078932096,
          2.308390410958904,
          2.318273092369478,
          2.3213461538461537,
          2.3089129859825444,
          2.304770642201835,
          2.261185682326622,
          2.299962434259955,
          2.276676829268293,
          2.3826046726810084,
          2.3258785942492013,
          2.274310872894334,
          2.3160138015019283,
          2.3798156464192863,
          2.4427553444180523,
          2.4058398950131235,
          2.350297914597815,
          2.39923273657289,
          2.392474458011463,
          2.469660194174758,
          2.3943366544310436,
          2.353196099674973,
          2.33107822410148,
          2.3795777682033608,
          2.3721264367816093,
          2.3189563365282213,
          2.341088491898629,
          2.289424514200299,
          2.295932138037401,
          2.3499188750676043,
          2.388793840889649,
          2.3471216164696913,
          2.337631422336838,
          2.335485214493961,
          2.3430493273542603,
          2.2876477316050323,
          2.296586968424895,
          2.3310822818553403,
          2.349474551823614,
          2.335781210433021,
          2.2925702097404907,
          2.2409159727479184,
          2.2982354081830523,
          2.2984517813840704,
          2.3342830009496676,
          2.297165383893373,
          2.3215909090909093,
          2.3471191233651467,
          2.3203639179248934,
          2.4092042620720924,
          2.3136236516180584,
          2.31981981981982,
          2.3024,
          2.3693966332513714,
          2.4379752851711025,
          2.239736638264911,
          2.283598667160311,
          2.330668088130775,
          2.3444750294927252,
          2.3129220023282886,
          2.3481085212074895,
          2.308870680441753,
          2.276093724397837,
          2.274472891566265,
          2.330728568145254,
          2.28791490922428,
          2.2890597068287453,
          2.300550091681947,
          2.3315724599401304,
          2.2780933062880324,
          2.31951393852752,
          2.3190116171860593,
          2.3298459197260795,
          2.2893460120318263,
          2.362892525431225,
          2.290270560831392,
          2.3550802139037432,
          2.2880425155004427,
          2.305886954821045,
          2.303850641773629,
          2.3186072631973045,
          2.3103715170278636,
          2.3136651583710406,
          2.3485459562725537,
          2.3679070994985483,
          2.274608392960743,
          2.3534383403764885,
          2.314487632508834,
          2.319762996941896,
          2.290831268303672,
          2.3230433993099693,
          2.3423702556158017,
          2.338115479985831,
          2.3095639154033316,
          2.366934502069637,
          2.3333333333333335,
          2.2893674293405115,
          2.3112025769506084,
          2.3470241490777712,
          2.3934987168520103,
          2.3217543178730837,
          2.3089755213055305,
          2.3623054114158637,
          2.3101604278074865,
          2.3719452590420333,
          2.299625468164794,
          2.293322574137583,
          2.280580762250454,
          2.347386827278026,
          2.3505899349867567,
          2.2383159521050597,
          2.3000918273645548,
          2.284033613445378,
          2.359750859106529,
          2.3273453093812377,
          2.3070838460186325,
          2.3180731752160324,
          2.3193923480870215,
          2.362161092420344,
          2.313758389261745,
          2.2753069027973436,
          2.3205035971223023,
          2.3038640501719603,
          2.3195854922279793,
          2.409864436111912,
          2.3329764453961457,
          2.3928372610874,
          2.3350077279752703,
          2.2888193037391784,
          2.3594322344322345,
          2.3002140563681768,
          2.331630791681868,
          2.28343949044586,
          2.2745427790624344,
          2.3181291965732806,
          2.2785771382893687,
          2.3171477728923726,
          2.301743745261562,
          2.2848356309650053,
          2.2965017064846416,
          2.2933935166187935,
          2.3877713602867954,
          2.292452830188679,
          2.3528280107733743,
          2.3657740039190074,
          2.296936936936937,
          2.3270116000736514,
          2.32309721175584,
          2.258159653952025,
          2.2789287518948966,
          2.28953097169998,
          2.3198734648306663,
          2.401593817918377,
          2.4143556280587277,
          2.3629129491198455,
          2.3338958025732968,
          2.279755635137982,
          2.3492897450865926,
          2.3119569714522137,
          2.29645697758496,
          2.288781431334623,
          2.311569755903949,
          2.2702123514513928,
          2.260747461654785,
          2.2897366030881017,
          2.317944600562023,
          2.344039530574429,
          2.3138256087981146,
          2.391461941200161,
          2.2564903846153848,
          2.3619796662190677,
          2.262777777777778,
          2.335440537337021,
          2.2940828402366864,
          2.365148622852468,
          2.309480493228219,
          2.3164481525625744,
          2.338099902056807,
          2.358047864852182,
          2.417871900826446,
          2.3208566853482786,
          2.2932616968882917,
          2.315958128604999,
          2.3490781023409983,
          2.376074332171893,
          2.3937232524964336,
          2.351469420174742,
          2.3861830038720195,
          2.328611898016997,
          2.3742050368862886,
          2.360413290113452,
          2.3438225976768745,
          2.354154617312512,
          2.305487919085971,
          2.3599479843953186,
          2.3576143328618575,
          2.326644600744725,
          2.3189835008534043,
          2.356465680697762,
          2.384508670520231,
          2.3515184579014368,
          2.278404815650865,
          2.2781834372217276,
          2.270837457929123,
          2.277668200745124,
          2.301499281166564,
          2.269698085419735,
          2.2579580745341614,
          2.3164609053497944,
          2.296394870554077,
          2.280678605089538,
          2.2638081395348837,
          2.323954669792888,
          2.343141317861583,
          2.311153662039253,
          2.3402248093135287,
          2.2219749089437473,
          2.3114256825075836,
          2.292259786476868,
          2.355898945302919,
          2.287846889952153,
          2.309328649492584,
          2.326480765316507,
          2.2912782266418064,
          2.3426853707414828,
          2.311236687676592,
          2.3004484304932737,
          2.2927056196501674,
          2.3220556745182015,
          2.324304889741131,
          2.3433395872420264,
          2.282856571314263,
          2.316901408450704,
          2.304251012145749,
          2.333502796136248,
          2.2658783139423995,
          2.296096096096096,
          2.313180944242683,
          2.324964278424168,
          2.374296205630355,
          2.2727820152549176,
          2.244732881866065,
          2.2982784431137726,
          2.34995187680462,
          2.351474530831099,
          2.2434252051335997,
          2.2617172853393326,
          2.316947472745293,
          2.26458208057727,
          2.2924604239334587,
          2.250054788516327,
          2.2952399685287177,
          2.2682232346241458,
          2.3227141083988414,
          2.331655629139073,
          2.256508749466496,
          2.2916395222584147,
          2.2814645308924484,
          2.335236541598695,
          2.315854870775348,
          2.33602999210734,
          2.294142435735356,
          2.294292382771059,
          2.309844559585492,
          2.2516883116883117,
          2.300822797511539,
          2.346233874323762,
          2.3459296860312087,
          2.3020249892287805,
          2.341512775107513,
          2.2844988586843744,
          2.2785442911417717,
          2.328924914675768,
          2.3199910051720263,
          2.3526315789473684,
          2.351413074507565,
          2.4598375451263537,
          2.365505226480836,
          2.342339478703115,
          2.37819570966794,
          2.3711048158640224,
          2.38020030816641,
          2.318692810457516,
          2.33492315845257,
          2.29788877445932,
          2.3348937000195047,
          2.315327885190353,
          2.363910681955341,
          2.3584656084656084,
          2.409218662169758,
          2.3074676679182313,
          2.262261440591012,
          2.2780863644508154,
          2.311487758945386,
          2.2976092333058533,
          2.289628180039139,
          2.256076388888889,
          2.2916056102156164,
          2.3381590319792567,
          2.3707112970711295,
          2.2779146141215105,
          2.26143525106729,
          2.314913722267872,
          2.2141104294478526,
          2.247214484679666,
          2.2922240802675584,
          2.2661359724612735,
          2.2655038759689923,
          2.3013378636653217,
          2.254564983888292,
          2.3081872642556025,
          2.2532518722901065,
          2.274387796065837,
          2.2555730691285745,
          2.2411347517730498,
          2.342296511627907,
          2.2756838251130733,
          2.3141819735155917,
          2.2714961306964745,
          2.3219540906415537,
          2.263345195729537,
          2.283078131134668,
          2.268383880348982,
          2.309718619038116,
          2.2831907259177475,
          2.237424924924925,
          2.2013744273219493,
          2.2652208515718266,
          2.2591463414634148,
          2.290375651220181,
          2.291382517048977,
          2.227598566308244
         ],
         "xaxis": "x",
         "y": [
          16.83,
          16.46,
          17.17,
          16.77,
          16.89,
          18.76,
          18.84,
          17.03,
          15.78,
          16.08,
          17.78,
          18.34,
          20.09,
          17.19,
          16.98,
          17.71,
          16.94,
          16.93,
          17.03,
          17.12,
          17.99,
          16.87,
          16.05,
          16.81,
          17.21,
          18.53,
          20.03,
          19.14,
          17.95,
          17.46,
          17.46,
          17.94,
          15.65,
          14.6,
          14.73,
          13.96,
          13.94,
          13.65,
          13.83,
          15.01,
          14.61,
          13.88,
          14.5,
          13.54,
          14.19,
          13.88,
          13.2,
          12.91,
          13.44,
          14.25,
          13.74,
          13.43,
          13.54,
          13.59,
          13.57,
          13.7,
          14.18,
          15.44,
          14.83,
          15.07,
          14.84,
          13.54,
          13.61,
          13.34,
          13.48,
          13.3,
          13.76,
          13.99,
          13.6,
          13.91,
          13.86,
          13.19,
          14.41,
          13.33,
          13.63,
          13.93,
          16.09,
          15.92,
          17.1,
          15.77,
          15.99,
          15.96,
          15.85,
          14.84,
          14.82,
          16.46,
          16.78,
          17.89,
          17.3,
          17.13,
          16.97,
          15.98,
          17.2,
          15.68,
          15.08,
          14.45,
          13.88,
          13.57,
          13.09,
          13.82,
          14.01,
          14.45,
          14.4,
          13.84,
          13.8,
          14.23,
          13.48,
          12.82,
          13.79,
          14,
          14.11,
          15.14,
          17.54,
          17.2,
          16.9,
          18.94,
          18.22,
          17.34,
          17.52,
          17.61,
          19.78,
          18.58,
          18.49,
          17.45,
          17.7,
          17.03,
          16.09,
          16.69,
          19.32,
          17.21,
          17.88,
          19.22,
          21.4,
          21.71,
          20.37,
          18.97,
          20.19,
          20.68,
          21.27,
          19.75,
          18.14,
          16.87,
          15.66,
          14.91,
          14.89,
          14.81,
          14.45,
          15.29,
          14.17,
          14.76,
          14.16,
          14.18,
          14.32,
          13.8,
          13.41,
          13.35,
          12.85,
          12.8,
          12.46,
          12.69,
          12.69,
          12.98,
          12.92,
          12.63,
          13.08,
          12.85,
          12.97,
          13.06,
          12.35,
          12.63,
          12.07,
          12.19,
          12.48,
          12.28,
          12.56,
          12.53,
          13.67,
          13.65,
          13.03,
          null,
          12.99,
          12.43,
          12.47,
          12.45,
          null,
          13.2,
          14.04,
          14.13,
          13.35,
          13.08,
          12.76,
          12.69,
          12.44,
          12.7,
          13.25,
          13.84,
          14.79,
          14.13,
          13.3,
          13.19,
          12.55,
          13.14,
          13.45,
          13.26,
          13.6,
          13.31,
          14.35,
          13.88,
          13.85,
          13.67,
          13.06,
          12.83,
          12.79,
          12.93,
          13.93,
          15.85,
          14.38,
          14.01,
          14.24,
          14.71,
          15.42,
          15.34,
          14.54,
          13.75,
          13.74,
          13.43,
          13.84,
          13.4,
          13.11,
          13.49,
          14.46,
          14.5,
          14.44,
          14.74,
          15.22,
          13.84,
          13.75,
          14.4,
          14.41,
          14.33,
          13.82,
          13.04,
          12.92,
          13.06,
          13.19,
          13.24,
          12.78,
          13.01,
          null,
          13.65,
          14.61,
          14.33,
          16.35,
          16.03,
          15.19,
          14.98,
          15.8,
          14.91,
          17.31,
          19.23,
          18.4,
          18.21,
          18,
          18.71,
          16.94,
          15.69,
          15.97,
          15.37,
          15.03,
          14.67,
          15.65,
          15.39,
          14.68,
          13.49,
          13.49,
          13.23,
          13,
          12.69,
          12.55,
          13.6,
          13.42,
          12.45,
          12.42,
          11.99,
          12.15,
          11.86,
          12.29,
          12.77,
          11.93,
          12.36,
          12.92,
          14.28,
          14.47,
          12.92,
          13.11,
          13.16,
          12.63,
          12.58,
          12.22,
          12.74,
          12.85,
          12.04,
          11.94,
          12.66,
          12.75,
          12.3,
          12.48,
          13.28,
          13.2,
          13.33,
          12.84,
          12.55,
          12.24,
          12.44,
          12.22,
          12.03,
          12.09,
          12.26,
          12.48,
          12.37,
          12.51,
          12.85,
          12.92,
          12.46,
          13.12,
          13.19,
          14.48,
          15.93,
          16.52,
          14.91,
          14.72,
          18.04,
          18.46,
          16.39,
          16.6,
          17.69,
          16.36,
          18.59,
          23.39,
          38.57,
          27.71,
          27.85,
          23.79,
          20.37,
          20.71,
          18.12,
          16.19,
          15.23,
          14.8,
          14.65,
          15.88,
          16.27,
          17.55,
          15.86,
          16.15,
          15.43,
          17.11,
          15.65,
          15,
          15.55,
          20.72,
          21.32,
          19.9,
          22.38,
          19.45,
          19.08,
          17.69,
          17.07,
          16.56,
          17.14,
          17.61,
          18.23,
          16.33,
          16.15,
          15.89,
          15.39,
          15.41,
          15.37,
          16.96,
          16.73,
          19.26,
          18.9,
          20.49,
          19.21,
          22.64,
          21.42,
          20.86,
          20.93,
          20.46,
          19.7,
          20.64,
          19.58,
          19.11,
          18.03,
          18.37,
          18.2,
          19.24,
          19.08,
          20.33,
          19.8,
          19.34,
          20.35,
          23.16,
          21.88,
          21.98,
          20.49,
          16.27,
          15.2,
          14.94,
          14.97,
          14.71,
          14.02,
          14.31,
          16.14,
          15.58,
          16.35,
          17.16,
          16.87,
          15.24,
          14.6,
          14.1,
          14.1,
          13.9,
          13.51,
          13.34,
          13.3,
          13.45,
          13.54,
          12.77,
          14.19,
          14.18,
          13.58,
          13.92,
          13.81,
          14.69,
          15.87,
          27.62,
          24.09,
          18.36,
          16.78,
          14.27,
          null,
          14.73,
          15.95,
          17.4,
          17.35,
          null,
          17.93,
          16.13,
          16.04,
          17.82,
          17.7,
          18.07,
          19.54,
          19.19,
          18.71,
          16.12,
          16.6,
          15.97,
          15.81,
          15.06,
          15.1,
          15.02,
          14.85,
          17.9,
          16.41,
          16.56,
          15.84,
          16.43,
          18.62,
          17.21,
          15.77,
          15.5,
          16.54,
          15.81,
          16.02,
          15.89,
          15.1,
          14.77,
          15.37,
          15.35,
          15.27,
          15.66,
          18.21,
          18.98,
          19.43,
          19.1,
          21.13,
          19.63,
          22.78,
          23.51,
          21.93,
          24.87,
          23.37,
          27.86,
          26.92,
          24.23
         ],
         "yaxis": "y"
        }
       ],
       "layout": {
        "annotations": [
         {
          "font": {
           "color": "white",
           "size": 20
          },
          "showarrow": false,
          "text": "😡 Negative News",
          "x": 2.2637214563554453,
          "y": 25.759471544715446
         },
         {
          "font": {
           "color": "white",
           "size": 20
          },
          "showarrow": false,
          "text": "😐 Neutral News",
          "x": 2.2637214563554453,
          "y": 8.759471544715447
         },
         {
          "font": {
           "color": "white",
           "size": 20
          },
          "showarrow": false,
          "text": "😊 Positive News",
          "x": 2.363721456355445,
          "y": 8.759471544715447
         },
         {
          "font": {
           "color": "white",
           "size": 20
          },
          "showarrow": false,
          "text": "🤯 Uncertainty",
          "x": 2.363721456355445,
          "y": 25.759471544715446
         },
         {
          "font": {
           "color": "white",
           "size": 15
          },
          "showarrow": false,
          "text": "Bubble size = Apple Daily Return",
          "x": 1.15,
          "xref": "paper",
          "y": -0.14,
          "yref": "paper"
         }
        ],
        "coloraxis": {
         "colorbar": {
          "tickmode": "array",
          "ticktext": [
           "😡",
           "😐",
           "😊"
          ],
          "tickvals": [
           1.5,
           2.5,
           3.5
          ],
          "title": {
           "text": "Sentiment"
          }
         },
         "colorscale": [
          [
           0,
           "#4a00e0"
          ],
          [
           0.25,
           "#005eff"
          ],
          [
           0.5,
           "#00f7ff"
          ],
          [
           0.75,
           "#a6ff00"
          ],
          [
           1,
           "#f4ff00"
          ]
         ]
        },
        "font": {
         "color": "white",
         "size": 20
        },
        "height": 600,
        "legend": {
         "itemsizing": "constant",
         "tracegroupgap": 0
        },
        "margin": {
         "b": 60,
         "l": 60,
         "r": 60,
         "t": 60
        },
        "paper_bgcolor": "#03001C",
        "plot_bgcolor": "#03001C",
        "shapes": [
         {
          "line": {
           "color": "white",
           "dash": "dash",
           "width": 1
          },
          "type": "line",
          "x0": 2.313721456355445,
          "x1": 2.313721456355445,
          "y0": 0,
          "y1": 38.57
         },
         {
          "line": {
           "color": "white",
           "dash": "dash",
           "width": 1
          },
          "type": "line",
          "x0": 2.2013744273219493,
          "x1": 2.469660194174758,
          "y0": 15.759471544715447,
          "y1": 15.759471544715447
         }
        ],
        "template": {
         "data": {
          "bar": [
           {
            "error_x": {
             "color": "#2a3f5f"
            },
            "error_y": {
             "color": "#2a3f5f"
            },
            "marker": {
             "line": {
              "color": "#E5ECF6",
              "width": 0.5
             },
             "pattern": {
              "fillmode": "overlay",
              "size": 10,
              "solidity": 0.2
             }
            },
            "type": "bar"
           }
          ],
          "barpolar": [
           {
            "marker": {
             "line": {
              "color": "#E5ECF6",
              "width": 0.5
             },
             "pattern": {
              "fillmode": "overlay",
              "size": 10,
              "solidity": 0.2
             }
            },
            "type": "barpolar"
           }
          ],
          "carpet": [
           {
            "aaxis": {
             "endlinecolor": "#2a3f5f",
             "gridcolor": "white",
             "linecolor": "white",
             "minorgridcolor": "white",
             "startlinecolor": "#2a3f5f"
            },
            "baxis": {
             "endlinecolor": "#2a3f5f",
             "gridcolor": "white",
             "linecolor": "white",
             "minorgridcolor": "white",
             "startlinecolor": "#2a3f5f"
            },
            "type": "carpet"
           }
          ],
          "choropleth": [
           {
            "colorbar": {
             "outlinewidth": 0,
             "ticks": ""
            },
            "type": "choropleth"
           }
          ],
          "contour": [
           {
            "colorbar": {
             "outlinewidth": 0,
             "ticks": ""
            },
            "colorscale": [
             [
              0,
              "#0d0887"
             ],
             [
              0.1111111111111111,
              "#46039f"
             ],
             [
              0.2222222222222222,
              "#7201a8"
             ],
             [
              0.3333333333333333,
              "#9c179e"
             ],
             [
              0.4444444444444444,
              "#bd3786"
             ],
             [
              0.5555555555555556,
              "#d8576b"
             ],
             [
              0.6666666666666666,
              "#ed7953"
             ],
             [
              0.7777777777777778,
              "#fb9f3a"
             ],
             [
              0.8888888888888888,
              "#fdca26"
             ],
             [
              1,
              "#f0f921"
             ]
            ],
            "type": "contour"
           }
          ],
          "contourcarpet": [
           {
            "colorbar": {
             "outlinewidth": 0,
             "ticks": ""
            },
            "type": "contourcarpet"
           }
          ],
          "heatmap": [
           {
            "colorbar": {
             "outlinewidth": 0,
             "ticks": ""
            },
            "colorscale": [
             [
              0,
              "#0d0887"
             ],
             [
              0.1111111111111111,
              "#46039f"
             ],
             [
              0.2222222222222222,
              "#7201a8"
             ],
             [
              0.3333333333333333,
              "#9c179e"
             ],
             [
              0.4444444444444444,
              "#bd3786"
             ],
             [
              0.5555555555555556,
              "#d8576b"
             ],
             [
              0.6666666666666666,
              "#ed7953"
             ],
             [
              0.7777777777777778,
              "#fb9f3a"
             ],
             [
              0.8888888888888888,
              "#fdca26"
             ],
             [
              1,
              "#f0f921"
             ]
            ],
            "type": "heatmap"
           }
          ],
          "heatmapgl": [
           {
            "colorbar": {
             "outlinewidth": 0,
             "ticks": ""
            },
            "colorscale": [
             [
              0,
              "#0d0887"
             ],
             [
              0.1111111111111111,
              "#46039f"
             ],
             [
              0.2222222222222222,
              "#7201a8"
             ],
             [
              0.3333333333333333,
              "#9c179e"
             ],
             [
              0.4444444444444444,
              "#bd3786"
             ],
             [
              0.5555555555555556,
              "#d8576b"
             ],
             [
              0.6666666666666666,
              "#ed7953"
             ],
             [
              0.7777777777777778,
              "#fb9f3a"
             ],
             [
              0.8888888888888888,
              "#fdca26"
             ],
             [
              1,
              "#f0f921"
             ]
            ],
            "type": "heatmapgl"
           }
          ],
          "histogram": [
           {
            "marker": {
             "pattern": {
              "fillmode": "overlay",
              "size": 10,
              "solidity": 0.2
             }
            },
            "type": "histogram"
           }
          ],
          "histogram2d": [
           {
            "colorbar": {
             "outlinewidth": 0,
             "ticks": ""
            },
            "colorscale": [
             [
              0,
              "#0d0887"
             ],
             [
              0.1111111111111111,
              "#46039f"
             ],
             [
              0.2222222222222222,
              "#7201a8"
             ],
             [
              0.3333333333333333,
              "#9c179e"
             ],
             [
              0.4444444444444444,
              "#bd3786"
             ],
             [
              0.5555555555555556,
              "#d8576b"
             ],
             [
              0.6666666666666666,
              "#ed7953"
             ],
             [
              0.7777777777777778,
              "#fb9f3a"
             ],
             [
              0.8888888888888888,
              "#fdca26"
             ],
             [
              1,
              "#f0f921"
             ]
            ],
            "type": "histogram2d"
           }
          ],
          "histogram2dcontour": [
           {
            "colorbar": {
             "outlinewidth": 0,
             "ticks": ""
            },
            "colorscale": [
             [
              0,
              "#0d0887"
             ],
             [
              0.1111111111111111,
              "#46039f"
             ],
             [
              0.2222222222222222,
              "#7201a8"
             ],
             [
              0.3333333333333333,
              "#9c179e"
             ],
             [
              0.4444444444444444,
              "#bd3786"
             ],
             [
              0.5555555555555556,
              "#d8576b"
             ],
             [
              0.6666666666666666,
              "#ed7953"
             ],
             [
              0.7777777777777778,
              "#fb9f3a"
             ],
             [
              0.8888888888888888,
              "#fdca26"
             ],
             [
              1,
              "#f0f921"
             ]
            ],
            "type": "histogram2dcontour"
           }
          ],
          "mesh3d": [
           {
            "colorbar": {
             "outlinewidth": 0,
             "ticks": ""
            },
            "type": "mesh3d"
           }
          ],
          "parcoords": [
           {
            "line": {
             "colorbar": {
              "outlinewidth": 0,
              "ticks": ""
             }
            },
            "type": "parcoords"
           }
          ],
          "pie": [
           {
            "automargin": true,
            "type": "pie"
           }
          ],
          "scatter": [
           {
            "fillpattern": {
             "fillmode": "overlay",
             "size": 10,
             "solidity": 0.2
            },
            "type": "scatter"
           }
          ],
          "scatter3d": [
           {
            "line": {
             "colorbar": {
              "outlinewidth": 0,
              "ticks": ""
             }
            },
            "marker": {
             "colorbar": {
              "outlinewidth": 0,
              "ticks": ""
             }
            },
            "type": "scatter3d"
           }
          ],
          "scattercarpet": [
           {
            "marker": {
             "colorbar": {
              "outlinewidth": 0,
              "ticks": ""
             }
            },
            "type": "scattercarpet"
           }
          ],
          "scattergeo": [
           {
            "marker": {
             "colorbar": {
              "outlinewidth": 0,
              "ticks": ""
             }
            },
            "type": "scattergeo"
           }
          ],
          "scattergl": [
           {
            "marker": {
             "colorbar": {
              "outlinewidth": 0,
              "ticks": ""
             }
            },
            "type": "scattergl"
           }
          ],
          "scattermapbox": [
           {
            "marker": {
             "colorbar": {
              "outlinewidth": 0,
              "ticks": ""
             }
            },
            "type": "scattermapbox"
           }
          ],
          "scatterpolar": [
           {
            "marker": {
             "colorbar": {
              "outlinewidth": 0,
              "ticks": ""
             }
            },
            "type": "scatterpolar"
           }
          ],
          "scatterpolargl": [
           {
            "marker": {
             "colorbar": {
              "outlinewidth": 0,
              "ticks": ""
             }
            },
            "type": "scatterpolargl"
           }
          ],
          "scatterternary": [
           {
            "marker": {
             "colorbar": {
              "outlinewidth": 0,
              "ticks": ""
             }
            },
            "type": "scatterternary"
           }
          ],
          "surface": [
           {
            "colorbar": {
             "outlinewidth": 0,
             "ticks": ""
            },
            "colorscale": [
             [
              0,
              "#0d0887"
             ],
             [
              0.1111111111111111,
              "#46039f"
             ],
             [
              0.2222222222222222,
              "#7201a8"
             ],
             [
              0.3333333333333333,
              "#9c179e"
             ],
             [
              0.4444444444444444,
              "#bd3786"
             ],
             [
              0.5555555555555556,
              "#d8576b"
             ],
             [
              0.6666666666666666,
              "#ed7953"
             ],
             [
              0.7777777777777778,
              "#fb9f3a"
             ],
             [
              0.8888888888888888,
              "#fdca26"
             ],
             [
              1,
              "#f0f921"
             ]
            ],
            "type": "surface"
           }
          ],
          "table": [
           {
            "cells": {
             "fill": {
              "color": "#EBF0F8"
             },
             "line": {
              "color": "white"
             }
            },
            "header": {
             "fill": {
              "color": "#C8D4E3"
             },
             "line": {
              "color": "white"
             }
            },
            "type": "table"
           }
          ]
         },
         "layout": {
          "annotationdefaults": {
           "arrowcolor": "#2a3f5f",
           "arrowhead": 0,
           "arrowwidth": 1
          },
          "autotypenumbers": "strict",
          "coloraxis": {
           "colorbar": {
            "outlinewidth": 0,
            "ticks": ""
           }
          },
          "colorscale": {
           "diverging": [
            [
             0,
             "#8e0152"
            ],
            [
             0.1,
             "#c51b7d"
            ],
            [
             0.2,
             "#de77ae"
            ],
            [
             0.3,
             "#f1b6da"
            ],
            [
             0.4,
             "#fde0ef"
            ],
            [
             0.5,
             "#f7f7f7"
            ],
            [
             0.6,
             "#e6f5d0"
            ],
            [
             0.7,
             "#b8e186"
            ],
            [
             0.8,
             "#7fbc41"
            ],
            [
             0.9,
             "#4d9221"
            ],
            [
             1,
             "#276419"
            ]
           ],
           "sequential": [
            [
             0,
             "#0d0887"
            ],
            [
             0.1111111111111111,
             "#46039f"
            ],
            [
             0.2222222222222222,
             "#7201a8"
            ],
            [
             0.3333333333333333,
             "#9c179e"
            ],
            [
             0.4444444444444444,
             "#bd3786"
            ],
            [
             0.5555555555555556,
             "#d8576b"
            ],
            [
             0.6666666666666666,
             "#ed7953"
            ],
            [
             0.7777777777777778,
             "#fb9f3a"
            ],
            [
             0.8888888888888888,
             "#fdca26"
            ],
            [
             1,
             "#f0f921"
            ]
           ],
           "sequentialminus": [
            [
             0,
             "#0d0887"
            ],
            [
             0.1111111111111111,
             "#46039f"
            ],
            [
             0.2222222222222222,
             "#7201a8"
            ],
            [
             0.3333333333333333,
             "#9c179e"
            ],
            [
             0.4444444444444444,
             "#bd3786"
            ],
            [
             0.5555555555555556,
             "#d8576b"
            ],
            [
             0.6666666666666666,
             "#ed7953"
            ],
            [
             0.7777777777777778,
             "#fb9f3a"
            ],
            [
             0.8888888888888888,
             "#fdca26"
            ],
            [
             1,
             "#f0f921"
            ]
           ]
          },
          "colorway": [
           "#636efa",
           "#EF553B",
           "#00cc96",
           "#ab63fa",
           "#FFA15A",
           "#19d3f3",
           "#FF6692",
           "#B6E880",
           "#FF97FF",
           "#FECB52"
          ],
          "font": {
           "color": "#2a3f5f"
          },
          "geo": {
           "bgcolor": "white",
           "lakecolor": "white",
           "landcolor": "#E5ECF6",
           "showlakes": true,
           "showland": true,
           "subunitcolor": "white"
          },
          "hoverlabel": {
           "align": "left"
          },
          "hovermode": "closest",
          "mapbox": {
           "style": "light"
          },
          "paper_bgcolor": "white",
          "plot_bgcolor": "#E5ECF6",
          "polar": {
           "angularaxis": {
            "gridcolor": "white",
            "linecolor": "white",
            "ticks": ""
           },
           "bgcolor": "#E5ECF6",
           "radialaxis": {
            "gridcolor": "white",
            "linecolor": "white",
            "ticks": ""
           }
          },
          "scene": {
           "xaxis": {
            "backgroundcolor": "#E5ECF6",
            "gridcolor": "white",
            "gridwidth": 2,
            "linecolor": "white",
            "showbackground": true,
            "ticks": "",
            "zerolinecolor": "white"
           },
           "yaxis": {
            "backgroundcolor": "#E5ECF6",
            "gridcolor": "white",
            "gridwidth": 2,
            "linecolor": "white",
            "showbackground": true,
            "ticks": "",
            "zerolinecolor": "white"
           },
           "zaxis": {
            "backgroundcolor": "#E5ECF6",
            "gridcolor": "white",
            "gridwidth": 2,
            "linecolor": "white",
            "showbackground": true,
            "ticks": "",
            "zerolinecolor": "white"
           }
          },
          "shapedefaults": {
           "line": {
            "color": "#2a3f5f"
           }
          },
          "ternary": {
           "aaxis": {
            "gridcolor": "white",
            "linecolor": "white",
            "ticks": ""
           },
           "baxis": {
            "gridcolor": "white",
            "linecolor": "white",
            "ticks": ""
           },
           "bgcolor": "#E5ECF6",
           "caxis": {
            "gridcolor": "white",
            "linecolor": "white",
            "ticks": ""
           }
          },
          "title": {
           "x": 0.05
          },
          "xaxis": {
           "automargin": true,
           "gridcolor": "white",
           "linecolor": "white",
           "ticks": "",
           "title": {
            "standoff": 15
           },
           "zerolinecolor": "white",
           "zerolinewidth": 2
          },
          "yaxis": {
           "automargin": true,
           "gridcolor": "white",
           "linecolor": "white",
           "ticks": "",
           "title": {
            "standoff": 15
           },
           "zerolinecolor": "white",
           "zerolinewidth": 2
          }
         }
        },
        "title": {
         "font": {
          "color": "white",
          "size": 20
         },
         "text": "VIX vs Sentiment"
        },
        "xaxis": {
         "anchor": "y",
         "domain": [
          0,
          1
         ],
         "gridcolor": "#1C1C1C",
         "showgrid": true,
         "title": {
          "text": "Sentiment Score"
         },
         "zeroline": true,
         "zerolinecolor": "gray",
         "zerolinewidth": 1
        },
        "yaxis": {
         "anchor": "x",
         "domain": [
          0,
          1
         ],
         "gridcolor": "#1C1C1C",
         "range": [
          30,
          0
         ],
         "showgrid": true,
         "title": {
          "text": "VIX"
         },
         "zeroline": true,
         "zerolinecolor": "gray",
         "zerolinewidth": 1
        }
       }
      }
     },
     "metadata": {},
     "output_type": "display_data"
    }
   ],
   "source": [
    "import plotly.express as px\n",
    "\n",
    "colorscale=[\n",
    "    [0.0, \"#4a00e0\"],   # deep purple\n",
    "    [0.25, \"#005eff\"],  # electric blue\n",
    "    [0.5, \"#00f7ff\"],   # bright cyan\n",
    "    [0.75, \"#a6ff00\"],  # neon lime\n",
    "    [1.0, \"#f4ff00\"]    # yellow-green (high mood)\n",
    "]\n",
    "df['abs_returns'] = df['returns'].abs()\n",
    "df['returns_scaled'] = df['abs_returns'] / df['abs_returns'].max() * 100 + 4.2 # Scale to 0-100 for bubble size\n",
    "\n",
    "custom_colors_d = ['#03001C', '#2E3B84', '#B6EADA', '#2E3B84', '#03001C']\n",
    "\n",
    "def sentiment_to_emoji(score):\n",
    "    if score > 2.34:\n",
    "        return \"😊\"\n",
    "    elif score < 2.0:\n",
    "        return \"😡\"\n",
    "    else:\n",
    "        return \"😐\"\n",
    "\n",
    "df['sentiment_emoji'] = df['avg_tone'].apply(sentiment_to_emoji)\n",
    "\n",
    "fig = px.scatter(\n",
    "    df,\n",
    "    x='avg_tone',\n",
    "    y='VIXCLS',\n",
    "    size='returns_scaled',  # Replace with your daily return column\n",
    "    color='avg_tone',\n",
    "    color_continuous_scale=colorscale,\n",
    "    title='VIX vs Sentiment',\n",
    "    labels={\n",
    "        'avg_tone': 'Sentiment Score',\n",
    "        'VIXCLS': 'VIX (Fear Gauge)',\n",
    "        'daily_return': 'Apple Daily Return (%)'\n",
    "    },\n",
    "    height=600\n",
    ")\n",
    "fig.update_yaxes(range=[30, 0])\n",
    "# Layout customization for dark mode + centered axes\n",
    "fig.update_layout(\n",
    "    plot_bgcolor='#03001C',\n",
    "    paper_bgcolor='#03001C',\n",
    "    font=dict(color='white', size = 20),\n",
    "    title_font=dict(color='white', size=20),\n",
    "    coloraxis_colorbar=dict(\n",
    "        title='Sentiment',\n",
    "        tickvals=[1.5, 2.5, 3.5],  # Adjusted for your tone scale\n",
    "        ticktext=[\"😡\", \"😐\", \"😊\"],\n",
    "        tickmode='array'\n",
    "    ),\n",
    "    \n",
    "    xaxis=dict(\n",
    "        title='Sentiment Score',\n",
    "        showgrid=True,\n",
    "        gridcolor='#1C1C1C',\n",
    "        zeroline=True,\n",
    "        zerolinecolor='gray',\n",
    "        zerolinewidth=1,\n",
    "    ),\n",
    "    yaxis=dict(\n",
    "        title='VIX',\n",
    "        showgrid=True,\n",
    "        gridcolor='#1C1C1C',\n",
    "        zeroline=True,\n",
    "        zerolinecolor='gray',\n",
    "        zerolinewidth=1\n",
    "    ),\n",
    "    margin=dict(l=60, r=60, t=60, b=60)\n",
    ")\n",
    "\n",
    "x_center = df['avg_tone'].mean()\n",
    "y_center = df['VIXCLS'].mean()\n",
    "\n",
    "# Add vertical and horizontal lines to create quadrant view\n",
    "fig.add_shape(type=\"line\",\n",
    "              x0=x_center, x1=x_center,\n",
    "              y0=0, y1=df['VIXCLS'].max(),\n",
    "              line=dict(color=\"white\", width=1, dash=\"dash\"))\n",
    "\n",
    "fig.add_shape(type=\"line\",\n",
    "              x0=df['avg_tone'].min(), x1=df['avg_tone'].max(),\n",
    "              y0=y_center, y1=y_center,\n",
    "              line=dict(color=\"white\", width=1, dash=\"dash\"))\n",
    "\n",
    "fig.add_annotation(text=\"😡 Negative News\",\n",
    "                   x=x_center - 0.05, y=y_center + 10,\n",
    "                   showarrow=False, font=dict(color=\"white\", size=20))\n",
    "\n",
    "fig.add_annotation(text=\"😐 Neutral News\",\n",
    "                   x=x_center - 0.05, y=y_center - 7,\n",
    "                   showarrow=False, font=dict(color=\"white\", size=20))\n",
    "\n",
    "fig.add_annotation(text=\"😊 Positive News\",\n",
    "                   x=x_center + 0.05, y=y_center - 7,\n",
    "                   showarrow=False, font=dict(color=\"white\", size=20))\n",
    "\n",
    "fig.add_annotation(text=\"🤯 Uncertainty\",\n",
    "                   x=x_center + 0.05, y=y_center + 10,\n",
    "                   showarrow=False, font=dict(color=\"white\", size=20))\n",
    "\n",
    "\n",
    "# Annotations\n",
    "fig.add_annotation(\n",
    "    text=\"Bubble size = Apple Daily Return\",\n",
    "    xref=\"paper\", yref=\"paper\",\n",
    "    x=1.15, y=-0.14,\n",
    "    showarrow=False,\n",
    "    font=dict(color=\"white\", size=15)\n",
    ")\n",
    "\n",
    "# Add white border around bubbles\n",
    "fig.update_traces(marker=dict(line=dict(width=0.55, color='white')))\n",
    "\n",
    "fig.show()"
   ]
  },
  {
   "cell_type": "code",
   "execution_count": 155,
   "metadata": {},
   "outputs": [
    {
     "data": {
      "application/vnd.plotly.v1+json": {
       "config": {
        "plotlyServerURL": "https://plot.ly"
       },
       "data": [
        {
         "insidetextorientation": "auto",
         "labels": [
          "😡",
          "😐",
          "😃"
         ],
         "marker": {
          "colors": [
           "#B6EADA",
           "#2E3B84",
           "#03001Z"
          ]
         },
         "text": [
          "😡",
          "😐",
          "😃"
         ],
         "textfont": {
          "size": 32
         },
         "textinfo": "label+percent",
         "textposition": "inside",
         "type": "pie",
         "values": [
          22,
          394,
          83
         ]
        }
       ],
       "layout": {
        "font": {
         "color": "white",
         "size": 20
        },
        "paper_bgcolor": "#03001C",
        "plot_bgcolor": "#03001C",
        "showlegend": false,
        "template": {
         "data": {
          "bar": [
           {
            "error_x": {
             "color": "#2a3f5f"
            },
            "error_y": {
             "color": "#2a3f5f"
            },
            "marker": {
             "line": {
              "color": "#E5ECF6",
              "width": 0.5
             },
             "pattern": {
              "fillmode": "overlay",
              "size": 10,
              "solidity": 0.2
             }
            },
            "type": "bar"
           }
          ],
          "barpolar": [
           {
            "marker": {
             "line": {
              "color": "#E5ECF6",
              "width": 0.5
             },
             "pattern": {
              "fillmode": "overlay",
              "size": 10,
              "solidity": 0.2
             }
            },
            "type": "barpolar"
           }
          ],
          "carpet": [
           {
            "aaxis": {
             "endlinecolor": "#2a3f5f",
             "gridcolor": "white",
             "linecolor": "white",
             "minorgridcolor": "white",
             "startlinecolor": "#2a3f5f"
            },
            "baxis": {
             "endlinecolor": "#2a3f5f",
             "gridcolor": "white",
             "linecolor": "white",
             "minorgridcolor": "white",
             "startlinecolor": "#2a3f5f"
            },
            "type": "carpet"
           }
          ],
          "choropleth": [
           {
            "colorbar": {
             "outlinewidth": 0,
             "ticks": ""
            },
            "type": "choropleth"
           }
          ],
          "contour": [
           {
            "colorbar": {
             "outlinewidth": 0,
             "ticks": ""
            },
            "colorscale": [
             [
              0,
              "#0d0887"
             ],
             [
              0.1111111111111111,
              "#46039f"
             ],
             [
              0.2222222222222222,
              "#7201a8"
             ],
             [
              0.3333333333333333,
              "#9c179e"
             ],
             [
              0.4444444444444444,
              "#bd3786"
             ],
             [
              0.5555555555555556,
              "#d8576b"
             ],
             [
              0.6666666666666666,
              "#ed7953"
             ],
             [
              0.7777777777777778,
              "#fb9f3a"
             ],
             [
              0.8888888888888888,
              "#fdca26"
             ],
             [
              1,
              "#f0f921"
             ]
            ],
            "type": "contour"
           }
          ],
          "contourcarpet": [
           {
            "colorbar": {
             "outlinewidth": 0,
             "ticks": ""
            },
            "type": "contourcarpet"
           }
          ],
          "heatmap": [
           {
            "colorbar": {
             "outlinewidth": 0,
             "ticks": ""
            },
            "colorscale": [
             [
              0,
              "#0d0887"
             ],
             [
              0.1111111111111111,
              "#46039f"
             ],
             [
              0.2222222222222222,
              "#7201a8"
             ],
             [
              0.3333333333333333,
              "#9c179e"
             ],
             [
              0.4444444444444444,
              "#bd3786"
             ],
             [
              0.5555555555555556,
              "#d8576b"
             ],
             [
              0.6666666666666666,
              "#ed7953"
             ],
             [
              0.7777777777777778,
              "#fb9f3a"
             ],
             [
              0.8888888888888888,
              "#fdca26"
             ],
             [
              1,
              "#f0f921"
             ]
            ],
            "type": "heatmap"
           }
          ],
          "heatmapgl": [
           {
            "colorbar": {
             "outlinewidth": 0,
             "ticks": ""
            },
            "colorscale": [
             [
              0,
              "#0d0887"
             ],
             [
              0.1111111111111111,
              "#46039f"
             ],
             [
              0.2222222222222222,
              "#7201a8"
             ],
             [
              0.3333333333333333,
              "#9c179e"
             ],
             [
              0.4444444444444444,
              "#bd3786"
             ],
             [
              0.5555555555555556,
              "#d8576b"
             ],
             [
              0.6666666666666666,
              "#ed7953"
             ],
             [
              0.7777777777777778,
              "#fb9f3a"
             ],
             [
              0.8888888888888888,
              "#fdca26"
             ],
             [
              1,
              "#f0f921"
             ]
            ],
            "type": "heatmapgl"
           }
          ],
          "histogram": [
           {
            "marker": {
             "pattern": {
              "fillmode": "overlay",
              "size": 10,
              "solidity": 0.2
             }
            },
            "type": "histogram"
           }
          ],
          "histogram2d": [
           {
            "colorbar": {
             "outlinewidth": 0,
             "ticks": ""
            },
            "colorscale": [
             [
              0,
              "#0d0887"
             ],
             [
              0.1111111111111111,
              "#46039f"
             ],
             [
              0.2222222222222222,
              "#7201a8"
             ],
             [
              0.3333333333333333,
              "#9c179e"
             ],
             [
              0.4444444444444444,
              "#bd3786"
             ],
             [
              0.5555555555555556,
              "#d8576b"
             ],
             [
              0.6666666666666666,
              "#ed7953"
             ],
             [
              0.7777777777777778,
              "#fb9f3a"
             ],
             [
              0.8888888888888888,
              "#fdca26"
             ],
             [
              1,
              "#f0f921"
             ]
            ],
            "type": "histogram2d"
           }
          ],
          "histogram2dcontour": [
           {
            "colorbar": {
             "outlinewidth": 0,
             "ticks": ""
            },
            "colorscale": [
             [
              0,
              "#0d0887"
             ],
             [
              0.1111111111111111,
              "#46039f"
             ],
             [
              0.2222222222222222,
              "#7201a8"
             ],
             [
              0.3333333333333333,
              "#9c179e"
             ],
             [
              0.4444444444444444,
              "#bd3786"
             ],
             [
              0.5555555555555556,
              "#d8576b"
             ],
             [
              0.6666666666666666,
              "#ed7953"
             ],
             [
              0.7777777777777778,
              "#fb9f3a"
             ],
             [
              0.8888888888888888,
              "#fdca26"
             ],
             [
              1,
              "#f0f921"
             ]
            ],
            "type": "histogram2dcontour"
           }
          ],
          "mesh3d": [
           {
            "colorbar": {
             "outlinewidth": 0,
             "ticks": ""
            },
            "type": "mesh3d"
           }
          ],
          "parcoords": [
           {
            "line": {
             "colorbar": {
              "outlinewidth": 0,
              "ticks": ""
             }
            },
            "type": "parcoords"
           }
          ],
          "pie": [
           {
            "automargin": true,
            "type": "pie"
           }
          ],
          "scatter": [
           {
            "fillpattern": {
             "fillmode": "overlay",
             "size": 10,
             "solidity": 0.2
            },
            "type": "scatter"
           }
          ],
          "scatter3d": [
           {
            "line": {
             "colorbar": {
              "outlinewidth": 0,
              "ticks": ""
             }
            },
            "marker": {
             "colorbar": {
              "outlinewidth": 0,
              "ticks": ""
             }
            },
            "type": "scatter3d"
           }
          ],
          "scattercarpet": [
           {
            "marker": {
             "colorbar": {
              "outlinewidth": 0,
              "ticks": ""
             }
            },
            "type": "scattercarpet"
           }
          ],
          "scattergeo": [
           {
            "marker": {
             "colorbar": {
              "outlinewidth": 0,
              "ticks": ""
             }
            },
            "type": "scattergeo"
           }
          ],
          "scattergl": [
           {
            "marker": {
             "colorbar": {
              "outlinewidth": 0,
              "ticks": ""
             }
            },
            "type": "scattergl"
           }
          ],
          "scattermapbox": [
           {
            "marker": {
             "colorbar": {
              "outlinewidth": 0,
              "ticks": ""
             }
            },
            "type": "scattermapbox"
           }
          ],
          "scatterpolar": [
           {
            "marker": {
             "colorbar": {
              "outlinewidth": 0,
              "ticks": ""
             }
            },
            "type": "scatterpolar"
           }
          ],
          "scatterpolargl": [
           {
            "marker": {
             "colorbar": {
              "outlinewidth": 0,
              "ticks": ""
             }
            },
            "type": "scatterpolargl"
           }
          ],
          "scatterternary": [
           {
            "marker": {
             "colorbar": {
              "outlinewidth": 0,
              "ticks": ""
             }
            },
            "type": "scatterternary"
           }
          ],
          "surface": [
           {
            "colorbar": {
             "outlinewidth": 0,
             "ticks": ""
            },
            "colorscale": [
             [
              0,
              "#0d0887"
             ],
             [
              0.1111111111111111,
              "#46039f"
             ],
             [
              0.2222222222222222,
              "#7201a8"
             ],
             [
              0.3333333333333333,
              "#9c179e"
             ],
             [
              0.4444444444444444,
              "#bd3786"
             ],
             [
              0.5555555555555556,
              "#d8576b"
             ],
             [
              0.6666666666666666,
              "#ed7953"
             ],
             [
              0.7777777777777778,
              "#fb9f3a"
             ],
             [
              0.8888888888888888,
              "#fdca26"
             ],
             [
              1,
              "#f0f921"
             ]
            ],
            "type": "surface"
           }
          ],
          "table": [
           {
            "cells": {
             "fill": {
              "color": "#EBF0F8"
             },
             "line": {
              "color": "white"
             }
            },
            "header": {
             "fill": {
              "color": "#C8D4E3"
             },
             "line": {
              "color": "white"
             }
            },
            "type": "table"
           }
          ]
         },
         "layout": {
          "annotationdefaults": {
           "arrowcolor": "#2a3f5f",
           "arrowhead": 0,
           "arrowwidth": 1
          },
          "autotypenumbers": "strict",
          "coloraxis": {
           "colorbar": {
            "outlinewidth": 0,
            "ticks": ""
           }
          },
          "colorscale": {
           "diverging": [
            [
             0,
             "#8e0152"
            ],
            [
             0.1,
             "#c51b7d"
            ],
            [
             0.2,
             "#de77ae"
            ],
            [
             0.3,
             "#f1b6da"
            ],
            [
             0.4,
             "#fde0ef"
            ],
            [
             0.5,
             "#f7f7f7"
            ],
            [
             0.6,
             "#e6f5d0"
            ],
            [
             0.7,
             "#b8e186"
            ],
            [
             0.8,
             "#7fbc41"
            ],
            [
             0.9,
             "#4d9221"
            ],
            [
             1,
             "#276419"
            ]
           ],
           "sequential": [
            [
             0,
             "#0d0887"
            ],
            [
             0.1111111111111111,
             "#46039f"
            ],
            [
             0.2222222222222222,
             "#7201a8"
            ],
            [
             0.3333333333333333,
             "#9c179e"
            ],
            [
             0.4444444444444444,
             "#bd3786"
            ],
            [
             0.5555555555555556,
             "#d8576b"
            ],
            [
             0.6666666666666666,
             "#ed7953"
            ],
            [
             0.7777777777777778,
             "#fb9f3a"
            ],
            [
             0.8888888888888888,
             "#fdca26"
            ],
            [
             1,
             "#f0f921"
            ]
           ],
           "sequentialminus": [
            [
             0,
             "#0d0887"
            ],
            [
             0.1111111111111111,
             "#46039f"
            ],
            [
             0.2222222222222222,
             "#7201a8"
            ],
            [
             0.3333333333333333,
             "#9c179e"
            ],
            [
             0.4444444444444444,
             "#bd3786"
            ],
            [
             0.5555555555555556,
             "#d8576b"
            ],
            [
             0.6666666666666666,
             "#ed7953"
            ],
            [
             0.7777777777777778,
             "#fb9f3a"
            ],
            [
             0.8888888888888888,
             "#fdca26"
            ],
            [
             1,
             "#f0f921"
            ]
           ]
          },
          "colorway": [
           "#636efa",
           "#EF553B",
           "#00cc96",
           "#ab63fa",
           "#FFA15A",
           "#19d3f3",
           "#FF6692",
           "#B6E880",
           "#FF97FF",
           "#FECB52"
          ],
          "font": {
           "color": "#2a3f5f"
          },
          "geo": {
           "bgcolor": "white",
           "lakecolor": "white",
           "landcolor": "#E5ECF6",
           "showlakes": true,
           "showland": true,
           "subunitcolor": "white"
          },
          "hoverlabel": {
           "align": "left"
          },
          "hovermode": "closest",
          "mapbox": {
           "style": "light"
          },
          "paper_bgcolor": "white",
          "plot_bgcolor": "#E5ECF6",
          "polar": {
           "angularaxis": {
            "gridcolor": "white",
            "linecolor": "white",
            "ticks": ""
           },
           "bgcolor": "#E5ECF6",
           "radialaxis": {
            "gridcolor": "white",
            "linecolor": "white",
            "ticks": ""
           }
          },
          "scene": {
           "xaxis": {
            "backgroundcolor": "#E5ECF6",
            "gridcolor": "white",
            "gridwidth": 2,
            "linecolor": "white",
            "showbackground": true,
            "ticks": "",
            "zerolinecolor": "white"
           },
           "yaxis": {
            "backgroundcolor": "#E5ECF6",
            "gridcolor": "white",
            "gridwidth": 2,
            "linecolor": "white",
            "showbackground": true,
            "ticks": "",
            "zerolinecolor": "white"
           },
           "zaxis": {
            "backgroundcolor": "#E5ECF6",
            "gridcolor": "white",
            "gridwidth": 2,
            "linecolor": "white",
            "showbackground": true,
            "ticks": "",
            "zerolinecolor": "white"
           }
          },
          "shapedefaults": {
           "line": {
            "color": "#2a3f5f"
           }
          },
          "ternary": {
           "aaxis": {
            "gridcolor": "white",
            "linecolor": "white",
            "ticks": ""
           },
           "baxis": {
            "gridcolor": "white",
            "linecolor": "white",
            "ticks": ""
           },
           "bgcolor": "#E5ECF6",
           "caxis": {
            "gridcolor": "white",
            "linecolor": "white",
            "ticks": ""
           }
          },
          "title": {
           "x": 0.05
          },
          "xaxis": {
           "automargin": true,
           "gridcolor": "white",
           "linecolor": "white",
           "ticks": "",
           "title": {
            "standoff": 15
           },
           "zerolinecolor": "white",
           "zerolinewidth": 2
          },
          "yaxis": {
           "automargin": true,
           "gridcolor": "white",
           "linecolor": "white",
           "ticks": "",
           "title": {
            "standoff": 15
           },
           "zerolinecolor": "white",
           "zerolinewidth": 2
          }
         }
        },
        "title": {
         "text": "Sentiment Distribution Based on Tone"
        }
       }
      }
     },
     "metadata": {},
     "output_type": "display_data"
    }
   ],
   "source": [
    "import plotly.graph_objects as go\n",
    "\n",
    "# Define function to map tone to emojis\n",
    "def tone_to_emoji(tone):\n",
    "    if tone > 2.35:\n",
    "        return '😃'  # Positive sentiment\n",
    "    elif tone > 2.25:\n",
    "        return '😐'  # Neutral sentiment\n",
    "    else:\n",
    "        return '😡'  # Negative sentiment\n",
    "\n",
    "# Apply the function to the DataFrame\n",
    "df['tone_emoji'] = df['avg_tone'].apply(tone_to_emoji)\n",
    "\n",
    "# Get the value counts for the sentiment emojis\n",
    "emoji_labels = ['😡', '😐', '😃']\n",
    "emoji_counts = df['tone_emoji'].value_counts().reindex(emoji_labels, fill_value=0)\n",
    "\n",
    "# Create a pie chart with emojis as labels\n",
    "fig = go.Figure(data=[go.Pie(\n",
    "    labels=emoji_counts.index,  # Emojis as labels\n",
    "    values=emoji_counts.values,\n",
    "    text=emoji_counts.index,# Counts for each emoji\n",
    "    textinfo='label+percent',\n",
    "    textposition='inside',# Display both label and percentage\n",
    "    insidetextorientation='auto',# Display on hover\n",
    "    marker=dict(colors=['#B6EADA', '#2E3B84', '#03001Z']),\n",
    "    textfont=dict(size=32)# Custom color scheme (can adjust)\n",
    ")])\n",
    "\n",
    "# Update layout for a cleaner look\n",
    "fig.update_layout(\n",
    "    title='Sentiment Distribution Based on Tone',\n",
    "    showlegend=False,  # Hide legend since the emojis themselves act as labels\n",
    "    font=dict(color='white', size=20),\n",
    "    plot_bgcolor='#03001C',  # Dark background\n",
    "    paper_bgcolor='#03001C'  # Dark background for the paper as well\n",
    ")\n",
    "\n",
    "# Show the plot\n",
    "fig.show()"
   ]
  },
  {
   "cell_type": "code",
   "execution_count": 28,
   "metadata": {},
   "outputs": [
    {
     "name": "stdout",
     "output_type": "stream",
     "text": [
      "2023-04-13 00:00:00: Return=-13.29%, Tone=2.32, VIX=17.80 😐\n",
      "2023-04-19 00:00:00: Return=10.19%, Tone=2.29, VIX=16.46 😐\n",
      "2023-04-18 00:00:00: Return=7.86%, Tone=2.30, VIX=16.83 😐\n",
      "2024-01-29 00:00:00: Return=-6.78%, Tone=2.34, VIX=13.60 😐\n",
      "2024-03-05 00:00:00: Return=-5.64%, Tone=2.29, VIX=14.46 😐\n"
     ]
    }
   ],
   "source": [
    "extremes = df.loc[df['adjClose'].abs().nlargest(5).index]\n",
    "for _, row in extremes.iterrows():\n",
    "    print(f\"{row['date']}: Return={row['adjClose']:.2f}%, Tone={row['avg_tone']:.2f}, VIX={row['VIXCLS']:.2f} {tone_to_emoji(row['avg_tone'])}\")\n"
   ]
  },
  {
   "cell_type": "code",
   "execution_count": 77,
   "metadata": {},
   "outputs": [
    {
     "data": {
      "application/vnd.plotly.v1+json": {
       "config": {
        "plotlyServerURL": "https://plot.ly"
       },
       "data": [
        {
         "marker": {
          "color": "#00FFFF"
         },
         "name": "P/E Ratio",
         "text": [
          "27.9",
          "32.4",
          "27.8",
          "29.8",
          "26.5",
          "32.0",
          "37.3",
          "40.4"
         ],
         "textposition": "outside",
         "type": "bar",
         "x": [
          "Q1 2023",
          "Q2 2023",
          "Q3 2023",
          "Q4 2023",
          "Q1 2024",
          "Q2 2024",
          "Q3 2024",
          "Q4 2024"
         ],
         "y": [
          27.9,
          32.44,
          27.79,
          29.8,
          26.54,
          31.96,
          37.28,
          40.44
         ]
        },
        {
         "marker": {
          "color": "#1ABC9C"
         },
         "name": "EPS Growth (%)",
         "text": [
          "-0.2%",
          "1.2%",
          "3.0%",
          "4.9%",
          "0.0%",
          "2.0%",
          "-7.3%",
          "3.4%"
         ],
         "textposition": "outside",
         "type": "bar",
         "x": [
          "Q1 2023",
          "Q2 2023",
          "Q3 2023",
          "Q4 2023",
          "Q1 2024",
          "Q2 2024",
          "Q3 2024",
          "Q4 2024"
         ],
         "y": [
          -0.2,
          1.2,
          3,
          4.9,
          0,
          2,
          -7.3,
          3.4
         ]
        },
        {
         "marker": {
          "color": "#FF4C4C"
         },
         "name": "Stock Return (%)",
         "text": [
          "14.4%",
          "-14.1%",
          "10.6%",
          "-6.5%",
          "9.0%",
          "-21.7%",
          "-4.3%",
          "-9.8%"
         ],
         "textposition": "outside",
         "type": "bar",
         "x": [
          "Q1 2023",
          "Q2 2023",
          "Q3 2023",
          "Q4 2023",
          "Q1 2024",
          "Q2 2024",
          "Q3 2024",
          "Q4 2024"
         ],
         "y": [
          14.45,
          -14.0933,
          10.6151,
          -6.5247,
          9.041,
          -21.66,
          -4.2931,
          -9.7665
         ]
        }
       ],
       "layout": {
        "barmode": "group",
        "font": {
         "size": 20
        },
        "height": 600,
        "legend": {
         "x": 0.6,
         "y": 1.22
        },
        "paper_bgcolor": "#03001C",
        "plot_bgcolor": "#03001C",
        "template": {
         "data": {
          "bar": [
           {
            "error_x": {
             "color": "#f2f5fa"
            },
            "error_y": {
             "color": "#f2f5fa"
            },
            "marker": {
             "line": {
              "color": "rgb(17,17,17)",
              "width": 0.5
             },
             "pattern": {
              "fillmode": "overlay",
              "size": 10,
              "solidity": 0.2
             }
            },
            "type": "bar"
           }
          ],
          "barpolar": [
           {
            "marker": {
             "line": {
              "color": "rgb(17,17,17)",
              "width": 0.5
             },
             "pattern": {
              "fillmode": "overlay",
              "size": 10,
              "solidity": 0.2
             }
            },
            "type": "barpolar"
           }
          ],
          "carpet": [
           {
            "aaxis": {
             "endlinecolor": "#A2B1C6",
             "gridcolor": "#506784",
             "linecolor": "#506784",
             "minorgridcolor": "#506784",
             "startlinecolor": "#A2B1C6"
            },
            "baxis": {
             "endlinecolor": "#A2B1C6",
             "gridcolor": "#506784",
             "linecolor": "#506784",
             "minorgridcolor": "#506784",
             "startlinecolor": "#A2B1C6"
            },
            "type": "carpet"
           }
          ],
          "choropleth": [
           {
            "colorbar": {
             "outlinewidth": 0,
             "ticks": ""
            },
            "type": "choropleth"
           }
          ],
          "contour": [
           {
            "colorbar": {
             "outlinewidth": 0,
             "ticks": ""
            },
            "colorscale": [
             [
              0,
              "#0d0887"
             ],
             [
              0.1111111111111111,
              "#46039f"
             ],
             [
              0.2222222222222222,
              "#7201a8"
             ],
             [
              0.3333333333333333,
              "#9c179e"
             ],
             [
              0.4444444444444444,
              "#bd3786"
             ],
             [
              0.5555555555555556,
              "#d8576b"
             ],
             [
              0.6666666666666666,
              "#ed7953"
             ],
             [
              0.7777777777777778,
              "#fb9f3a"
             ],
             [
              0.8888888888888888,
              "#fdca26"
             ],
             [
              1,
              "#f0f921"
             ]
            ],
            "type": "contour"
           }
          ],
          "contourcarpet": [
           {
            "colorbar": {
             "outlinewidth": 0,
             "ticks": ""
            },
            "type": "contourcarpet"
           }
          ],
          "heatmap": [
           {
            "colorbar": {
             "outlinewidth": 0,
             "ticks": ""
            },
            "colorscale": [
             [
              0,
              "#0d0887"
             ],
             [
              0.1111111111111111,
              "#46039f"
             ],
             [
              0.2222222222222222,
              "#7201a8"
             ],
             [
              0.3333333333333333,
              "#9c179e"
             ],
             [
              0.4444444444444444,
              "#bd3786"
             ],
             [
              0.5555555555555556,
              "#d8576b"
             ],
             [
              0.6666666666666666,
              "#ed7953"
             ],
             [
              0.7777777777777778,
              "#fb9f3a"
             ],
             [
              0.8888888888888888,
              "#fdca26"
             ],
             [
              1,
              "#f0f921"
             ]
            ],
            "type": "heatmap"
           }
          ],
          "heatmapgl": [
           {
            "colorbar": {
             "outlinewidth": 0,
             "ticks": ""
            },
            "colorscale": [
             [
              0,
              "#0d0887"
             ],
             [
              0.1111111111111111,
              "#46039f"
             ],
             [
              0.2222222222222222,
              "#7201a8"
             ],
             [
              0.3333333333333333,
              "#9c179e"
             ],
             [
              0.4444444444444444,
              "#bd3786"
             ],
             [
              0.5555555555555556,
              "#d8576b"
             ],
             [
              0.6666666666666666,
              "#ed7953"
             ],
             [
              0.7777777777777778,
              "#fb9f3a"
             ],
             [
              0.8888888888888888,
              "#fdca26"
             ],
             [
              1,
              "#f0f921"
             ]
            ],
            "type": "heatmapgl"
           }
          ],
          "histogram": [
           {
            "marker": {
             "pattern": {
              "fillmode": "overlay",
              "size": 10,
              "solidity": 0.2
             }
            },
            "type": "histogram"
           }
          ],
          "histogram2d": [
           {
            "colorbar": {
             "outlinewidth": 0,
             "ticks": ""
            },
            "colorscale": [
             [
              0,
              "#0d0887"
             ],
             [
              0.1111111111111111,
              "#46039f"
             ],
             [
              0.2222222222222222,
              "#7201a8"
             ],
             [
              0.3333333333333333,
              "#9c179e"
             ],
             [
              0.4444444444444444,
              "#bd3786"
             ],
             [
              0.5555555555555556,
              "#d8576b"
             ],
             [
              0.6666666666666666,
              "#ed7953"
             ],
             [
              0.7777777777777778,
              "#fb9f3a"
             ],
             [
              0.8888888888888888,
              "#fdca26"
             ],
             [
              1,
              "#f0f921"
             ]
            ],
            "type": "histogram2d"
           }
          ],
          "histogram2dcontour": [
           {
            "colorbar": {
             "outlinewidth": 0,
             "ticks": ""
            },
            "colorscale": [
             [
              0,
              "#0d0887"
             ],
             [
              0.1111111111111111,
              "#46039f"
             ],
             [
              0.2222222222222222,
              "#7201a8"
             ],
             [
              0.3333333333333333,
              "#9c179e"
             ],
             [
              0.4444444444444444,
              "#bd3786"
             ],
             [
              0.5555555555555556,
              "#d8576b"
             ],
             [
              0.6666666666666666,
              "#ed7953"
             ],
             [
              0.7777777777777778,
              "#fb9f3a"
             ],
             [
              0.8888888888888888,
              "#fdca26"
             ],
             [
              1,
              "#f0f921"
             ]
            ],
            "type": "histogram2dcontour"
           }
          ],
          "mesh3d": [
           {
            "colorbar": {
             "outlinewidth": 0,
             "ticks": ""
            },
            "type": "mesh3d"
           }
          ],
          "parcoords": [
           {
            "line": {
             "colorbar": {
              "outlinewidth": 0,
              "ticks": ""
             }
            },
            "type": "parcoords"
           }
          ],
          "pie": [
           {
            "automargin": true,
            "type": "pie"
           }
          ],
          "scatter": [
           {
            "marker": {
             "line": {
              "color": "#283442"
             }
            },
            "type": "scatter"
           }
          ],
          "scatter3d": [
           {
            "line": {
             "colorbar": {
              "outlinewidth": 0,
              "ticks": ""
             }
            },
            "marker": {
             "colorbar": {
              "outlinewidth": 0,
              "ticks": ""
             }
            },
            "type": "scatter3d"
           }
          ],
          "scattercarpet": [
           {
            "marker": {
             "colorbar": {
              "outlinewidth": 0,
              "ticks": ""
             }
            },
            "type": "scattercarpet"
           }
          ],
          "scattergeo": [
           {
            "marker": {
             "colorbar": {
              "outlinewidth": 0,
              "ticks": ""
             }
            },
            "type": "scattergeo"
           }
          ],
          "scattergl": [
           {
            "marker": {
             "line": {
              "color": "#283442"
             }
            },
            "type": "scattergl"
           }
          ],
          "scattermapbox": [
           {
            "marker": {
             "colorbar": {
              "outlinewidth": 0,
              "ticks": ""
             }
            },
            "type": "scattermapbox"
           }
          ],
          "scatterpolar": [
           {
            "marker": {
             "colorbar": {
              "outlinewidth": 0,
              "ticks": ""
             }
            },
            "type": "scatterpolar"
           }
          ],
          "scatterpolargl": [
           {
            "marker": {
             "colorbar": {
              "outlinewidth": 0,
              "ticks": ""
             }
            },
            "type": "scatterpolargl"
           }
          ],
          "scatterternary": [
           {
            "marker": {
             "colorbar": {
              "outlinewidth": 0,
              "ticks": ""
             }
            },
            "type": "scatterternary"
           }
          ],
          "surface": [
           {
            "colorbar": {
             "outlinewidth": 0,
             "ticks": ""
            },
            "colorscale": [
             [
              0,
              "#0d0887"
             ],
             [
              0.1111111111111111,
              "#46039f"
             ],
             [
              0.2222222222222222,
              "#7201a8"
             ],
             [
              0.3333333333333333,
              "#9c179e"
             ],
             [
              0.4444444444444444,
              "#bd3786"
             ],
             [
              0.5555555555555556,
              "#d8576b"
             ],
             [
              0.6666666666666666,
              "#ed7953"
             ],
             [
              0.7777777777777778,
              "#fb9f3a"
             ],
             [
              0.8888888888888888,
              "#fdca26"
             ],
             [
              1,
              "#f0f921"
             ]
            ],
            "type": "surface"
           }
          ],
          "table": [
           {
            "cells": {
             "fill": {
              "color": "#506784"
             },
             "line": {
              "color": "rgb(17,17,17)"
             }
            },
            "header": {
             "fill": {
              "color": "#2a3f5f"
             },
             "line": {
              "color": "rgb(17,17,17)"
             }
            },
            "type": "table"
           }
          ]
         },
         "layout": {
          "annotationdefaults": {
           "arrowcolor": "#f2f5fa",
           "arrowhead": 0,
           "arrowwidth": 1
          },
          "autotypenumbers": "strict",
          "coloraxis": {
           "colorbar": {
            "outlinewidth": 0,
            "ticks": ""
           }
          },
          "colorscale": {
           "diverging": [
            [
             0,
             "#8e0152"
            ],
            [
             0.1,
             "#c51b7d"
            ],
            [
             0.2,
             "#de77ae"
            ],
            [
             0.3,
             "#f1b6da"
            ],
            [
             0.4,
             "#fde0ef"
            ],
            [
             0.5,
             "#f7f7f7"
            ],
            [
             0.6,
             "#e6f5d0"
            ],
            [
             0.7,
             "#b8e186"
            ],
            [
             0.8,
             "#7fbc41"
            ],
            [
             0.9,
             "#4d9221"
            ],
            [
             1,
             "#276419"
            ]
           ],
           "sequential": [
            [
             0,
             "#0d0887"
            ],
            [
             0.1111111111111111,
             "#46039f"
            ],
            [
             0.2222222222222222,
             "#7201a8"
            ],
            [
             0.3333333333333333,
             "#9c179e"
            ],
            [
             0.4444444444444444,
             "#bd3786"
            ],
            [
             0.5555555555555556,
             "#d8576b"
            ],
            [
             0.6666666666666666,
             "#ed7953"
            ],
            [
             0.7777777777777778,
             "#fb9f3a"
            ],
            [
             0.8888888888888888,
             "#fdca26"
            ],
            [
             1,
             "#f0f921"
            ]
           ],
           "sequentialminus": [
            [
             0,
             "#0d0887"
            ],
            [
             0.1111111111111111,
             "#46039f"
            ],
            [
             0.2222222222222222,
             "#7201a8"
            ],
            [
             0.3333333333333333,
             "#9c179e"
            ],
            [
             0.4444444444444444,
             "#bd3786"
            ],
            [
             0.5555555555555556,
             "#d8576b"
            ],
            [
             0.6666666666666666,
             "#ed7953"
            ],
            [
             0.7777777777777778,
             "#fb9f3a"
            ],
            [
             0.8888888888888888,
             "#fdca26"
            ],
            [
             1,
             "#f0f921"
            ]
           ]
          },
          "colorway": [
           "#636efa",
           "#EF553B",
           "#00cc96",
           "#ab63fa",
           "#FFA15A",
           "#19d3f3",
           "#FF6692",
           "#B6E880",
           "#FF97FF",
           "#FECB52"
          ],
          "font": {
           "color": "#f2f5fa"
          },
          "geo": {
           "bgcolor": "rgb(17,17,17)",
           "lakecolor": "rgb(17,17,17)",
           "landcolor": "rgb(17,17,17)",
           "showlakes": true,
           "showland": true,
           "subunitcolor": "#506784"
          },
          "hoverlabel": {
           "align": "left"
          },
          "hovermode": "closest",
          "mapbox": {
           "style": "dark"
          },
          "paper_bgcolor": "rgb(17,17,17)",
          "plot_bgcolor": "rgb(17,17,17)",
          "polar": {
           "angularaxis": {
            "gridcolor": "#506784",
            "linecolor": "#506784",
            "ticks": ""
           },
           "bgcolor": "rgb(17,17,17)",
           "radialaxis": {
            "gridcolor": "#506784",
            "linecolor": "#506784",
            "ticks": ""
           }
          },
          "scene": {
           "xaxis": {
            "backgroundcolor": "rgb(17,17,17)",
            "gridcolor": "#506784",
            "gridwidth": 2,
            "linecolor": "#506784",
            "showbackground": true,
            "ticks": "",
            "zerolinecolor": "#C8D4E3"
           },
           "yaxis": {
            "backgroundcolor": "rgb(17,17,17)",
            "gridcolor": "#506784",
            "gridwidth": 2,
            "linecolor": "#506784",
            "showbackground": true,
            "ticks": "",
            "zerolinecolor": "#C8D4E3"
           },
           "zaxis": {
            "backgroundcolor": "rgb(17,17,17)",
            "gridcolor": "#506784",
            "gridwidth": 2,
            "linecolor": "#506784",
            "showbackground": true,
            "ticks": "",
            "zerolinecolor": "#C8D4E3"
           }
          },
          "shapedefaults": {
           "line": {
            "color": "#f2f5fa"
           }
          },
          "sliderdefaults": {
           "bgcolor": "#C8D4E3",
           "bordercolor": "rgb(17,17,17)",
           "borderwidth": 1,
           "tickwidth": 0
          },
          "ternary": {
           "aaxis": {
            "gridcolor": "#506784",
            "linecolor": "#506784",
            "ticks": ""
           },
           "baxis": {
            "gridcolor": "#506784",
            "linecolor": "#506784",
            "ticks": ""
           },
           "bgcolor": "rgb(17,17,17)",
           "caxis": {
            "gridcolor": "#506784",
            "linecolor": "#506784",
            "ticks": ""
           }
          },
          "title": {
           "x": 0.05
          },
          "updatemenudefaults": {
           "bgcolor": "#506784",
           "borderwidth": 0
          },
          "xaxis": {
           "automargin": true,
           "gridcolor": "#283442",
           "linecolor": "#506784",
           "ticks": "",
           "title": {
            "standoff": 15
           },
           "zerolinecolor": "#283442",
           "zerolinewidth": 2
          },
          "yaxis": {
           "automargin": true,
           "gridcolor": "#283442",
           "linecolor": "#506784",
           "ticks": "",
           "title": {
            "standoff": 15
           },
           "zerolinecolor": "#283442",
           "zerolinewidth": 2
          }
         }
        },
        "title": {
         "text": "Apple Valuation vs. Returns"
        },
        "xaxis": {
         "tickangle": -45
        },
        "yaxis": {
         "title": {
          "text": "Value"
         }
        }
       }
      }
     },
     "metadata": {},
     "output_type": "display_data"
    }
   ],
   "source": [
    "import plotly.graph_objects as go\n",
    "\n",
    "# Data\n",
    "quarters = ['Q1 2023', 'Q2 2023', 'Q3 2023', 'Q4 2023',\n",
    "            'Q1 2024', 'Q2 2024', 'Q3 2024', 'Q4 2024']\n",
    "pe_ratios = [27.9, 32.44, 27.79, 29.8, 26.54, 31.96, 37.28, 40.44]\n",
    "eps_growth = [-0.2, 1.2, 3, 4.9, 0, 2, -7.3, 3.4]\n",
    "returns = [14.45, -14.0933, 10.6151, -6.5247, 9.0410, -21.6600, -4.2931, -9.7665]\n",
    "\n",
    "# Create grouped bar chart\n",
    "fig = go.Figure(data=[\n",
    "    go.Bar(name='P/E Ratio', x=quarters, y=pe_ratios, marker_color='#00FFFF',text=[f'{v:.1f}' for v in pe_ratios],\n",
    "        textposition='outside'),\n",
    "    go.Bar(name='EPS Growth (%)', x=quarters, y=eps_growth, marker_color='#1ABC9C',text=[f'{v:.1f}%' for v in eps_growth],\n",
    "        textposition='outside'),\n",
    "    go.Bar(name='Stock Return (%)', x=quarters, y=returns, marker_color='#FF4C4C',text=[f'{v:.1f}%' for v in returns],\n",
    "        textposition='outside')\n",
    "])\n",
    "\n",
    "# Update layout for grouping and slanting x-axis labels\n",
    "fig.update_layout(\n",
    "    barmode='group',\n",
    "    title='Apple Valuation vs. Returns',\n",
    "    yaxis_title='Value',\n",
    "    template='plotly_dark',\n",
    "    height=600,\n",
    "    legend=dict(x=0.6, y=1.22),\n",
    "    xaxis=dict(tickangle=-45),\n",
    "    font=dict(size=20),\n",
    "    plot_bgcolor='#03001C',\n",
    "    paper_bgcolor='#03001C'\n",
    ")\n",
    "\n",
    "# Show figure\n",
    "fig.show()"
   ]
  },
  {
   "cell_type": "markdown",
   "metadata": {},
   "source": []
  },
  {
   "cell_type": "markdown",
   "metadata": {},
   "source": [
    "Dual Axis Line"
   ]
  },
  {
   "cell_type": "markdown",
   "metadata": {},
   "source": [
    "Heatmap"
   ]
  },
  {
   "cell_type": "markdown",
   "metadata": {},
   "source": [
    "Word Cloud "
   ]
  },
  {
   "cell_type": "markdown",
   "metadata": {},
   "source": [
    "Bubble Chart "
   ]
  },
  {
   "cell_type": "markdown",
   "metadata": {},
   "source": []
  }
 ],
 "metadata": {
  "kernelspec": {
   "display_name": "base",
   "language": "python",
   "name": "python3"
  },
  "language_info": {
   "codemirror_mode": {
    "name": "ipython",
    "version": 3
   },
   "file_extension": ".py",
   "mimetype": "text/x-python",
   "name": "python",
   "nbconvert_exporter": "python",
   "pygments_lexer": "ipython3",
   "version": "3.12.2"
  }
 },
 "nbformat": 4,
 "nbformat_minor": 2
}
